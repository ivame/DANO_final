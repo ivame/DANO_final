{
  "cells": [
    {
      "cell_type": "markdown",
      "metadata": {
        "colab_type": "text",
        "id": "view-in-github"
      },
      "source": [
        "<a href=\"https://colab.research.google.com/github/ivame/DANO_final/blob/main/Important_conversion_2.ipynb\" target=\"_parent\"><img src=\"https://colab.research.google.com/assets/colab-badge.svg\" alt=\"Open In Colab\"/></a>"
      ]
    },
    {
      "cell_type": "code",
      "execution_count": 2,
      "metadata": {
        "id": "-eevo9qo-o7O"
      },
      "outputs": [],
      "source": [
        "# импорт библиотек\n",
        "import pandas as pd\n",
        "import numpy as np\n",
        "import seaborn as sns\n",
        "import matplotlib.pyplot as plt\n",
        "import seaborn as sns\n",
        "import json"
      ]
    },
    {
      "cell_type": "code",
      "execution_count": 3,
      "metadata": {
        "colab": {
          "base_uri": "https://localhost:8080/"
        },
        "id": "dKiLUP51c77t",
        "outputId": "b63afffc-303a-4fb5-e5f1-36c0dcc1da8b"
      },
      "outputs": [
        {
          "name": "stdout",
          "output_type": "stream",
          "text": [
            "Mounted at /content/drive\n"
          ]
        }
      ],
      "source": [
        "from google.colab import drive\n",
        "drive.mount('/content/drive')"
      ]
    },
    {
      "cell_type": "code",
      "execution_count": 4,
      "metadata": {
        "id": "StF0_x2rKiRY"
      },
      "outputs": [],
      "source": [
        "def make_group(event: str):\n",
        "  # Посещение корзины с последующим оформлением заказа\n",
        "  g1 = ['Посещение корзины с добавленными товарами', 'Ввод промокода']\n",
        "\n",
        "  # 1е шаги оформления\n",
        "  g2 = ['Клик на кнопку Перейти к оформлению', 'Выбор радиобаттона eSIM', 'Выбор радиобаттона обычной SIM']\n",
        "\n",
        "  # Изменение тарифа\n",
        "  g3 = ['Выбор другого тарифа или номера в корзине']\n",
        "\n",
        "  # Ввод личных данных\n",
        "  g4 = ['Ввод контактного номера', 'Ввод имени', 'Ввод email',\n",
        "        'Клик на кнопку Продолжить 1 (Экран ввода контактных данных)', 'Клик на кнопку Продолжить 2 (Экран выбора региона)']\n",
        "\n",
        "  # Оформление доставки\n",
        "  g5 = ['Клик на кнопку Продолжить 3 (Экран выбора способа получения)', 'Клик на кнопку Продолжить 4 (Экран выбора адреса доставки/самовывоза)']\n",
        "\n",
        "  # Заполнение паспортных данных\n",
        "  g6 = ['Включение блока паспортных данных', 'Успешное заполнение всех полей паспортных данных']\n",
        "\n",
        "  # Покупка\n",
        "  g7 = ['Покупка']\n",
        "\n",
        "  if event in g1:\n",
        "    return 1\n",
        "  elif event in g2:\n",
        "    return 2\n",
        "  elif event in g3:\n",
        "    return 3\n",
        "  elif event in g4:\n",
        "    return 4\n",
        "  elif event in g5:\n",
        "    return 5\n",
        "  elif event in g6:\n",
        "    return 6\n",
        "  elif event in g7:\n",
        "    return 7"
      ]
    },
    {
      "cell_type": "code",
      "execution_count": 5,
      "metadata": {
        "id": "Zgk4434jyE-i"
      },
      "outputs": [],
      "source": [
        "def good_events(arr):\n",
        "    ''' Функция убирает те действия, которые повторяются, а также циклы повторяющихся действий. '''\n",
        "    ans = [arr[0]]\n",
        "    m = arr[0]\n",
        "    for i in range(1, len(arr)):\n",
        "        if arr[i] > arr[i-1] and arr[i] > m:\n",
        "            ans.append(arr[i])\n",
        "            m = arr[i]\n",
        "    return ans"
      ]
    },
    {
      "cell_type": "code",
      "execution_count": 6,
      "metadata": {
        "id": "4_rzsn62OVh4"
      },
      "outputs": [],
      "source": [
        "def add_event(line: str):\n",
        "    ans = ''\n",
        "    minimum = 1\n",
        "    maximum = max(line)\n",
        "    for i in range(int(minimum), int(maximum)+1):\n",
        "        i = str(i)\n",
        "        ans = ans + i if ((i in '36') and (i in line)) or (i not in '36') else ans\n",
        "    return ans\n"
      ]
    },
    {
      "cell_type": "code",
      "execution_count": 7,
      "metadata": {
        "id": "iahGDb20ziV1"
      },
      "outputs": [],
      "source": [
        "def sessia_name(df_sessions):\n",
        "  df_sessions = df_sessions[['client_id', 'event_name', 'event_time']]\n",
        "  df_sessions = df_sessions.sort_values('event_time')\n",
        "  df_sessions['event_name'] = df_sessions.event_name.apply(lambda x: make_group(x))\n",
        "  df_sessions = df_sessions.groupby(['client_id'])['event_name'].agg(lambda x: good_events(x.to_list())).reset_index().sort_values('event_name')\n",
        "\n",
        "  return df_sessions"
      ]
    },
    {
      "cell_type": "code",
      "execution_count": 8,
      "metadata": {
        "id": "JO-2c0N-82Hp"
      },
      "outputs": [],
      "source": [
        "def seesia_right_name(df_sessions):\n",
        "  df_sessions_buy = df_sessions.copy()\n",
        "\n",
        "  # Сессии без покупки\n",
        "  df_sessions = df_sessions[df_sessions.event_name.apply(lambda x: 7 not in x)]\n",
        "\n",
        "  # Сессии с покупкой\n",
        "  df_sessions_buy = df_sessions_buy[df_sessions_buy.event_name.apply(lambda x: 7 in x)]\n",
        "  df_sessions_buy_copy = df_sessions_buy.copy()\n",
        "\n",
        "  df_sessions_buy_copy.event_name = df_sessions_buy_copy.event_name.apply(lambda x: x[0:(x.index(7)+1)])\n",
        "  df_sessions_buy_copy = df_sessions_buy_copy[df_sessions_buy_copy['event_name'].apply(lambda x: len(x) > 0)]\n",
        "  df_sessions_buy.event_name = df_sessions_buy.event_name.apply(lambda x: x[(x.index(7)+1):])\n",
        "  df_sessions_buy = df_sessions_buy[df_sessions_buy['event_name'].apply(lambda x: len(x) > 0)]\n",
        "\n",
        "  # Объединение всех сессий в 1 датафрейм\n",
        "  df_sessions_buy = pd.concat([df_sessions_buy, df_sessions_buy_copy]).reset_index()\n",
        "  df_sessions = pd.concat([df_sessions_buy, df_sessions]).reset_index()[['client_id', 'event_name']]\n",
        "\n",
        "  # Заполение обязательных действий в случаи их пропусков\n",
        "  df_sessions.event_name = df_sessions.event_name.apply(lambda x: ''.join(str(elem) for elem in x))\n",
        "  df_sessions['event_name'] = df_sessions.event_name.apply(lambda x: add_event(x))\n",
        "\n",
        "  return df_sessions"
      ]
    },
    {
      "cell_type": "code",
      "execution_count": 9,
      "metadata": {
        "id": "GJj8-TEfhB5g"
      },
      "outputs": [],
      "source": [
        "# можно не запускать ульяне\n",
        "def konversia(vibor, is_ad: str, sex: str, region: str):\n",
        "  event = ['1', '2', '4', '5', '7']\n",
        "  count = len(vibor)\n",
        "  is_ad = 'no' if is_ad == '(not set)' else 'yes'\n",
        "\n",
        "  print(f'Region: {region}, Gender: {sex}, Marketing: {is_ad}')\n",
        "\n",
        "  for i in range(1, len(event)):\n",
        "    cnt = len(vibor[vibor['event_name'].apply(lambda x: event[i] in x)])\n",
        "    print('\\t', event[i-1],' --> ',event[i],' : ',round(cnt/count*100,2),\"%\", sep='')\n",
        "    count = cnt\n",
        "\n",
        "  count = len(vibor)\n",
        "  print('\\t', 1,' --> 7 : ',round(cnt/count*100,2),\"%\", sep='')"
      ]
    },
    {
      "cell_type": "code",
      "execution_count": 10,
      "metadata": {
        "id": "L6VvPmozq06d"
      },
      "outputs": [],
      "source": [
        "# можно не запускать ульяне\n",
        "def konversia_all(vibor):\n",
        "  event = ['1', '2', '4', '5', '7']\n",
        "  count = len(vibor)\n",
        "\n",
        "\n",
        "  for i in range(1, len(event)):\n",
        "    cnt = len(vibor[vibor['event_name'].apply(lambda x: event[i] in x)])\n",
        "    print('\\t', event[i-1],' --> ',event[i],' : ',round(cnt/count*100,2),\"%\", sep='')\n",
        "    count = cnt\n",
        "\n",
        "  count = len(vibor)\n",
        "  print('\\t', 1,' --> 7 : ',round(cnt/count*100,2),\"%\", sep='')"
      ]
    },
    {
      "cell_type": "code",
      "execution_count": null,
      "metadata": {
        "colab": {
          "base_uri": "https://localhost:8080/"
        },
        "id": "yQKsV3kOk6sZ",
        "outputId": "c7e7d1c7-353a-4ea8-efe6-ee892639fe6f"
      },
      "outputs": [
        {
          "name": "stdout",
          "output_type": "stream",
          "text": [
            "Region: small_regions, Gender: Female, Marketing: yes\n",
            "\t1 --> 2 : 55.49%\n",
            "\t2 --> 4 : 55.37%\n",
            "\t4 --> 5 : 80.61%\n",
            "\t5 --> 7 : 78.48%\n",
            "\t1 --> 7 : 19.44%\n"
          ]
        }
      ],
      "source": [
        "viborka = pd.read_csv('/content/drive/MyDrive/Colab Notebooks/for_nelli_conversions_1.csv')\n",
        "\n",
        "is_ad = '1'\n",
        "sex = 'Female'\n",
        "region = 'small_regions'\n",
        "\n",
        "viborka = sessia_name(viborka)\n",
        "viborka = seesia_right_name(viborka)\n",
        "\n",
        "konversia(viborka, is_ad, sex, region)"
      ]
    },
    {
      "cell_type": "code",
      "execution_count": null,
      "metadata": {
        "colab": {
          "base_uri": "https://localhost:8080/"
        },
        "id": "7ati4LwaoM9a",
        "outputId": "5000f821-2939-45de-f8f0-77b36aa58d7e"
      },
      "outputs": [
        {
          "name": "stdout",
          "output_type": "stream",
          "text": [
            "Region: small_regions, Gender: Male, Marketing: yes\n",
            "\t1 --> 2 : 50.7%\n",
            "\t2 --> 4 : 56.02%\n",
            "\t4 --> 5 : 90.11%\n",
            "\t5 --> 7 : 85.44%\n",
            "\t1 --> 7 : 21.87%\n"
          ]
        }
      ],
      "source": [
        "viborka = pd.read_csv('/content/drive/MyDrive/Colab Notebooks/for_nelli_conversions_2.csv')\n",
        "\n",
        "is_ad = '1'\n",
        "sex = 'Male'\n",
        "region = 'small_regions'\n",
        "\n",
        "viborka = sessia_name(viborka)\n",
        "viborka = seesia_right_name(viborka)\n",
        "\n",
        "konversia(viborka, is_ad, sex, region)"
      ]
    },
    {
      "cell_type": "code",
      "execution_count": null,
      "metadata": {
        "colab": {
          "base_uri": "https://localhost:8080/"
        },
        "id": "wRodJ0JnoyPK",
        "outputId": "46ae89f1-4b78-44eb-b0be-23ba792a25d4"
      },
      "outputs": [
        {
          "name": "stdout",
          "output_type": "stream",
          "text": [
            "Region: big_regions, Gender: Female, Marketing: yes\n",
            "\t1 --> 2 : 49.29%\n",
            "\t2 --> 4 : 53.55%\n",
            "\t4 --> 5 : 87.07%\n",
            "\t5 --> 7 : 87.32%\n",
            "\t1 --> 7 : 20.07%\n"
          ]
        }
      ],
      "source": [
        "viborka = pd.read_csv('/content/drive/MyDrive/Colab Notebooks/for_nelli_conversions_3.csv')\n",
        "\n",
        "is_ad = '1'\n",
        "sex = 'Female'\n",
        "region = 'big_regions'\n",
        "\n",
        "viborka = sessia_name(viborka)\n",
        "viborka = seesia_right_name(viborka)\n",
        "\n",
        "konversia(viborka, is_ad, sex, region)"
      ]
    },
    {
      "cell_type": "code",
      "execution_count": null,
      "metadata": {
        "colab": {
          "base_uri": "https://localhost:8080/"
        },
        "id": "8QWS_GkrpE28",
        "outputId": "9bb10a0c-55ec-4d52-cefc-83f55162faa3"
      },
      "outputs": [
        {
          "name": "stderr",
          "output_type": "stream",
          "text": [
            "<ipython-input-207-52326cf1b333>:1: DtypeWarning: Columns (5) have mixed types. Specify dtype option on import or set low_memory=False.\n",
            "  viborka = pd.read_csv('/content/drive/MyDrive/Dano/tele2_dataset.csv')\n"
          ]
        },
        {
          "name": "stdout",
          "output_type": "stream",
          "text": [
            "\t1 --> 2 : 49.47%\n",
            "\t2 --> 4 : 50.0%\n",
            "\t4 --> 5 : 84.66%\n",
            "\t5 --> 7 : 82.41%\n",
            "\t1 --> 7 : 17.26%\n"
          ]
        }
      ],
      "source": [
        "viborka = pd.read_csv('/content/drive/MyDrive/Dano/tele2_dataset.csv')\n",
        "\n",
        "\n",
        "viborka = sessia_name(viborka)\n",
        "viborka = seesia_right_name(viborka)\n",
        "\n",
        "konversia_all(viborka)"
      ]
    },
    {
      "cell_type": "code",
      "execution_count": 13,
      "metadata": {
        "colab": {
          "base_uri": "https://localhost:8080/"
        },
        "id": "0GOGAEodtz7v",
        "outputId": "10125195-bfa9-404e-895e-58e4acaeb41c"
      },
      "outputs": [
        {
          "name": "stderr",
          "output_type": "stream",
          "text": [
            "<ipython-input-13-42afc203e43c>:1: DtypeWarning: Columns (5) have mixed types. Specify dtype option on import or set low_memory=False.\n",
            "  viborka = pd.read_csv('/content/drive/MyDrive/Dano/tele2_dataset.csv')\n"
          ]
        },
        {
          "data": {
            "text/plain": [
              "[22503, 11132, 6976, 5566, 4712, 334, 3883]"
            ]
          },
          "execution_count": 13,
          "metadata": {},
          "output_type": "execute_result"
        }
      ],
      "source": [
        "# надо ульяне!!!\n",
        "viborka = pd.read_csv('/content/drive/MyDrive/Dano/tele2_dataset.csv')\n",
        "\n",
        "\n",
        "viborka = sessia_name(viborka)\n",
        "viborka = seesia_right_name(viborka)\n",
        "event_count = []\n",
        "\n",
        "for i in range(1, 8):\n",
        "  viborka['d_'+str(i)] = viborka['event_name'].apply(lambda x: x.count(str(i)))\n",
        "  event_count.append(viborka['d_'+str(i)].sum())\n",
        "\n",
        "event_count"
      ]
    },
    {
      "cell_type": "code",
      "execution_count": 12,
      "metadata": {
        "colab": {
          "base_uri": "https://localhost:8080/",
          "height": 423
        },
        "id": "cuSIg30oBDRg",
        "outputId": "18875054-373c-4b72-83a1-c2094f693ea2"
      },
      "outputs": [
        {
          "data": {
            "text/html": [
              "\n",
              "  <div id=\"df-3b09402f-5e33-48db-b8fc-3fcd2a955e88\" class=\"colab-df-container\">\n",
              "    <div>\n",
              "<style scoped>\n",
              "    .dataframe tbody tr th:only-of-type {\n",
              "        vertical-align: middle;\n",
              "    }\n",
              "\n",
              "    .dataframe tbody tr th {\n",
              "        vertical-align: top;\n",
              "    }\n",
              "\n",
              "    .dataframe thead th {\n",
              "        text-align: right;\n",
              "    }\n",
              "</style>\n",
              "<table border=\"1\" class=\"dataframe\">\n",
              "  <thead>\n",
              "    <tr style=\"text-align: right;\">\n",
              "      <th></th>\n",
              "      <th>client_id</th>\n",
              "      <th>event_name</th>\n",
              "      <th>d_1</th>\n",
              "      <th>d_2</th>\n",
              "      <th>d_3</th>\n",
              "      <th>d_4</th>\n",
              "      <th>d_5</th>\n",
              "      <th>d_6</th>\n",
              "      <th>d_7</th>\n",
              "    </tr>\n",
              "  </thead>\n",
              "  <tbody>\n",
              "    <tr>\n",
              "      <th>0</th>\n",
              "      <td>775786135.166859</td>\n",
              "      <td>1234567</td>\n",
              "      <td>1</td>\n",
              "      <td>1</td>\n",
              "      <td>1</td>\n",
              "      <td>1</td>\n",
              "      <td>1</td>\n",
              "      <td>1</td>\n",
              "      <td>1</td>\n",
              "    </tr>\n",
              "    <tr>\n",
              "      <th>1</th>\n",
              "      <td>1124148272.166868</td>\n",
              "      <td>1234567</td>\n",
              "      <td>1</td>\n",
              "      <td>1</td>\n",
              "      <td>1</td>\n",
              "      <td>1</td>\n",
              "      <td>1</td>\n",
              "      <td>1</td>\n",
              "      <td>1</td>\n",
              "    </tr>\n",
              "    <tr>\n",
              "      <th>2</th>\n",
              "      <td>2098039614.166889</td>\n",
              "      <td>1234567</td>\n",
              "      <td>1</td>\n",
              "      <td>1</td>\n",
              "      <td>1</td>\n",
              "      <td>1</td>\n",
              "      <td>1</td>\n",
              "      <td>1</td>\n",
              "      <td>1</td>\n",
              "    </tr>\n",
              "    <tr>\n",
              "      <th>3</th>\n",
              "      <td>942281205.166834</td>\n",
              "      <td>1234567</td>\n",
              "      <td>1</td>\n",
              "      <td>1</td>\n",
              "      <td>1</td>\n",
              "      <td>1</td>\n",
              "      <td>1</td>\n",
              "      <td>1</td>\n",
              "      <td>1</td>\n",
              "    </tr>\n",
              "    <tr>\n",
              "      <th>4</th>\n",
              "      <td>1886756800.1667705537</td>\n",
              "      <td>1234567</td>\n",
              "      <td>1</td>\n",
              "      <td>1</td>\n",
              "      <td>1</td>\n",
              "      <td>1</td>\n",
              "      <td>1</td>\n",
              "      <td>1</td>\n",
              "      <td>1</td>\n",
              "    </tr>\n",
              "    <tr>\n",
              "      <th>...</th>\n",
              "      <td>...</td>\n",
              "      <td>...</td>\n",
              "      <td>...</td>\n",
              "      <td>...</td>\n",
              "      <td>...</td>\n",
              "      <td>...</td>\n",
              "      <td>...</td>\n",
              "      <td>...</td>\n",
              "      <td>...</td>\n",
              "    </tr>\n",
              "    <tr>\n",
              "      <th>22498</th>\n",
              "      <td>1664098714.166409</td>\n",
              "      <td>124</td>\n",
              "      <td>1</td>\n",
              "      <td>1</td>\n",
              "      <td>0</td>\n",
              "      <td>1</td>\n",
              "      <td>0</td>\n",
              "      <td>0</td>\n",
              "      <td>0</td>\n",
              "    </tr>\n",
              "    <tr>\n",
              "      <th>22499</th>\n",
              "      <td>277491001.166807</td>\n",
              "      <td>1245</td>\n",
              "      <td>1</td>\n",
              "      <td>1</td>\n",
              "      <td>0</td>\n",
              "      <td>1</td>\n",
              "      <td>1</td>\n",
              "      <td>0</td>\n",
              "      <td>0</td>\n",
              "    </tr>\n",
              "    <tr>\n",
              "      <th>22500</th>\n",
              "      <td>1667647084.166765</td>\n",
              "      <td>1245</td>\n",
              "      <td>1</td>\n",
              "      <td>1</td>\n",
              "      <td>0</td>\n",
              "      <td>1</td>\n",
              "      <td>1</td>\n",
              "      <td>0</td>\n",
              "      <td>0</td>\n",
              "    </tr>\n",
              "    <tr>\n",
              "      <th>22501</th>\n",
              "      <td>69868234.166935</td>\n",
              "      <td>1245</td>\n",
              "      <td>1</td>\n",
              "      <td>1</td>\n",
              "      <td>0</td>\n",
              "      <td>1</td>\n",
              "      <td>1</td>\n",
              "      <td>0</td>\n",
              "      <td>0</td>\n",
              "    </tr>\n",
              "    <tr>\n",
              "      <th>22502</th>\n",
              "      <td>1006695481.1668139754</td>\n",
              "      <td>1245</td>\n",
              "      <td>1</td>\n",
              "      <td>1</td>\n",
              "      <td>0</td>\n",
              "      <td>1</td>\n",
              "      <td>1</td>\n",
              "      <td>0</td>\n",
              "      <td>0</td>\n",
              "    </tr>\n",
              "  </tbody>\n",
              "</table>\n",
              "<p>22503 rows × 9 columns</p>\n",
              "</div>\n",
              "    <div class=\"colab-df-buttons\">\n",
              "\n",
              "  <div class=\"colab-df-container\">\n",
              "    <button class=\"colab-df-convert\" onclick=\"convertToInteractive('df-3b09402f-5e33-48db-b8fc-3fcd2a955e88')\"\n",
              "            title=\"Convert this dataframe to an interactive table.\"\n",
              "            style=\"display:none;\">\n",
              "\n",
              "  <svg xmlns=\"http://www.w3.org/2000/svg\" height=\"24px\" viewBox=\"0 -960 960 960\">\n",
              "    <path d=\"M120-120v-720h720v720H120Zm60-500h600v-160H180v160Zm220 220h160v-160H400v160Zm0 220h160v-160H400v160ZM180-400h160v-160H180v160Zm440 0h160v-160H620v160ZM180-180h160v-160H180v160Zm440 0h160v-160H620v160Z\"/>\n",
              "  </svg>\n",
              "    </button>\n",
              "\n",
              "  <style>\n",
              "    .colab-df-container {\n",
              "      display:flex;\n",
              "      gap: 12px;\n",
              "    }\n",
              "\n",
              "    .colab-df-convert {\n",
              "      background-color: #E8F0FE;\n",
              "      border: none;\n",
              "      border-radius: 50%;\n",
              "      cursor: pointer;\n",
              "      display: none;\n",
              "      fill: #1967D2;\n",
              "      height: 32px;\n",
              "      padding: 0 0 0 0;\n",
              "      width: 32px;\n",
              "    }\n",
              "\n",
              "    .colab-df-convert:hover {\n",
              "      background-color: #E2EBFA;\n",
              "      box-shadow: 0px 1px 2px rgba(60, 64, 67, 0.3), 0px 1px 3px 1px rgba(60, 64, 67, 0.15);\n",
              "      fill: #174EA6;\n",
              "    }\n",
              "\n",
              "    .colab-df-buttons div {\n",
              "      margin-bottom: 4px;\n",
              "    }\n",
              "\n",
              "    [theme=dark] .colab-df-convert {\n",
              "      background-color: #3B4455;\n",
              "      fill: #D2E3FC;\n",
              "    }\n",
              "\n",
              "    [theme=dark] .colab-df-convert:hover {\n",
              "      background-color: #434B5C;\n",
              "      box-shadow: 0px 1px 3px 1px rgba(0, 0, 0, 0.15);\n",
              "      filter: drop-shadow(0px 1px 2px rgba(0, 0, 0, 0.3));\n",
              "      fill: #FFFFFF;\n",
              "    }\n",
              "  </style>\n",
              "\n",
              "    <script>\n",
              "      const buttonEl =\n",
              "        document.querySelector('#df-3b09402f-5e33-48db-b8fc-3fcd2a955e88 button.colab-df-convert');\n",
              "      buttonEl.style.display =\n",
              "        google.colab.kernel.accessAllowed ? 'block' : 'none';\n",
              "\n",
              "      async function convertToInteractive(key) {\n",
              "        const element = document.querySelector('#df-3b09402f-5e33-48db-b8fc-3fcd2a955e88');\n",
              "        const dataTable =\n",
              "          await google.colab.kernel.invokeFunction('convertToInteractive',\n",
              "                                                    [key], {});\n",
              "        if (!dataTable) return;\n",
              "\n",
              "        const docLinkHtml = 'Like what you see? Visit the ' +\n",
              "          '<a target=\"_blank\" href=https://colab.research.google.com/notebooks/data_table.ipynb>data table notebook</a>'\n",
              "          + ' to learn more about interactive tables.';\n",
              "        element.innerHTML = '';\n",
              "        dataTable['output_type'] = 'display_data';\n",
              "        await google.colab.output.renderOutput(dataTable, element);\n",
              "        const docLink = document.createElement('div');\n",
              "        docLink.innerHTML = docLinkHtml;\n",
              "        element.appendChild(docLink);\n",
              "      }\n",
              "    </script>\n",
              "  </div>\n",
              "\n",
              "\n",
              "<div id=\"df-03de8200-b6e5-49b0-aa0e-f9c253bc12fd\">\n",
              "  <button class=\"colab-df-quickchart\" onclick=\"quickchart('df-03de8200-b6e5-49b0-aa0e-f9c253bc12fd')\"\n",
              "            title=\"Suggest charts\"\n",
              "            style=\"display:none;\">\n",
              "\n",
              "<svg xmlns=\"http://www.w3.org/2000/svg\" height=\"24px\"viewBox=\"0 0 24 24\"\n",
              "     width=\"24px\">\n",
              "    <g>\n",
              "        <path d=\"M19 3H5c-1.1 0-2 .9-2 2v14c0 1.1.9 2 2 2h14c1.1 0 2-.9 2-2V5c0-1.1-.9-2-2-2zM9 17H7v-7h2v7zm4 0h-2V7h2v10zm4 0h-2v-4h2v4z\"/>\n",
              "    </g>\n",
              "</svg>\n",
              "  </button>\n",
              "\n",
              "<style>\n",
              "  .colab-df-quickchart {\n",
              "      --bg-color: #E8F0FE;\n",
              "      --fill-color: #1967D2;\n",
              "      --hover-bg-color: #E2EBFA;\n",
              "      --hover-fill-color: #174EA6;\n",
              "      --disabled-fill-color: #AAA;\n",
              "      --disabled-bg-color: #DDD;\n",
              "  }\n",
              "\n",
              "  [theme=dark] .colab-df-quickchart {\n",
              "      --bg-color: #3B4455;\n",
              "      --fill-color: #D2E3FC;\n",
              "      --hover-bg-color: #434B5C;\n",
              "      --hover-fill-color: #FFFFFF;\n",
              "      --disabled-bg-color: #3B4455;\n",
              "      --disabled-fill-color: #666;\n",
              "  }\n",
              "\n",
              "  .colab-df-quickchart {\n",
              "    background-color: var(--bg-color);\n",
              "    border: none;\n",
              "    border-radius: 50%;\n",
              "    cursor: pointer;\n",
              "    display: none;\n",
              "    fill: var(--fill-color);\n",
              "    height: 32px;\n",
              "    padding: 0;\n",
              "    width: 32px;\n",
              "  }\n",
              "\n",
              "  .colab-df-quickchart:hover {\n",
              "    background-color: var(--hover-bg-color);\n",
              "    box-shadow: 0 1px 2px rgba(60, 64, 67, 0.3), 0 1px 3px 1px rgba(60, 64, 67, 0.15);\n",
              "    fill: var(--button-hover-fill-color);\n",
              "  }\n",
              "\n",
              "  .colab-df-quickchart-complete:disabled,\n",
              "  .colab-df-quickchart-complete:disabled:hover {\n",
              "    background-color: var(--disabled-bg-color);\n",
              "    fill: var(--disabled-fill-color);\n",
              "    box-shadow: none;\n",
              "  }\n",
              "\n",
              "  .colab-df-spinner {\n",
              "    border: 2px solid var(--fill-color);\n",
              "    border-color: transparent;\n",
              "    border-bottom-color: var(--fill-color);\n",
              "    animation:\n",
              "      spin 1s steps(1) infinite;\n",
              "  }\n",
              "\n",
              "  @keyframes spin {\n",
              "    0% {\n",
              "      border-color: transparent;\n",
              "      border-bottom-color: var(--fill-color);\n",
              "      border-left-color: var(--fill-color);\n",
              "    }\n",
              "    20% {\n",
              "      border-color: transparent;\n",
              "      border-left-color: var(--fill-color);\n",
              "      border-top-color: var(--fill-color);\n",
              "    }\n",
              "    30% {\n",
              "      border-color: transparent;\n",
              "      border-left-color: var(--fill-color);\n",
              "      border-top-color: var(--fill-color);\n",
              "      border-right-color: var(--fill-color);\n",
              "    }\n",
              "    40% {\n",
              "      border-color: transparent;\n",
              "      border-right-color: var(--fill-color);\n",
              "      border-top-color: var(--fill-color);\n",
              "    }\n",
              "    60% {\n",
              "      border-color: transparent;\n",
              "      border-right-color: var(--fill-color);\n",
              "    }\n",
              "    80% {\n",
              "      border-color: transparent;\n",
              "      border-right-color: var(--fill-color);\n",
              "      border-bottom-color: var(--fill-color);\n",
              "    }\n",
              "    90% {\n",
              "      border-color: transparent;\n",
              "      border-bottom-color: var(--fill-color);\n",
              "    }\n",
              "  }\n",
              "</style>\n",
              "\n",
              "  <script>\n",
              "    async function quickchart(key) {\n",
              "      const quickchartButtonEl =\n",
              "        document.querySelector('#' + key + ' button');\n",
              "      quickchartButtonEl.disabled = true;  // To prevent multiple clicks.\n",
              "      quickchartButtonEl.classList.add('colab-df-spinner');\n",
              "      try {\n",
              "        const charts = await google.colab.kernel.invokeFunction(\n",
              "            'suggestCharts', [key], {});\n",
              "      } catch (error) {\n",
              "        console.error('Error during call to suggestCharts:', error);\n",
              "      }\n",
              "      quickchartButtonEl.classList.remove('colab-df-spinner');\n",
              "      quickchartButtonEl.classList.add('colab-df-quickchart-complete');\n",
              "    }\n",
              "    (() => {\n",
              "      let quickchartButtonEl =\n",
              "        document.querySelector('#df-03de8200-b6e5-49b0-aa0e-f9c253bc12fd button');\n",
              "      quickchartButtonEl.style.display =\n",
              "        google.colab.kernel.accessAllowed ? 'block' : 'none';\n",
              "    })();\n",
              "  </script>\n",
              "</div>\n",
              "    </div>\n",
              "  </div>\n"
            ],
            "text/plain": [
              "                   client_id event_name  d_1  d_2  d_3  d_4  d_5  d_6  d_7\n",
              "0           775786135.166859    1234567    1    1    1    1    1    1    1\n",
              "1          1124148272.166868    1234567    1    1    1    1    1    1    1\n",
              "2          2098039614.166889    1234567    1    1    1    1    1    1    1\n",
              "3           942281205.166834    1234567    1    1    1    1    1    1    1\n",
              "4      1886756800.1667705537    1234567    1    1    1    1    1    1    1\n",
              "...                      ...        ...  ...  ...  ...  ...  ...  ...  ...\n",
              "22498      1664098714.166409        124    1    1    0    1    0    0    0\n",
              "22499       277491001.166807       1245    1    1    0    1    1    0    0\n",
              "22500      1667647084.166765       1245    1    1    0    1    1    0    0\n",
              "22501        69868234.166935       1245    1    1    0    1    1    0    0\n",
              "22502  1006695481.1668139754       1245    1    1    0    1    1    0    0\n",
              "\n",
              "[22503 rows x 9 columns]"
            ]
          },
          "execution_count": 12,
          "metadata": {},
          "output_type": "execute_result"
        }
      ],
      "source": [
        "viborka"
      ]
    },
    {
      "cell_type": "code",
      "execution_count": 21,
      "metadata": {
        "colab": {
          "base_uri": "https://localhost:8080/"
        },
        "id": "myTYhx5gDD4c",
        "outputId": "15ecd358-b0b8-4258-c14a-ba06d93e721a"
      },
      "outputs": [
        {
          "name": "stdout",
          "output_type": "stream",
          "text": [
            "0 1 1\n",
            "1 0 0\n",
            "1 1 0\n"
          ]
        }
      ],
      "source": [
        "#  (x ∨ y) → (z ≡ x).\n",
        "\n",
        "for x in range(0, 2):\n",
        "  for y in range(0, 2):\n",
        "    for z in range(0, 2):\n",
        "      if ((x or y) <= (z == x)) == 0:\n",
        "        print(x, y, z)\n",
        "\n"
      ]
    },
    {
      "cell_type": "code",
      "execution_count": null,
      "metadata": {
        "id": "b8v5h1KVECfw"
      },
      "outputs": [],
      "source": []
    }
  ],
  "metadata": {
    "colab": {
      "include_colab_link": true,
      "provenance": []
    },
    "kernelspec": {
      "display_name": "Python 3",
      "name": "python3"
    },
    "language_info": {
      "name": "python"
    }
  },
  "nbformat": 4,
  "nbformat_minor": 0
}
