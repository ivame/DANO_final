{
 "cells": [
  {
   "cell_type": "code",
   "execution_count": 1,
   "id": "60923deb-20f5-4efe-b3e1-13128cdd1f9d",
   "metadata": {},
   "outputs": [],
   "source": [
    "import numpy as np\n",
    "import pandas as pd\n",
    "import matplotlib.pyplot as plt\n",
    "import seaborn as sns\n",
    "import warnings\n",
    "\n",
    "warnings.filterwarnings('ignore')\n",
    "sns.set_theme()"
   ]
  },
  {
   "cell_type": "code",
   "execution_count": 16,
   "id": "d69e80a5-d415-4812-8f54-84347c0364b0",
   "metadata": {},
   "outputs": [],
   "source": [
    "def make_group(event: str):\n",
    "  # Посещение корзины с последующим оформлением заказа\n",
    "  g1 = ['Посещение корзины с добавленными товарами', 'Клик на кнопку Перейти к оформлению', 'Выбор радиобаттона eSIM',\n",
    "        'Выбор радиобаттона обычной SIM', 'Выбор другого тарифа или номера в корзине']\n",
    "  \n",
    "  # Ввод личных данных\n",
    "  g2 = ['Ввод контактного номера', 'Ввод имени', 'Ввод email', 'Ввод промокода']\n",
    "\n",
    "  # Оформление доставки\n",
    "  g3 = ['Клик на кнопку Продолжить 1 (Экран ввода контактных данных)', 'Клик на кнопку Продолжить 2 (Экран выбора региона)',\n",
    "        'Клик на кнопку Продолжить 3 (Экран выбора способа получения)', 'Клик на кнопку Продолжить 4 (Экран выбора адреса доставки/самовывоза)']\n",
    "\n",
    "  # Заполнение паспортных данных\n",
    "  g4 = ['Включение блока паспортных данных', 'Успешное заполнение всех полей паспортных данных']\n",
    "\n",
    "  if event == 'Покупка':\n",
    "    return 5\n",
    "  elif event in g1:\n",
    "    return 1\n",
    "  elif event in g2:\n",
    "    return 2\n",
    "  elif event in g3:\n",
    "    return 3\n",
    "  elif event in g4:\n",
    "    return 4\n"
   ]
  },
  {
   "cell_type": "code",
   "execution_count": 25,
   "id": "61ffdda9-8850-49a9-ab22-6ee7a8e96661",
   "metadata": {},
   "outputs": [],
   "source": [
    "def good_events(arr): \n",
    "    ''' Функция убирает те действия, которые повторяются. '''\n",
    "    ans = [arr[0]]  \n",
    "    for i in range(1, len(arr)):\n",
    "        if arr[i] != arr[i-1]:\n",
    "            ans.append(arr[i])\n",
    "    return ans\n",
    "\n",
    "\n",
    "def do_voronka(df, delet_koef=0):\n",
    "    ''' Функция принимает на вход датафрейм и создаёт пользовательские сценарии и считает их кол-во. \n",
    "    Есть условный параметри delet_koef - он удаляет те сценарии, которые встерчаются < delet_koef'''\n",
    "    df = df[['client_id', 'session_id','event_time', 'event_name']]\n",
    "    df = df.sort_values('event_time').drop('event_time', axis=1)\n",
    "    df = df.groupby(['client_id', 'session_id'], as_index=False).agg(lambda x: tuple(good_events( x.to_list()) + [0]))\n",
    "    df['summ'] = 1\n",
    "    df = df.drop(['client_id', 'session_id'], axis=1)\n",
    "    df = df.groupby('event_name', as_index=False).agg('sum')[(df['summ'] > delet_koef) | (df.event_name.apply(lambda x: 5 in x))] \n",
    "    return df\n",
    "\n",
    "\n",
    "def do_voronka_uliana(df):\n",
    "    ''' Функция принимает на вход датафрейм и создаёт словарь, где описывается кол-во последовательностей действий'''\n",
    "    moves = {i: {k: 0 for k in range(0, 6) if k != i} for i in range(1, 6)}\n",
    "    df = df[['client_id', 'session_id','event_time', 'event_name']]\n",
    "    df = df.sort_values('event_time').drop('event_time', axis=1)\n",
    "    df = df.groupby(['client_id', 'session_id'], as_index=False).agg(lambda x: tuple(good_events(x.to_list()) + [0]))\n",
    "    df['summ'] = 1\n",
    "    df = df.drop(['client_id', 'session_id'], axis=1)\n",
    "    df = df.groupby('event_name', as_index=False).agg('sum')\n",
    "    for i in range(df.shape[0]):\n",
    "        event = df.iloc[i]\n",
    "        events = event.event_name \n",
    "        summa = event.summ\n",
    "        for k in range(len(events)-1):\n",
    "            first = events[k]\n",
    "            second = events[k+1]\n",
    "            moves[first][second] += summa\n",
    "    return moves"
   ]
  },
  {
   "cell_type": "code",
   "execution_count": 26,
   "id": "75127aa3-9089-4f9c-8a14-7a68bb13c2a0",
   "metadata": {},
   "outputs": [],
   "source": [
    "df = pd.read_csv(\"tele2_dataset.csv\", parse_dates=['date', 'event_time'], )"
   ]
  },
  {
   "cell_type": "code",
   "execution_count": 27,
   "id": "9ccd7814-2a10-4244-b4b6-6a0409256157",
   "metadata": {},
   "outputs": [],
   "source": [
    "df = df.sort_values('event_time')\n",
    "df['event_name'] = df.event_name.apply(lambda x: make_group(x))"
   ]
  },
  {
   "cell_type": "markdown",
   "id": "e8763575-265f-4553-b718-5a51225a62a2",
   "metadata": {},
   "source": [
    "# Условные обозначения \n",
    "-1 - конец сессии\n",
    "\n",
    "0 - другое\n",
    "\n",
    "1 - Посещение корзины с последующим оформлением заказа\n",
    "\n",
    "2 - Ввод личных данных\n",
    "\n",
    "3 - Оформление доставки\n",
    "\n",
    "4 - Заполнение паспортных данных\n",
    "\n",
    "5 - покупка"
   ]
  },
  {
   "cell_type": "code",
   "execution_count": 28,
   "id": "14265970-8ddd-4707-8cb9-59dd482ae8e5",
   "metadata": {},
   "outputs": [],
   "source": [
    "viborka = df[(df['region_name'] == 'MSK') & (df['rfm_index'] > 222) & (df['campaign'] != '(not set)')]"
   ]
  },
  {
   "cell_type": "code",
   "execution_count": 29,
   "id": "91f0c745-5d8e-490f-9064-5d9381c3430c",
   "metadata": {},
   "outputs": [
    {
     "data": {
      "text/html": [
       "<div>\n",
       "<style scoped>\n",
       "    .dataframe tbody tr th:only-of-type {\n",
       "        vertical-align: middle;\n",
       "    }\n",
       "\n",
       "    .dataframe tbody tr th {\n",
       "        vertical-align: top;\n",
       "    }\n",
       "\n",
       "    .dataframe thead th {\n",
       "        text-align: right;\n",
       "    }\n",
       "</style>\n",
       "<table border=\"1\" class=\"dataframe\">\n",
       "  <thead>\n",
       "    <tr style=\"text-align: right;\">\n",
       "      <th></th>\n",
       "      <th>event_name</th>\n",
       "      <th>summ</th>\n",
       "    </tr>\n",
       "  </thead>\n",
       "  <tbody>\n",
       "    <tr>\n",
       "      <th>0</th>\n",
       "      <td>(1, 0)</td>\n",
       "      <td>20265</td>\n",
       "    </tr>\n",
       "    <tr>\n",
       "      <th>1</th>\n",
       "      <td>(1, 2, 0)</td>\n",
       "      <td>525</td>\n",
       "    </tr>\n",
       "    <tr>\n",
       "      <th>2</th>\n",
       "      <td>(1, 2, 1, 0)</td>\n",
       "      <td>274</td>\n",
       "    </tr>\n",
       "    <tr>\n",
       "      <th>3</th>\n",
       "      <td>(1, 2, 1, 2, 0)</td>\n",
       "      <td>80</td>\n",
       "    </tr>\n",
       "    <tr>\n",
       "      <th>4</th>\n",
       "      <td>(1, 2, 1, 2, 1, 0)</td>\n",
       "      <td>43</td>\n",
       "    </tr>\n",
       "  </tbody>\n",
       "</table>\n",
       "</div>"
      ],
      "text/plain": [
       "           event_name   summ\n",
       "0              (1, 0)  20265\n",
       "1           (1, 2, 0)    525\n",
       "2        (1, 2, 1, 0)    274\n",
       "3     (1, 2, 1, 2, 0)     80\n",
       "4  (1, 2, 1, 2, 1, 0)     43"
      ]
     },
     "execution_count": 29,
     "metadata": {},
     "output_type": "execute_result"
    }
   ],
   "source": [
    "voronka = do_voronka(df)\n",
    "voronka.head(5)"
   ]
  },
  {
   "cell_type": "code",
   "execution_count": 30,
   "id": "eaede4bc-8e41-4518-a9c0-5f165c962e50",
   "metadata": {},
   "outputs": [
    {
     "data": {
      "text/plain": [
       "{1: {0: 21185, 2: 14683, 3: 2056, 4: 145, 5: 210},\n",
       " 2: {0: 929, 1: 4246, 3: 14340, 4: 12, 5: 33},\n",
       " 3: {0: 1433, 1: 1701, 2: 4636, 4: 244, 5: 8487},\n",
       " 4: {0: 52, 1: 79, 2: 11, 3: 35, 5: 227},\n",
       " 5: {0: 7047, 1: 1903, 2: 13, 3: 10, 4: 0}}"
      ]
     },
     "execution_count": 30,
     "metadata": {},
     "output_type": "execute_result"
    }
   ],
   "source": [
    "voronka = do_voronka_uliana(df)\n",
    "voronka"
   ]
  }
 ],
 "metadata": {
  "kernelspec": {
   "display_name": "Python 3 (ipykernel)",
   "language": "python",
   "name": "python3"
  },
  "language_info": {
   "codemirror_mode": {
    "name": "ipython",
    "version": 3
   },
   "file_extension": ".py",
   "mimetype": "text/x-python",
   "name": "python",
   "nbconvert_exporter": "python",
   "pygments_lexer": "ipython3",
   "version": "3.11.5"
  }
 },
 "nbformat": 4,
 "nbformat_minor": 5
}
