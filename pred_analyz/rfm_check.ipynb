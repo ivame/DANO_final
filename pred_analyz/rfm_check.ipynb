{
 "cells": [
  {
   "cell_type": "markdown",
   "id": "043a585b-abf8-418d-9d62-9ebb4c6fdc6b",
   "metadata": {},
   "source": [
    "Что такое рфм?\n",
    "\n",
    "R (от англ. recency – давность) – определяет, как давно была совершена сделка. Показывает, сколько прошло времени с последней покупки. \n",
    "\n",
    "F (от англ. frequency – частота) – показывает, насколько часто клиент покупает товар или пользуется определенной услугой. \n",
    "\n",
    "M (от англ. monetary – деньги) – общая вложенность средств в продукт или услугу. Также это можно понимать как общую активность на сайте либо длительность посещения. \n",
    "    \n",
    "Гипотеза - значение 1 - это значит что сделка была совершена давно/редко/неприбыльно"
   ]
  },
  {
   "cell_type": "code",
   "execution_count": 1,
   "id": "8b88306d-72f4-43b3-8c17-34cf7d847718",
   "metadata": {},
   "outputs": [],
   "source": [
    "import numpy as np\n",
    "import pandas as pd\n",
    "import matplotlib.pyplot as plt\n",
    "import seaborn as sns\n",
    "import warnings\n",
    "\n",
    "warnings.filterwarnings('ignore')\n",
    "sns.set_theme()"
   ]
  },
  {
   "cell_type": "code",
   "execution_count": 2,
   "id": "a6210af4-f214-486e-9b84-00041a77b01d",
   "metadata": {},
   "outputs": [],
   "source": [
    "df = pd.read_csv(\"tele2_dataset.csv\", parse_dates=['date', 'event_time'], )"
   ]
  },
  {
   "cell_type": "code",
   "execution_count": 34,
   "id": "89f46b99-57a8-4b8e-adab-de82ca0e6069",
   "metadata": {},
   "outputs": [],
   "source": [
    "df['r'] = (df['rfm_index'] // 100)\n",
    "df['f'] = (df['rfm_index'] // 10 % 10)\n",
    "df['m'] = (df['rfm_index'] % 10)"
   ]
  },
  {
   "cell_type": "code",
   "execution_count": 35,
   "id": "7fc9c477-df8e-4517-8ee1-e9c624fc49b2",
   "metadata": {
    "scrolled": true
   },
   "outputs": [
    {
     "data": {
      "text/html": [
       "<div>\n",
       "<style scoped>\n",
       "    .dataframe tbody tr th:only-of-type {\n",
       "        vertical-align: middle;\n",
       "    }\n",
       "\n",
       "    .dataframe tbody tr th {\n",
       "        vertical-align: top;\n",
       "    }\n",
       "\n",
       "    .dataframe thead th {\n",
       "        text-align: right;\n",
       "    }\n",
       "</style>\n",
       "<table border=\"1\" class=\"dataframe\">\n",
       "  <thead>\n",
       "    <tr style=\"text-align: right;\">\n",
       "      <th></th>\n",
       "      <th>date</th>\n",
       "      <th>campaign</th>\n",
       "      <th>source</th>\n",
       "      <th>medium</th>\n",
       "      <th>device</th>\n",
       "      <th>client_id</th>\n",
       "      <th>session_id</th>\n",
       "      <th>event_time</th>\n",
       "      <th>event_name</th>\n",
       "      <th>current_tariff</th>\n",
       "      <th>...</th>\n",
       "      <th>user_auth</th>\n",
       "      <th>user_type</th>\n",
       "      <th>region_name</th>\n",
       "      <th>age</th>\n",
       "      <th>gender</th>\n",
       "      <th>rfm_index</th>\n",
       "      <th>have_home_inet</th>\n",
       "      <th>r</th>\n",
       "      <th>f</th>\n",
       "      <th>m</th>\n",
       "    </tr>\n",
       "  </thead>\n",
       "  <tbody>\n",
       "    <tr>\n",
       "      <th>174180</th>\n",
       "      <td>2022-11-30</td>\n",
       "      <td>(not set)</td>\n",
       "      <td>yandex.ru</td>\n",
       "      <td>referral</td>\n",
       "      <td>mobile</td>\n",
       "      <td>5638055.1669796789</td>\n",
       "      <td>2443287409402186791</td>\n",
       "      <td>2022-11-30 08:31:17</td>\n",
       "      <td>Посещение корзины с добавленными товарами</td>\n",
       "      <td>Мой разговор 09_2021</td>\n",
       "      <td>...</td>\n",
       "      <td>1</td>\n",
       "      <td>B2C</td>\n",
       "      <td>SPB</td>\n",
       "      <td>25 - 39 лет</td>\n",
       "      <td>Male</td>\n",
       "      <td>332.0</td>\n",
       "      <td>0.0</td>\n",
       "      <td>3.0</td>\n",
       "      <td>3.0</td>\n",
       "      <td>2.0</td>\n",
       "    </tr>\n",
       "    <tr>\n",
       "      <th>174181</th>\n",
       "      <td>2022-11-30</td>\n",
       "      <td>(not set)</td>\n",
       "      <td>(direct)</td>\n",
       "      <td>(none)</td>\n",
       "      <td>mobile</td>\n",
       "      <td>1171786665.1669820193</td>\n",
       "      <td>7572068840188511854</td>\n",
       "      <td>2022-11-30 14:56:35</td>\n",
       "      <td>Посещение корзины с добавленными товарами</td>\n",
       "      <td>Супер онлайн+</td>\n",
       "      <td>...</td>\n",
       "      <td>1</td>\n",
       "      <td>B2C</td>\n",
       "      <td>PERM</td>\n",
       "      <td>54+</td>\n",
       "      <td>Male</td>\n",
       "      <td>213.0</td>\n",
       "      <td>0.0</td>\n",
       "      <td>2.0</td>\n",
       "      <td>1.0</td>\n",
       "      <td>3.0</td>\n",
       "    </tr>\n",
       "    <tr>\n",
       "      <th>174182</th>\n",
       "      <td>2022-11-30</td>\n",
       "      <td>(not set)</td>\n",
       "      <td>yandex.ru</td>\n",
       "      <td>referral</td>\n",
       "      <td>mobile</td>\n",
       "      <td>373789213.1669794411</td>\n",
       "      <td>8347549649336024298</td>\n",
       "      <td>2022-11-30 07:47:07</td>\n",
       "      <td>Посещение корзины с добавленными товарами</td>\n",
       "      <td>NaN</td>\n",
       "      <td>...</td>\n",
       "      <td>0</td>\n",
       "      <td>NaN</td>\n",
       "      <td>MSK</td>\n",
       "      <td>18 - 24 года</td>\n",
       "      <td>Female</td>\n",
       "      <td>NaN</td>\n",
       "      <td>NaN</td>\n",
       "      <td>NaN</td>\n",
       "      <td>NaN</td>\n",
       "      <td>NaN</td>\n",
       "    </tr>\n",
       "    <tr>\n",
       "      <th>174183</th>\n",
       "      <td>2022-11-30</td>\n",
       "      <td>(not set)</td>\n",
       "      <td>(direct)</td>\n",
       "      <td>(none)</td>\n",
       "      <td>mobile</td>\n",
       "      <td>346641068.1669795929</td>\n",
       "      <td>3716363740063803780</td>\n",
       "      <td>2022-11-30 08:12:14</td>\n",
       "      <td>Посещение корзины с добавленными товарами</td>\n",
       "      <td>Мой разговор 12_2019</td>\n",
       "      <td>...</td>\n",
       "      <td>1</td>\n",
       "      <td>B2C</td>\n",
       "      <td>KRASNOYARSK</td>\n",
       "      <td>18 - 24 года</td>\n",
       "      <td>Female</td>\n",
       "      <td>332.0</td>\n",
       "      <td>1.0</td>\n",
       "      <td>3.0</td>\n",
       "      <td>3.0</td>\n",
       "      <td>2.0</td>\n",
       "    </tr>\n",
       "    <tr>\n",
       "      <th>174184</th>\n",
       "      <td>2022-11-30</td>\n",
       "      <td>(not set)</td>\n",
       "      <td>(direct)</td>\n",
       "      <td>(none)</td>\n",
       "      <td>set-top box</td>\n",
       "      <td>934745616.1669761758</td>\n",
       "      <td>3035487505006267650</td>\n",
       "      <td>2022-11-29 22:50:17</td>\n",
       "      <td>Посещение корзины с добавленными товарами</td>\n",
       "      <td>Мой онлайн+ 12_2021</td>\n",
       "      <td>...</td>\n",
       "      <td>1</td>\n",
       "      <td>B2C</td>\n",
       "      <td>YAR</td>\n",
       "      <td>25 - 39 лет</td>\n",
       "      <td>Female</td>\n",
       "      <td>312.0</td>\n",
       "      <td>0.0</td>\n",
       "      <td>3.0</td>\n",
       "      <td>1.0</td>\n",
       "      <td>2.0</td>\n",
       "    </tr>\n",
       "  </tbody>\n",
       "</table>\n",
       "<p>5 rows × 21 columns</p>\n",
       "</div>"
      ],
      "text/plain": [
       "             date   campaign     source    medium       device  \\\n",
       "174180 2022-11-30  (not set)  yandex.ru  referral       mobile   \n",
       "174181 2022-11-30  (not set)   (direct)    (none)       mobile   \n",
       "174182 2022-11-30  (not set)  yandex.ru  referral       mobile   \n",
       "174183 2022-11-30  (not set)   (direct)    (none)       mobile   \n",
       "174184 2022-11-30  (not set)   (direct)    (none)  set-top box   \n",
       "\n",
       "                    client_id           session_id          event_time  \\\n",
       "174180     5638055.1669796789  2443287409402186791 2022-11-30 08:31:17   \n",
       "174181  1171786665.1669820193  7572068840188511854 2022-11-30 14:56:35   \n",
       "174182   373789213.1669794411  8347549649336024298 2022-11-30 07:47:07   \n",
       "174183   346641068.1669795929  3716363740063803780 2022-11-30 08:12:14   \n",
       "174184   934745616.1669761758  3035487505006267650 2022-11-29 22:50:17   \n",
       "\n",
       "                                       event_name        current_tariff  ...  \\\n",
       "174180  Посещение корзины с добавленными товарами  Мой разговор 09_2021  ...   \n",
       "174181  Посещение корзины с добавленными товарами         Супер онлайн+  ...   \n",
       "174182  Посещение корзины с добавленными товарами                   NaN  ...   \n",
       "174183  Посещение корзины с добавленными товарами  Мой разговор 12_2019  ...   \n",
       "174184  Посещение корзины с добавленными товарами   Мой онлайн+ 12_2021  ...   \n",
       "\n",
       "        user_auth  user_type  region_name           age  gender rfm_index  \\\n",
       "174180          1        B2C          SPB   25 - 39 лет    Male     332.0   \n",
       "174181          1        B2C         PERM           54+    Male     213.0   \n",
       "174182          0        NaN          MSK  18 - 24 года  Female       NaN   \n",
       "174183          1        B2C  KRASNOYARSK  18 - 24 года  Female     332.0   \n",
       "174184          1        B2C          YAR   25 - 39 лет  Female     312.0   \n",
       "\n",
       "        have_home_inet    r    f    m  \n",
       "174180             0.0  3.0  3.0  2.0  \n",
       "174181             0.0  2.0  1.0  3.0  \n",
       "174182             NaN  NaN  NaN  NaN  \n",
       "174183             1.0  3.0  3.0  2.0  \n",
       "174184             0.0  3.0  1.0  2.0  \n",
       "\n",
       "[5 rows x 21 columns]"
      ]
     },
     "execution_count": 35,
     "metadata": {},
     "output_type": "execute_result"
    }
   ],
   "source": [
    "df.tail()"
   ]
  },
  {
   "cell_type": "markdown",
   "id": "8f05b99c-996b-4a95-a0af-195772768220",
   "metadata": {},
   "source": [
    "# Рассмотрим различные значения f и сред кол-во покупок у данных выборок"
   ]
  },
  {
   "cell_type": "code",
   "execution_count": 108,
   "id": "4fda7f23-7d0d-4de3-8156-ce23fa3e4932",
   "metadata": {},
   "outputs": [],
   "source": [
    "f_more_2 = df[df['f'] > 2]"
   ]
  },
  {
   "cell_type": "code",
   "execution_count": 109,
   "id": "17aed6bf-aec2-4d01-bd09-a0b31014cb3b",
   "metadata": {},
   "outputs": [
    {
     "name": "stdout",
     "output_type": "stream",
     "text": [
      "Количество людей с f > 2: 4863,\n",
      "Количество покупок 637\n",
      "Среднее количество покупок 0.13\n"
     ]
    }
   ],
   "source": [
    "cnt_people = f_more_2.client_id.unique().shape[0] \n",
    "cnt_buy = f_more_2[f_more_2['event_name'] == 'Покупка'].shape[0]\n",
    "print(f'Количество людей с f > 2: {cnt_people},\\nКоличество покупок {cnt_buy}\\nСреднее количество покупок {round((cnt_buy/cnt_people), 2)}')"
   ]
  },
  {
   "cell_type": "code",
   "execution_count": 110,
   "id": "c92f6917-2ba6-4c2b-89a4-5cd2b5acf3f3",
   "metadata": {},
   "outputs": [],
   "source": [
    "f_less_3 = df[df['f'] <= 2]"
   ]
  },
  {
   "cell_type": "code",
   "execution_count": 111,
   "id": "d44fe866-f629-4be0-9072-c58a8ad41921",
   "metadata": {},
   "outputs": [
    {
     "name": "stdout",
     "output_type": "stream",
     "text": [
      "Количество людей с f < 3: 5582,\n",
      "Количество покупок 902\n",
      "Среднее количество покупок 0.16\n"
     ]
    }
   ],
   "source": [
    "cnt_people = f_less_3.client_id.unique().shape[0] \n",
    "cnt_buy = f_less_3[f_less_3['event_name'] == 'Покупка'].shape[0]\n",
    "print(f'Количество людей с f < 3: {cnt_people},\\nКоличество покупок {cnt_buy}\\nСреднее количество покупок {round((cnt_buy/cnt_people), 2)}')"
   ]
  },
  {
   "cell_type": "code",
   "execution_count": 112,
   "id": "27c2e54e-0c11-411c-9355-a5229ac327d2",
   "metadata": {},
   "outputs": [],
   "source": [
    "f_eq_1 = df[df['f'] == 1]"
   ]
  },
  {
   "cell_type": "code",
   "execution_count": 113,
   "id": "23dc2702-a450-45e0-8432-b7b095f7643a",
   "metadata": {},
   "outputs": [
    {
     "name": "stdout",
     "output_type": "stream",
     "text": [
      "Количество людей с f = 1: 2929,\n",
      "Количество покупок 398\n",
      "Среднее количество покупок 0.14\n"
     ]
    }
   ],
   "source": [
    "cnt_people = f_eq_1.client_id.unique().shape[0] \n",
    "cnt_buy = f_eq_1[f_eq_1['event_name'] == 'Покупка'].shape[0]\n",
    "print(f'Количество людей с f = 1: {cnt_people},\\nКоличество покупок {cnt_buy}\\nСреднее количество покупок {round((cnt_buy/cnt_people), 2)}')"
   ]
  },
  {
   "cell_type": "code",
   "execution_count": 114,
   "id": "9553bbdb-20bd-4509-b89e-0a7e10bffb91",
   "metadata": {},
   "outputs": [],
   "source": [
    "f_eq_4 = df[df['f'] == 4]"
   ]
  },
  {
   "cell_type": "code",
   "execution_count": 115,
   "id": "3e2ba3a7-3783-4efd-bd2b-0b15914c5421",
   "metadata": {},
   "outputs": [
    {
     "name": "stdout",
     "output_type": "stream",
     "text": [
      "Количество людей с f = 4: 2329,\n",
      "Количество покупок 320\n",
      "Среднее количество покупок 0.14\n"
     ]
    }
   ],
   "source": [
    "cnt_people = f_eq_4.client_id.unique().shape[0] \n",
    "cnt_buy = f_eq_4[f_eq_4['event_name'] == 'Покупка'].shape[0]\n",
    "print(f'Количество людей с f = 4: {cnt_people},\\nКоличество покупок {cnt_buy}\\nСреднее количество покупок {round((cnt_buy/cnt_people), 2)}')"
   ]
  },
  {
   "cell_type": "markdown",
   "id": "7c7c99ec-ec48-4be6-9aa7-3530b56cff7f",
   "metadata": {},
   "source": [
    "# Значения похожи, значит посмотрим для тех, кто совершил хотя бы одну покупку"
   ]
  },
  {
   "cell_type": "code",
   "execution_count": 116,
   "id": "994d6954-932e-4fff-a765-bcad3f06d83d",
   "metadata": {},
   "outputs": [],
   "source": [
    "f_more_2_and_buy = df[(df['f'] > 2) & (df['event_name'] == 'Покупка')]"
   ]
  },
  {
   "cell_type": "code",
   "execution_count": 117,
   "id": "824c9c69-7aa8-46d3-85cb-68d401192ab5",
   "metadata": {},
   "outputs": [
    {
     "name": "stdout",
     "output_type": "stream",
     "text": [
      "Количество людей с f > 2: 265,\n",
      "Количество покупок 637\n",
      "Среднее количество покупок 2.4\n"
     ]
    }
   ],
   "source": [
    "data = f_more_2_and_buy\n",
    "cnt_people = data.client_id.unique().shape[0] \n",
    "cnt_buy = data.shape[0]\n",
    "print(f'Количество людей с f > 2: {cnt_people},\\nКоличество покупок {cnt_buy}\\nСреднее количество покупок {round((cnt_buy/cnt_people), 2)}')"
   ]
  },
  {
   "cell_type": "code",
   "execution_count": 118,
   "id": "fb9d7631-3209-4d27-97ab-bf0a13de7604",
   "metadata": {},
   "outputs": [],
   "source": [
    "f_less_3_and_buy = df[(df['f'] < 3) & (df['event_name'] == 'Покупка')]"
   ]
  },
  {
   "cell_type": "code",
   "execution_count": 119,
   "id": "e848e273-a9e5-4eb3-9c4f-10d7417b789c",
   "metadata": {},
   "outputs": [
    {
     "name": "stdout",
     "output_type": "stream",
     "text": [
      "Количество людей с f < 3: 353,\n",
      "Количество покупок 902\n",
      "Среднее количество покупок 2.56\n"
     ]
    }
   ],
   "source": [
    "data = f_less_3_and_buy\n",
    "cnt_people = data.client_id.unique().shape[0] \n",
    "cnt_buy = data.shape[0]\n",
    "print(f'Количество людей с f < 3: {cnt_people},\\nКоличество покупок {cnt_buy}\\nСреднее количество покупок {round((cnt_buy/cnt_people), 2)}')"
   ]
  },
  {
   "cell_type": "code",
   "execution_count": 120,
   "id": "7b00694c-d565-4def-a72e-9c00a3012fa8",
   "metadata": {},
   "outputs": [],
   "source": [
    "f_eq_1_buy = df[(df['f'] == 1) & (df['event_name'] == 'Покупка')]"
   ]
  },
  {
   "cell_type": "code",
   "execution_count": 121,
   "id": "ebb1b146-1ab1-476a-9f1d-2b9e329ae882",
   "metadata": {},
   "outputs": [
    {
     "name": "stdout",
     "output_type": "stream",
     "text": [
      "Количество людей с f = 1: 180,\n",
      "Количество покупок 398\n",
      "Среднее количество покупок 2.21\n"
     ]
    }
   ],
   "source": [
    "data = f_eq_1_buy\n",
    "cnt_people = data.client_id.unique().shape[0] \n",
    "cnt_buy = data.shape[0]\n",
    "print(f'Количество людей с f = 1: {cnt_people},\\nКоличество покупок {cnt_buy}\\nСреднее количество покупок {round((cnt_buy/cnt_people), 2)}')"
   ]
  },
  {
   "cell_type": "code",
   "execution_count": 122,
   "id": "a80848e0-26fd-4aa6-bb57-55f00ca5116f",
   "metadata": {},
   "outputs": [],
   "source": [
    "f_eq_2_buy = df[(df['f'] == 2) & (df['event_name'] == 'Покупка')]"
   ]
  },
  {
   "cell_type": "code",
   "execution_count": 123,
   "id": "e4d49875-bc20-4ae9-882f-7fb5560639a1",
   "metadata": {},
   "outputs": [
    {
     "name": "stdout",
     "output_type": "stream",
     "text": [
      "Количество людей с f = 2: 176,\n",
      "Количество покупок 504\n",
      "Среднее количество покупок 2.86\n"
     ]
    }
   ],
   "source": [
    "data = f_eq_2_buy\n",
    "cnt_people = data.client_id.unique().shape[0] \n",
    "cnt_buy = data.shape[0]\n",
    "print(f'Количество людей с f = 2: {cnt_people},\\nКоличество покупок {cnt_buy}\\nСреднее количество покупок {round((cnt_buy/cnt_people), 2)}')"
   ]
  },
  {
   "cell_type": "code",
   "execution_count": 124,
   "id": "00a5ef66-5353-4082-b3eb-97da9db9037c",
   "metadata": {},
   "outputs": [],
   "source": [
    "f_eq_3_buy = df[(df['f'] == 3) & (df['event_name'] == 'Покупка')]"
   ]
  },
  {
   "cell_type": "code",
   "execution_count": 125,
   "id": "bc51e6d4-bd5e-4fb9-9bf8-d58d122aeead",
   "metadata": {},
   "outputs": [
    {
     "name": "stdout",
     "output_type": "stream",
     "text": [
      "Количество людей с f = 3: 145,\n",
      "Количество покупок 317\n",
      "Среднее количество покупок 2.19\n"
     ]
    }
   ],
   "source": [
    "data = f_eq_3_buy\n",
    "cnt_people = data.client_id.unique().shape[0] \n",
    "cnt_buy = data.shape[0]\n",
    "print(f'Количество людей с f = 3: {cnt_people},\\nКоличество покупок {cnt_buy}\\nСреднее количество покупок {round((cnt_buy/cnt_people), 2)}')"
   ]
  },
  {
   "cell_type": "code",
   "execution_count": 126,
   "id": "f520f44a-293b-4dd2-96c9-381bf0f1078d",
   "metadata": {},
   "outputs": [],
   "source": [
    "f_eq_4_buy = df[(df['f'] == 4) & (df['event_name'] == 'Покупка')]"
   ]
  },
  {
   "cell_type": "code",
   "execution_count": 127,
   "id": "1825b010-06d5-4584-97ee-03e6636cb29e",
   "metadata": {},
   "outputs": [
    {
     "name": "stdout",
     "output_type": "stream",
     "text": [
      "Количество людей с f = 4: 123,\n",
      "Количество покупок 320\n",
      "Среднее количество покупок 2.6\n"
     ]
    }
   ],
   "source": [
    "data = f_eq_4_buy\n",
    "cnt_people = data.client_id.unique().shape[0] \n",
    "cnt_buy = data.shape[0]\n",
    "print(f'Количество людей с f = 4: {cnt_people},\\nКоличество покупок {cnt_buy}\\nСреднее количество покупок {round((cnt_buy/cnt_people), 2)}')"
   ]
  },
  {
   "cell_type": "code",
   "execution_count": 128,
   "id": "86a853af-fa26-4271-bd9a-f23667cad105",
   "metadata": {},
   "outputs": [],
   "source": [
    "f_eq_1 = df[(df['f'] == 1)]"
   ]
  },
  {
   "cell_type": "code",
   "execution_count": 129,
   "id": "4136361a-f4fe-4d8d-8972-c7fc364a0f5e",
   "metadata": {},
   "outputs": [
    {
     "name": "stdout",
     "output_type": "stream",
     "text": [
      "Количество людей с f = 1: 2929,\n",
      "Количество покупок 398\n",
      "Среднее количество покупок 0.14\n"
     ]
    }
   ],
   "source": [
    "data = f_eq_1\n",
    "cnt_people = data.client_id.unique().shape[0] \n",
    "cnt_buy = data[data['event_name'] == 'Покупка'].shape[0]\n",
    "print(f'Количество людей с f = 1: {cnt_people},\\nКоличество покупок {cnt_buy}\\nСреднее количество покупок {round((cnt_buy/cnt_people), 2)}')"
   ]
  },
  {
   "cell_type": "code",
   "execution_count": 130,
   "id": "c2f7ab58-2e90-4e74-9783-1909499a59bf",
   "metadata": {},
   "outputs": [],
   "source": [
    "f_eq_2 = df[(df['f'] == 2)]"
   ]
  },
  {
   "cell_type": "code",
   "execution_count": 131,
   "id": "300e4c89-d3db-4cea-8d05-e77b014f6c8a",
   "metadata": {},
   "outputs": [
    {
     "name": "stdout",
     "output_type": "stream",
     "text": [
      "Количество людей с f = 2: 2678,\n",
      "Количество покупок 504\n",
      "Среднее количество покупок 0.19\n"
     ]
    }
   ],
   "source": [
    "data = f_eq_2\n",
    "cnt_people = data.client_id.unique().shape[0] \n",
    "cnt_buy = data[data['event_name'] == 'Покупка'].shape[0]\n",
    "print(f'Количество людей с f = 2: {cnt_people},\\nКоличество покупок {cnt_buy}\\nСреднее количество покупок {round((cnt_buy/cnt_people), 2)}')"
   ]
  },
  {
   "cell_type": "code",
   "execution_count": 132,
   "id": "14ac4672-64db-4224-a09f-3e12971915cb",
   "metadata": {},
   "outputs": [],
   "source": [
    "f_eq_3 = df[(df['f'] == 3)]"
   ]
  },
  {
   "cell_type": "code",
   "execution_count": 133,
   "id": "f7e497cb-f771-4403-ac02-a92060c5e4d6",
   "metadata": {},
   "outputs": [
    {
     "name": "stdout",
     "output_type": "stream",
     "text": [
      "Количество людей с f = 3: 2551,\n",
      "Количество покупок 317\n",
      "Среднее количество покупок 0.12\n"
     ]
    }
   ],
   "source": [
    "data = f_eq_3\n",
    "cnt_people = data.client_id.unique().shape[0] \n",
    "cnt_buy = data[data['event_name'] == 'Покупка'].shape[0]\n",
    "print(f'Количество людей с f = 3: {cnt_people},\\nКоличество покупок {cnt_buy}\\nСреднее количество покупок {round((cnt_buy/cnt_people), 2)}')"
   ]
  },
  {
   "cell_type": "code",
   "execution_count": 134,
   "id": "8e6d8855-400f-4020-bccf-7951b81d41e7",
   "metadata": {},
   "outputs": [],
   "source": [
    "f_eq_4 = df[(df['f'] == 4)]"
   ]
  },
  {
   "cell_type": "code",
   "execution_count": 135,
   "id": "4c71f530-d092-464d-81e2-cbf7fd2991d7",
   "metadata": {},
   "outputs": [
    {
     "name": "stdout",
     "output_type": "stream",
     "text": [
      "Количество людей с f = 4: 2329,\n",
      "Количество покупок 320\n",
      "Среднее количество покупок 0.14\n"
     ]
    }
   ],
   "source": [
    "data = f_eq_4\n",
    "cnt_people = data.client_id.unique().shape[0] \n",
    "cnt_buy = data[data['event_name'] == 'Покупка'].shape[0]\n",
    "print(f'Количество людей с f = 4: {cnt_people},\\nКоличество покупок {cnt_buy}\\nСреднее количество покупок {round((cnt_buy/cnt_people), 2)}')"
   ]
  },
  {
   "cell_type": "markdown",
   "id": "ed3dfe9a-807e-42fe-ac22-21fa0ad80a2b",
   "metadata": {},
   "source": [
    "# Просмотр f ничего не дало, попробуем найти корреляцию с m. Сначала рассмотрим для всех людей"
   ]
  },
  {
   "cell_type": "code",
   "execution_count": 170,
   "id": "a4316b48-fc81-421b-bbad-01d00b372d2a",
   "metadata": {},
   "outputs": [],
   "source": [
    "m_eq_1 = df[df['m'] == 1]"
   ]
  },
  {
   "cell_type": "code",
   "execution_count": 171,
   "id": "36cdbb88-1671-4a48-946c-216413d638f3",
   "metadata": {},
   "outputs": [
    {
     "name": "stdout",
     "output_type": "stream",
     "text": [
      "Количество людей с m = 1: 2389,\n",
      "Количество покупок 379\n",
      "Среднее количество покупок 0.16\n"
     ]
    }
   ],
   "source": [
    "cnt_people = m_eq_1.client_id.unique().shape[0] \n",
    "cnt_buy = m_eq_1[m_eq_1['event_name'] == 'Покупка'].shape[0]\n",
    "print(f'Количество людей с m = 1: {cnt_people},\\nКоличество покупок {cnt_buy}\\nСреднее количество покупок {round((cnt_buy/cnt_people), 2)}')"
   ]
  },
  {
   "cell_type": "code",
   "execution_count": 172,
   "id": "af47e880-a1b7-4194-84bf-dbfd7e384134",
   "metadata": {},
   "outputs": [],
   "source": [
    "m_eq_2 = df[df['m'] == 2]"
   ]
  },
  {
   "cell_type": "code",
   "execution_count": 173,
   "id": "6cce0bb9-75e1-4272-84fe-36959ae9ff78",
   "metadata": {},
   "outputs": [
    {
     "name": "stdout",
     "output_type": "stream",
     "text": [
      "Количество людей с m = 2: 3493,\n",
      "Количество покупок 434\n",
      "Среднее количество покупок 0.12\n"
     ]
    }
   ],
   "source": [
    "cnt_people = m_eq_2.client_id.unique().shape[0] \n",
    "cnt_buy = m_eq_2[m_eq_2['event_name'] == 'Покупка'].shape[0]\n",
    "print(f'Количество людей с m = 2: {cnt_people},\\nКоличество покупок {cnt_buy}\\nСреднее количество покупок {round((cnt_buy/cnt_people), 2)}')"
   ]
  },
  {
   "cell_type": "code",
   "execution_count": 174,
   "id": "c073cef6-4724-4a63-83f9-3f694cea6890",
   "metadata": {},
   "outputs": [],
   "source": [
    "m_eq_3 = df[df['m'] == 3]"
   ]
  },
  {
   "cell_type": "code",
   "execution_count": 175,
   "id": "cbc282b1-d1bb-4f59-8606-17d8c0ff50c9",
   "metadata": {},
   "outputs": [
    {
     "name": "stdout",
     "output_type": "stream",
     "text": [
      "Количество людей с m = 3: 2649,\n",
      "Количество покупок 485\n",
      "Среднее количество покупок 0.18\n"
     ]
    }
   ],
   "source": [
    "cnt_people = m_eq_3.client_id.unique().shape[0] \n",
    "cnt_buy = m_eq_3[m_eq_3['event_name'] == 'Покупка'].shape[0]\n",
    "print(f'Количество людей с m = 3: {cnt_people},\\nКоличество покупок {cnt_buy}\\nСреднее количество покупок {round((cnt_buy/cnt_people), 2)}')"
   ]
  },
  {
   "cell_type": "code",
   "execution_count": 176,
   "id": "723a4d96-c049-4051-be0c-a5dd14c7d2cf",
   "metadata": {},
   "outputs": [],
   "source": [
    "m_eq_4 = df[df['m'] == 4]"
   ]
  },
  {
   "cell_type": "code",
   "execution_count": 177,
   "id": "7da76043-384a-44aa-bc96-a31365bfb141",
   "metadata": {},
   "outputs": [
    {
     "name": "stdout",
     "output_type": "stream",
     "text": [
      "Количество людей с m = 4: 1951,\n",
      "Количество покупок 241\n",
      "Среднее количество покупок 0.12\n"
     ]
    }
   ],
   "source": [
    "cnt_people = m_eq_4.client_id.unique().shape[0] \n",
    "cnt_buy = m_eq_4[m_eq_4['event_name'] == 'Покупка'].shape[0]\n",
    "print(f'Количество людей с m = 4: {cnt_people},\\nКоличество покупок {cnt_buy}\\nСреднее количество покупок {round((cnt_buy/cnt_people), 2)}')"
   ]
  },
  {
   "cell_type": "markdown",
   "id": "efa447d3-20ef-4a6d-bf72-477095f96e9e",
   "metadata": {},
   "source": [
    "# Посмотрим для тех, кто совершил хоть 1 покупку"
   ]
  },
  {
   "cell_type": "code",
   "execution_count": 178,
   "id": "1d861fef-f019-4efb-873d-41d7f5974280",
   "metadata": {},
   "outputs": [],
   "source": [
    "m_eq_1_buy = df[(df['m'] == 1) & (df['event_name'] == 'Покупка')]"
   ]
  },
  {
   "cell_type": "code",
   "execution_count": 179,
   "id": "3c5064da-037e-4f53-bb8a-89e9d27ef497",
   "metadata": {},
   "outputs": [
    {
     "name": "stdout",
     "output_type": "stream",
     "text": [
      "Количество людей с m = 1: 129,\n",
      "Количество покупок 379\n",
      "Среднее количество покупок 2.94\n"
     ]
    }
   ],
   "source": [
    "data = m_eq_1_buy\n",
    "cnt_people = data.client_id.unique().shape[0] \n",
    "cnt_buy = data.shape[0]\n",
    "print(f'Количество людей с m = 1: {cnt_people},\\nКоличество покупок {cnt_buy}\\nСреднее количество покупок {round((cnt_buy/cnt_people), 2)}')"
   ]
  },
  {
   "cell_type": "code",
   "execution_count": 180,
   "id": "9b01aed9-2c2a-4fad-955e-6cf6e1ca8eeb",
   "metadata": {},
   "outputs": [],
   "source": [
    "m_eq_2_buy = df[(df['m'] == 2) & (df['event_name'] == 'Покупка')]"
   ]
  },
  {
   "cell_type": "code",
   "execution_count": 181,
   "id": "e39112f7-f6f0-4816-be17-45de7a057796",
   "metadata": {},
   "outputs": [
    {
     "name": "stdout",
     "output_type": "stream",
     "text": [
      "Количество людей с m = 2: 215,\n",
      "Количество покупок 434\n",
      "Среднее количество покупок 2.02\n"
     ]
    }
   ],
   "source": [
    "data = m_eq_2_buy\n",
    "cnt_people = data.client_id.unique().shape[0] \n",
    "cnt_buy = data.shape[0]\n",
    "print(f'Количество людей с m = 2: {cnt_people},\\nКоличество покупок {cnt_buy}\\nСреднее количество покупок {round((cnt_buy/cnt_people), 2)}')"
   ]
  },
  {
   "cell_type": "code",
   "execution_count": 182,
   "id": "92fbc08e-04a5-44b3-b0f0-01ca58dc6858",
   "metadata": {},
   "outputs": [],
   "source": [
    "m_eq_3_buy = df[(df['m'] == 3) & (df['event_name'] == 'Покупка')]"
   ]
  },
  {
   "cell_type": "code",
   "execution_count": 183,
   "id": "12e51603-fd0e-4758-9446-920e5d498d84",
   "metadata": {},
   "outputs": [
    {
     "name": "stdout",
     "output_type": "stream",
     "text": [
      "Количество людей с m = 3: 164,\n",
      "Количество покупок 485\n",
      "Среднее количество покупок 2.96\n"
     ]
    }
   ],
   "source": [
    "data = m_eq_3_buy\n",
    "cnt_people = data.client_id.unique().shape[0] \n",
    "cnt_buy = data.shape[0]\n",
    "print(f'Количество людей с m = 3: {cnt_people},\\nКоличество покупок {cnt_buy}\\nСреднее количество покупок {round((cnt_buy/cnt_people), 2)}')"
   ]
  },
  {
   "cell_type": "code",
   "execution_count": 184,
   "id": "bf6a56a3-f210-40c7-8b59-b06dfc16e6b7",
   "metadata": {},
   "outputs": [],
   "source": [
    "m_eq_4_buy = df[(df['m'] == 4) & (df['event_name'] == 'Покупка')]"
   ]
  },
  {
   "cell_type": "code",
   "execution_count": 185,
   "id": "b6871b8c-3638-496d-8645-cc8232441e7f",
   "metadata": {},
   "outputs": [
    {
     "name": "stdout",
     "output_type": "stream",
     "text": [
      "Количество людей с m = 4: 118,\n",
      "Количество покупок 241\n",
      "Среднее количество покупок 2.04\n"
     ]
    }
   ],
   "source": [
    "data = m_eq_4_buy\n",
    "cnt_people = data.client_id.unique().shape[0] \n",
    "cnt_buy = data.shape[0]\n",
    "print(f'Количество людей с m = 4: {cnt_people},\\nКоличество покупок {cnt_buy}\\nСреднее количество покупок {round((cnt_buy/cnt_people), 2)}')"
   ]
  },
  {
   "cell_type": "code",
   "execution_count": null,
   "id": "6c331b0d-0e80-4646-a0c3-2c1849b5097f",
   "metadata": {},
   "outputs": [],
   "source": []
  }
 ],
 "metadata": {
  "kernelspec": {
   "display_name": "Python 3 (ipykernel)",
   "language": "python",
   "name": "python3"
  },
  "language_info": {
   "codemirror_mode": {
    "name": "ipython",
    "version": 3
   },
   "file_extension": ".py",
   "mimetype": "text/x-python",
   "name": "python",
   "nbconvert_exporter": "python",
   "pygments_lexer": "ipython3",
   "version": "3.11.5"
  }
 },
 "nbformat": 4,
 "nbformat_minor": 5
}
