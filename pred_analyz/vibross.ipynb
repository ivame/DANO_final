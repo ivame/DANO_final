{
 "cells": [
  {
   "cell_type": "code",
   "execution_count": 1,
   "metadata": {},
   "outputs": [],
   "source": [
    "import pandas as pd\n",
    "import numpy as np\n",
    "import seaborn as sns\n",
    "import matplotlib.pyplot as plt"
   ]
  },
  {
   "cell_type": "code",
   "execution_count": 2,
   "metadata": {},
   "outputs": [
    {
     "name": "stderr",
     "output_type": "stream",
     "text": [
      "C:\\Users\\Ульяна\\AppData\\Local\\Temp\\ipykernel_748\\2314439927.py:1: DtypeWarning: Columns (5) have mixed types. Specify dtype option on import or set low_memory=False.\n",
      "  data = pd.read_csv('tele2_dataset.csv')\n"
     ]
    },
    {
     "data": {
      "text/html": [
       "<div>\n",
       "<style scoped>\n",
       "    .dataframe tbody tr th:only-of-type {\n",
       "        vertical-align: middle;\n",
       "    }\n",
       "\n",
       "    .dataframe tbody tr th {\n",
       "        vertical-align: top;\n",
       "    }\n",
       "\n",
       "    .dataframe thead th {\n",
       "        text-align: right;\n",
       "    }\n",
       "</style>\n",
       "<table border=\"1\" class=\"dataframe\">\n",
       "  <thead>\n",
       "    <tr style=\"text-align: right;\">\n",
       "      <th></th>\n",
       "      <th>date</th>\n",
       "      <th>campaign</th>\n",
       "      <th>source</th>\n",
       "      <th>medium</th>\n",
       "      <th>device</th>\n",
       "      <th>client_id</th>\n",
       "      <th>session_id</th>\n",
       "      <th>event_time</th>\n",
       "      <th>event_name</th>\n",
       "      <th>current_tariff</th>\n",
       "      <th>is_LSE_member</th>\n",
       "      <th>user_auth</th>\n",
       "      <th>user_type</th>\n",
       "      <th>region_name</th>\n",
       "      <th>age</th>\n",
       "      <th>gender</th>\n",
       "      <th>rfm_index</th>\n",
       "      <th>have_home_inet</th>\n",
       "    </tr>\n",
       "  </thead>\n",
       "  <tbody>\n",
       "    <tr>\n",
       "      <th>0</th>\n",
       "      <td>2022-11-01</td>\n",
       "      <td>eshop_art_alw_sim_none_yandex_search_brand-pro...</td>\n",
       "      <td>yandex</td>\n",
       "      <td>cpc</td>\n",
       "      <td>desktop</td>\n",
       "      <td>117251283.164232</td>\n",
       "      <td>5988994287612526860</td>\n",
       "      <td>2022-11-01 12:23:11</td>\n",
       "      <td>Покупка</td>\n",
       "      <td>Мой разговор</td>\n",
       "      <td>0.0</td>\n",
       "      <td>1</td>\n",
       "      <td>B2C</td>\n",
       "      <td>TYUMEN</td>\n",
       "      <td>25 - 39 лет</td>\n",
       "      <td>Male</td>\n",
       "      <td>141.0</td>\n",
       "      <td>0.0</td>\n",
       "    </tr>\n",
       "    <tr>\n",
       "      <th>1</th>\n",
       "      <td>2022-11-01</td>\n",
       "      <td>eshop_art_alw_sim_none_yandex_search_brand-pro...</td>\n",
       "      <td>yandex</td>\n",
       "      <td>cpc</td>\n",
       "      <td>desktop</td>\n",
       "      <td>117251283.164232</td>\n",
       "      <td>5988994287612526860</td>\n",
       "      <td>2022-11-01 12:22:49</td>\n",
       "      <td>Клик на кнопку Продолжить 3 (Экран выбора спос...</td>\n",
       "      <td>Мой разговор</td>\n",
       "      <td>0.0</td>\n",
       "      <td>1</td>\n",
       "      <td>B2C</td>\n",
       "      <td>TYUMEN</td>\n",
       "      <td>25 - 39 лет</td>\n",
       "      <td>Male</td>\n",
       "      <td>141.0</td>\n",
       "      <td>0.0</td>\n",
       "    </tr>\n",
       "    <tr>\n",
       "      <th>2</th>\n",
       "      <td>2022-11-01</td>\n",
       "      <td>eshop_art_alw_sim_none_yandex_search_brand-pro...</td>\n",
       "      <td>yandex</td>\n",
       "      <td>cpc</td>\n",
       "      <td>desktop</td>\n",
       "      <td>117251283.164232</td>\n",
       "      <td>5988994287612526860</td>\n",
       "      <td>2022-11-01 12:22:19</td>\n",
       "      <td>Ввод контактного номера</td>\n",
       "      <td>Мой разговор</td>\n",
       "      <td>0.0</td>\n",
       "      <td>1</td>\n",
       "      <td>B2C</td>\n",
       "      <td>TYUMEN</td>\n",
       "      <td>25 - 39 лет</td>\n",
       "      <td>Male</td>\n",
       "      <td>141.0</td>\n",
       "      <td>0.0</td>\n",
       "    </tr>\n",
       "    <tr>\n",
       "      <th>3</th>\n",
       "      <td>2022-11-01</td>\n",
       "      <td>eshop_art_alw_sim_none_yandex_search_brand-pro...</td>\n",
       "      <td>yandex</td>\n",
       "      <td>cpc</td>\n",
       "      <td>desktop</td>\n",
       "      <td>117251283.164232</td>\n",
       "      <td>5988994287612526860</td>\n",
       "      <td>2022-11-01 12:22:59</td>\n",
       "      <td>Клик на кнопку Продолжить 4 (Экран выбора адре...</td>\n",
       "      <td>Мой разговор</td>\n",
       "      <td>0.0</td>\n",
       "      <td>1</td>\n",
       "      <td>B2C</td>\n",
       "      <td>TYUMEN</td>\n",
       "      <td>25 - 39 лет</td>\n",
       "      <td>Male</td>\n",
       "      <td>141.0</td>\n",
       "      <td>0.0</td>\n",
       "    </tr>\n",
       "    <tr>\n",
       "      <th>4</th>\n",
       "      <td>2022-11-01</td>\n",
       "      <td>eshop_art_alw_sim_none_yandex_search_brand-pro...</td>\n",
       "      <td>yandex</td>\n",
       "      <td>cpc</td>\n",
       "      <td>desktop</td>\n",
       "      <td>117251283.164232</td>\n",
       "      <td>5988994287612526860</td>\n",
       "      <td>2022-11-01 12:22:21</td>\n",
       "      <td>Ввод имени</td>\n",
       "      <td>Мой разговор</td>\n",
       "      <td>0.0</td>\n",
       "      <td>1</td>\n",
       "      <td>B2C</td>\n",
       "      <td>TYUMEN</td>\n",
       "      <td>25 - 39 лет</td>\n",
       "      <td>Male</td>\n",
       "      <td>141.0</td>\n",
       "      <td>0.0</td>\n",
       "    </tr>\n",
       "  </tbody>\n",
       "</table>\n",
       "</div>"
      ],
      "text/plain": [
       "         date                                           campaign  source  \\\n",
       "0  2022-11-01  eshop_art_alw_sim_none_yandex_search_brand-pro...  yandex   \n",
       "1  2022-11-01  eshop_art_alw_sim_none_yandex_search_brand-pro...  yandex   \n",
       "2  2022-11-01  eshop_art_alw_sim_none_yandex_search_brand-pro...  yandex   \n",
       "3  2022-11-01  eshop_art_alw_sim_none_yandex_search_brand-pro...  yandex   \n",
       "4  2022-11-01  eshop_art_alw_sim_none_yandex_search_brand-pro...  yandex   \n",
       "\n",
       "  medium   device         client_id           session_id           event_time  \\\n",
       "0    cpc  desktop  117251283.164232  5988994287612526860  2022-11-01 12:23:11   \n",
       "1    cpc  desktop  117251283.164232  5988994287612526860  2022-11-01 12:22:49   \n",
       "2    cpc  desktop  117251283.164232  5988994287612526860  2022-11-01 12:22:19   \n",
       "3    cpc  desktop  117251283.164232  5988994287612526860  2022-11-01 12:22:59   \n",
       "4    cpc  desktop  117251283.164232  5988994287612526860  2022-11-01 12:22:21   \n",
       "\n",
       "                                          event_name current_tariff  \\\n",
       "0                                            Покупка   Мой разговор   \n",
       "1  Клик на кнопку Продолжить 3 (Экран выбора спос...   Мой разговор   \n",
       "2                            Ввод контактного номера   Мой разговор   \n",
       "3  Клик на кнопку Продолжить 4 (Экран выбора адре...   Мой разговор   \n",
       "4                                         Ввод имени   Мой разговор   \n",
       "\n",
       "   is_LSE_member  user_auth user_type region_name          age gender  \\\n",
       "0            0.0          1       B2C      TYUMEN  25 - 39 лет   Male   \n",
       "1            0.0          1       B2C      TYUMEN  25 - 39 лет   Male   \n",
       "2            0.0          1       B2C      TYUMEN  25 - 39 лет   Male   \n",
       "3            0.0          1       B2C      TYUMEN  25 - 39 лет   Male   \n",
       "4            0.0          1       B2C      TYUMEN  25 - 39 лет   Male   \n",
       "\n",
       "   rfm_index  have_home_inet  \n",
       "0      141.0             0.0  \n",
       "1      141.0             0.0  \n",
       "2      141.0             0.0  \n",
       "3      141.0             0.0  \n",
       "4      141.0             0.0  "
      ]
     },
     "execution_count": 2,
     "metadata": {},
     "output_type": "execute_result"
    }
   ],
   "source": [
    "data = pd.read_csv('tele2_dataset.csv')\n",
    "data.head()"
   ]
  },
  {
   "cell_type": "code",
   "execution_count": 3,
   "metadata": {},
   "outputs": [],
   "source": [
    "df = pd.read_csv('plotnost-podvizhnoj-svyazi-2022.csv', sep=';', skipinitialspace=True, decimal=',')"
   ]
  },
  {
   "cell_type": "code",
   "execution_count": 4,
   "metadata": {},
   "outputs": [
    {
     "data": {
      "text/plain": [
       "['KRASNODAR', 'MSK', 'NNOV', 'NOVGOROD', 'SPB', 'YANAO']"
      ]
     },
     "execution_count": 4,
     "metadata": {},
     "output_type": "execute_result"
    }
   ],
   "source": [
    "# Удаляем регионы с телефонной плотностью больше 225, так как они очень отличаются от основнй выборки\n",
    "largest_regions = df[df['telephone_density']>225]['region_name'].to_list()\n",
    "df = df[df.region_name.isin (largest_regions) == False ]\n",
    "largest_regions"
   ]
  },
  {
   "cell_type": "code",
   "execution_count": 5,
   "metadata": {},
   "outputs": [
    {
     "data": {
      "text/plain": [
       "(185.81, 192.185, 201.61)"
      ]
     },
     "execution_count": 5,
     "metadata": {},
     "output_type": "execute_result"
    }
   ],
   "source": [
    "# Найдем границы 25, 50 и 75 перцентелей\n",
    "sorted_data = sorted(df['telephone_density'])\n",
    "\n",
    "q1 = np.percentile(sorted_data, 25)\n",
    "q2 = np.percentile(sorted_data, 50)\n",
    "q3 = np.percentile(sorted_data, 75)\n",
    "\n",
    "q1, q2, q3"
   ]
  },
  {
   "cell_type": "code",
   "execution_count": 6,
   "metadata": {},
   "outputs": [],
   "source": [
    "# Поделим данные по границам выбраных перцентилей\n",
    "mini_regions = df[df['telephone_density']<=q1]['region_name'].to_list()\n",
    "small_regions = df.loc[(df['telephone_density'] > q1) &(df['telephone_density'] <= q2)]['region_name'].to_list()\n",
    "standart_regions = df.loc[(df['telephone_density'] > q2) &(df['telephone_density'] <= q3)]['region_name'].to_list()\n",
    "big_regions = df[df['telephone_density']>=q3]['region_name'].to_list()"
   ]
  },
  {
   "cell_type": "code",
   "execution_count": 7,
   "metadata": {},
   "outputs": [
    {
     "data": {
      "text/plain": [
       "['ALTAI',\n",
       " 'BARNAUL',\n",
       " 'BRYANSK',\n",
       " 'BURYATIA',\n",
       " 'EAO',\n",
       " 'KHAKASIA',\n",
       " 'KUZBASS',\n",
       " 'MARIEL',\n",
       " 'MORDOVIA',\n",
       " 'PENZA',\n",
       " 'SARATOV',\n",
       " 'TAMBOV',\n",
       " 'TOMSK',\n",
       " 'VLADIMIR',\n",
       " 'VOLGOGRAD']"
      ]
     },
     "execution_count": 7,
     "metadata": {},
     "output_type": "execute_result"
    }
   ],
   "source": [
    "mini_regions"
   ]
  },
  {
   "cell_type": "code",
   "execution_count": 8,
   "metadata": {},
   "outputs": [
    {
     "data": {
      "text/plain": [
       "['BELGOROD',\n",
       " 'CHELYABINSK',\n",
       " 'CHUVASHIA',\n",
       " 'IZHEVSK',\n",
       " 'KALUGA',\n",
       " 'KAZAN',\n",
       " 'KRASNOYARSK',\n",
       " 'KURSK',\n",
       " 'LIPETSK',\n",
       " 'MAGADAN',\n",
       " 'SAMARA',\n",
       " 'TULA',\n",
       " 'ULN',\n",
       " 'VLADIVOSTOK']"
      ]
     },
     "execution_count": 8,
     "metadata": {},
     "output_type": "execute_result"
    }
   ],
   "source": [
    "small_regions"
   ]
  },
  {
   "cell_type": "code",
   "execution_count": 9,
   "metadata": {},
   "outputs": [
    {
     "data": {
      "text/plain": [
       "['HMAO',\n",
       " 'IRKUTSK',\n",
       " 'IVANOVO',\n",
       " 'KALININGRAD',\n",
       " 'KHABAROVSK',\n",
       " 'KOSTROMA',\n",
       " 'OMSK',\n",
       " 'PERM',\n",
       " 'ROSTOV',\n",
       " 'RYAZAN',\n",
       " 'TVER',\n",
       " 'TYUMEN',\n",
       " 'VOLOGDA',\n",
       " 'VORONEZH']"
      ]
     },
     "execution_count": 9,
     "metadata": {},
     "output_type": "execute_result"
    }
   ],
   "source": [
    "standart_regions"
   ]
  },
  {
   "cell_type": "code",
   "execution_count": 10,
   "metadata": {},
   "outputs": [
    {
     "data": {
      "text/plain": [
       "['ARH',\n",
       " 'EKT',\n",
       " 'KAMCHATKA',\n",
       " 'KARELIA',\n",
       " 'KIROV',\n",
       " 'KOMI',\n",
       " 'KURGAN',\n",
       " 'MURMANSK',\n",
       " 'NOVOSIBIRSK',\n",
       " 'OREL',\n",
       " 'ORENBURG',\n",
       " 'PSKOV',\n",
       " 'SAKHALIN',\n",
       " 'SMOLENSK',\n",
       " 'YAR']"
      ]
     },
     "execution_count": 10,
     "metadata": {},
     "output_type": "execute_result"
    }
   ],
   "source": [
    "big_regions"
   ]
  },
  {
   "cell_type": "code",
   "execution_count": 11,
   "metadata": {},
   "outputs": [
    {
     "data": {
      "text/plain": [
       "['KRASNODAR', 'MSK', 'NNOV', 'NOVGOROD', 'SPB', 'YANAO']"
      ]
     },
     "execution_count": 11,
     "metadata": {},
     "output_type": "execute_result"
    }
   ],
   "source": [
    "largest_regions"
   ]
  },
  {
   "cell_type": "code",
   "execution_count": 12,
   "metadata": {},
   "outputs": [],
   "source": [
    "group = data[['client_id', 'region_name', 'gender']].drop_duplicates().set_index('client_id')"
   ]
  },
  {
   "cell_type": "code",
   "execution_count": 13,
   "metadata": {},
   "outputs": [
    {
     "data": {
      "text/html": [
       "<div>\n",
       "<style scoped>\n",
       "    .dataframe tbody tr th:only-of-type {\n",
       "        vertical-align: middle;\n",
       "    }\n",
       "\n",
       "    .dataframe tbody tr th {\n",
       "        vertical-align: top;\n",
       "    }\n",
       "\n",
       "    .dataframe thead th {\n",
       "        text-align: right;\n",
       "    }\n",
       "</style>\n",
       "<table border=\"1\" class=\"dataframe\">\n",
       "  <thead>\n",
       "    <tr style=\"text-align: right;\">\n",
       "      <th></th>\n",
       "      <th>region_name</th>\n",
       "      <th>gender</th>\n",
       "    </tr>\n",
       "    <tr>\n",
       "      <th>client_id</th>\n",
       "      <th></th>\n",
       "      <th></th>\n",
       "    </tr>\n",
       "  </thead>\n",
       "  <tbody>\n",
       "    <tr>\n",
       "      <th>117251283.16423236</th>\n",
       "      <td>TYUMEN</td>\n",
       "      <td>Male</td>\n",
       "    </tr>\n",
       "    <tr>\n",
       "      <th>16102451.166726004</th>\n",
       "      <td>KHABAROVSK</td>\n",
       "      <td>Male</td>\n",
       "    </tr>\n",
       "    <tr>\n",
       "      <th>1694252595.1667314</th>\n",
       "      <td>MSK</td>\n",
       "      <td>Male</td>\n",
       "    </tr>\n",
       "    <tr>\n",
       "      <th>1760047392.166496</th>\n",
       "      <td>CHELYABINSK</td>\n",
       "      <td>Male</td>\n",
       "    </tr>\n",
       "    <tr>\n",
       "      <th>1887972581.166496</th>\n",
       "      <td>BARNAUL</td>\n",
       "      <td>Male</td>\n",
       "    </tr>\n",
       "    <tr>\n",
       "      <th>...</th>\n",
       "      <td>...</td>\n",
       "      <td>...</td>\n",
       "    </tr>\n",
       "    <tr>\n",
       "      <th>5638055.1669796789</th>\n",
       "      <td>SPB</td>\n",
       "      <td>Male</td>\n",
       "    </tr>\n",
       "    <tr>\n",
       "      <th>1171786665.1669820193</th>\n",
       "      <td>PERM</td>\n",
       "      <td>Male</td>\n",
       "    </tr>\n",
       "    <tr>\n",
       "      <th>373789213.1669794411</th>\n",
       "      <td>MSK</td>\n",
       "      <td>Female</td>\n",
       "    </tr>\n",
       "    <tr>\n",
       "      <th>346641068.1669795929</th>\n",
       "      <td>KRASNOYARSK</td>\n",
       "      <td>Female</td>\n",
       "    </tr>\n",
       "    <tr>\n",
       "      <th>934745616.1669761758</th>\n",
       "      <td>YAR</td>\n",
       "      <td>Female</td>\n",
       "    </tr>\n",
       "  </tbody>\n",
       "</table>\n",
       "<p>22791 rows × 2 columns</p>\n",
       "</div>"
      ],
      "text/plain": [
       "                       region_name  gender\n",
       "client_id                                 \n",
       "117251283.16423236          TYUMEN    Male\n",
       "16102451.166726004      KHABAROVSK    Male\n",
       "1694252595.1667314             MSK    Male\n",
       "1760047392.166496      CHELYABINSK    Male\n",
       "1887972581.166496          BARNAUL    Male\n",
       "...                            ...     ...\n",
       "5638055.1669796789             SPB    Male\n",
       "1171786665.1669820193         PERM    Male\n",
       "373789213.1669794411           MSK  Female\n",
       "346641068.1669795929   KRASNOYARSK  Female\n",
       "934745616.1669761758           YAR  Female\n",
       "\n",
       "[22791 rows x 2 columns]"
      ]
     },
     "execution_count": 13,
     "metadata": {},
     "output_type": "execute_result"
    }
   ],
   "source": [
    "group"
   ]
  },
  {
   "cell_type": "code",
   "execution_count": 14,
   "metadata": {},
   "outputs": [
    {
     "data": {
      "text/html": [
       "<div>\n",
       "<style scoped>\n",
       "    .dataframe tbody tr th:only-of-type {\n",
       "        vertical-align: middle;\n",
       "    }\n",
       "\n",
       "    .dataframe tbody tr th {\n",
       "        vertical-align: top;\n",
       "    }\n",
       "\n",
       "    .dataframe thead th {\n",
       "        text-align: right;\n",
       "    }\n",
       "</style>\n",
       "<table border=\"1\" class=\"dataframe\">\n",
       "  <thead>\n",
       "    <tr style=\"text-align: right;\">\n",
       "      <th></th>\n",
       "      <th>sum</th>\n",
       "    </tr>\n",
       "    <tr>\n",
       "      <th>client_id</th>\n",
       "      <th></th>\n",
       "    </tr>\n",
       "  </thead>\n",
       "  <tbody>\n",
       "    <tr>\n",
       "      <th>58969.1668164031</th>\n",
       "      <td>1</td>\n",
       "    </tr>\n",
       "    <tr>\n",
       "      <th>185890.1668467195</th>\n",
       "      <td>1</td>\n",
       "    </tr>\n",
       "    <tr>\n",
       "      <th>226522.1668748316</th>\n",
       "      <td>1</td>\n",
       "    </tr>\n",
       "    <tr>\n",
       "      <th>333879.1667343453</th>\n",
       "      <td>1</td>\n",
       "    </tr>\n",
       "    <tr>\n",
       "      <th>382071.1669117794</th>\n",
       "      <td>1</td>\n",
       "    </tr>\n",
       "    <tr>\n",
       "      <th>...</th>\n",
       "      <td>...</td>\n",
       "    </tr>\n",
       "    <tr>\n",
       "      <th>996727428.1667880133</th>\n",
       "      <td>1</td>\n",
       "    </tr>\n",
       "    <tr>\n",
       "      <th>997789033.1668163974</th>\n",
       "      <td>1</td>\n",
       "    </tr>\n",
       "    <tr>\n",
       "      <th>998096131.1667798154</th>\n",
       "      <td>1</td>\n",
       "    </tr>\n",
       "    <tr>\n",
       "      <th>998608404.1665888280</th>\n",
       "      <td>2</td>\n",
       "    </tr>\n",
       "    <tr>\n",
       "      <th>dfd47840-afd0-68c0-1fd5-d3e2b1c6a1b5</th>\n",
       "      <td>1</td>\n",
       "    </tr>\n",
       "  </tbody>\n",
       "</table>\n",
       "<p>22503 rows × 1 columns</p>\n",
       "</div>"
      ],
      "text/plain": [
       "                                      sum\n",
       "client_id                                \n",
       "58969.1668164031                        1\n",
       "185890.1668467195                       1\n",
       "226522.1668748316                       1\n",
       "333879.1667343453                       1\n",
       "382071.1669117794                       1\n",
       "...                                   ...\n",
       "996727428.1667880133                    1\n",
       "997789033.1668163974                    1\n",
       "998096131.1667798154                    1\n",
       "998608404.1665888280                    2\n",
       "dfd47840-afd0-68c0-1fd5-d3e2b1c6a1b5    1\n",
       "\n",
       "[22503 rows x 1 columns]"
      ]
     },
     "execution_count": 14,
     "metadata": {},
     "output_type": "execute_result"
    }
   ],
   "source": [
    "df_cnt = data[['client_id', 'session_id']].drop_duplicates().drop('session_id', axis=1)\n",
    "df_cnt['sum'] = 1 \n",
    "df_cnt = df_cnt.groupby('client_id', as_index=False).agg('sum').set_index('client_id')\n",
    "df_cnt"
   ]
  },
  {
   "cell_type": "code",
   "execution_count": 15,
   "metadata": {},
   "outputs": [],
   "source": [
    "group = pd.merge(group, df_cnt, how ='left', left_index=True, right_index=True)"
   ]
  },
  {
   "cell_type": "code",
   "execution_count": 16,
   "metadata": {},
   "outputs": [
    {
     "data": {
      "text/html": [
       "<div>\n",
       "<style scoped>\n",
       "    .dataframe tbody tr th:only-of-type {\n",
       "        vertical-align: middle;\n",
       "    }\n",
       "\n",
       "    .dataframe tbody tr th {\n",
       "        vertical-align: top;\n",
       "    }\n",
       "\n",
       "    .dataframe thead th {\n",
       "        text-align: right;\n",
       "    }\n",
       "</style>\n",
       "<table border=\"1\" class=\"dataframe\">\n",
       "  <thead>\n",
       "    <tr style=\"text-align: right;\">\n",
       "      <th></th>\n",
       "      <th>region_name</th>\n",
       "      <th>gender</th>\n",
       "      <th>sum</th>\n",
       "    </tr>\n",
       "    <tr>\n",
       "      <th>client_id</th>\n",
       "      <th></th>\n",
       "      <th></th>\n",
       "      <th></th>\n",
       "    </tr>\n",
       "  </thead>\n",
       "  <tbody>\n",
       "    <tr>\n",
       "      <th>58969.1668164031</th>\n",
       "      <td>KRASNOYARSK</td>\n",
       "      <td>Female</td>\n",
       "      <td>1</td>\n",
       "    </tr>\n",
       "    <tr>\n",
       "      <th>185890.1668467195</th>\n",
       "      <td>BRYANSK</td>\n",
       "      <td>Male</td>\n",
       "      <td>1</td>\n",
       "    </tr>\n",
       "    <tr>\n",
       "      <th>226522.1668748316</th>\n",
       "      <td>KHABAROVSK</td>\n",
       "      <td>Female</td>\n",
       "      <td>1</td>\n",
       "    </tr>\n",
       "    <tr>\n",
       "      <th>333879.1667343453</th>\n",
       "      <td>KHABAROVSK</td>\n",
       "      <td>Female</td>\n",
       "      <td>1</td>\n",
       "    </tr>\n",
       "    <tr>\n",
       "      <th>382071.1669117794</th>\n",
       "      <td>SPB</td>\n",
       "      <td>Male</td>\n",
       "      <td>1</td>\n",
       "    </tr>\n",
       "    <tr>\n",
       "      <th>...</th>\n",
       "      <td>...</td>\n",
       "      <td>...</td>\n",
       "      <td>...</td>\n",
       "    </tr>\n",
       "    <tr>\n",
       "      <th>996727428.1667880133</th>\n",
       "      <td>HMAO</td>\n",
       "      <td>Female</td>\n",
       "      <td>1</td>\n",
       "    </tr>\n",
       "    <tr>\n",
       "      <th>997789033.1668163974</th>\n",
       "      <td>CHELYABINSK</td>\n",
       "      <td>Female</td>\n",
       "      <td>1</td>\n",
       "    </tr>\n",
       "    <tr>\n",
       "      <th>998096131.1667798154</th>\n",
       "      <td>CHELYABINSK</td>\n",
       "      <td>Male</td>\n",
       "      <td>1</td>\n",
       "    </tr>\n",
       "    <tr>\n",
       "      <th>998608404.1665888280</th>\n",
       "      <td>BURYATIA</td>\n",
       "      <td>Female</td>\n",
       "      <td>2</td>\n",
       "    </tr>\n",
       "    <tr>\n",
       "      <th>dfd47840-afd0-68c0-1fd5-d3e2b1c6a1b5</th>\n",
       "      <td>CHELYABINSK</td>\n",
       "      <td>Male</td>\n",
       "      <td>1</td>\n",
       "    </tr>\n",
       "  </tbody>\n",
       "</table>\n",
       "<p>22791 rows × 3 columns</p>\n",
       "</div>"
      ],
      "text/plain": [
       "                                      region_name  gender  sum\n",
       "client_id                                                     \n",
       "58969.1668164031                      KRASNOYARSK  Female    1\n",
       "185890.1668467195                         BRYANSK    Male    1\n",
       "226522.1668748316                      KHABAROVSK  Female    1\n",
       "333879.1667343453                      KHABAROVSK  Female    1\n",
       "382071.1669117794                             SPB    Male    1\n",
       "...                                           ...     ...  ...\n",
       "996727428.1667880133                         HMAO  Female    1\n",
       "997789033.1668163974                  CHELYABINSK  Female    1\n",
       "998096131.1667798154                  CHELYABINSK    Male    1\n",
       "998608404.1665888280                     BURYATIA  Female    2\n",
       "dfd47840-afd0-68c0-1fd5-d3e2b1c6a1b5  CHELYABINSK    Male    1\n",
       "\n",
       "[22791 rows x 3 columns]"
      ]
     },
     "execution_count": 16,
     "metadata": {},
     "output_type": "execute_result"
    }
   ],
   "source": [
    "group"
   ]
  },
  {
   "cell_type": "markdown",
   "metadata": {},
   "source": [
    "['KRASNODAR', 'MSK', 'NNOV', 'NOVGOROD', 'SPB', 'YANAO']"
   ]
  },
  {
   "cell_type": "code",
   "execution_count": 17,
   "metadata": {},
   "outputs": [
    {
     "data": {
      "text/html": [
       "<div>\n",
       "<style scoped>\n",
       "    .dataframe tbody tr th:only-of-type {\n",
       "        vertical-align: middle;\n",
       "    }\n",
       "\n",
       "    .dataframe tbody tr th {\n",
       "        vertical-align: top;\n",
       "    }\n",
       "\n",
       "    .dataframe thead th {\n",
       "        text-align: right;\n",
       "    }\n",
       "</style>\n",
       "<table border=\"1\" class=\"dataframe\">\n",
       "  <thead>\n",
       "    <tr style=\"text-align: right;\">\n",
       "      <th></th>\n",
       "      <th>region_name</th>\n",
       "      <th>gender</th>\n",
       "      <th>sum</th>\n",
       "    </tr>\n",
       "    <tr>\n",
       "      <th>client_id</th>\n",
       "      <th></th>\n",
       "      <th></th>\n",
       "      <th></th>\n",
       "    </tr>\n",
       "  </thead>\n",
       "  <tbody>\n",
       "    <tr>\n",
       "      <th>1015492.166866616</th>\n",
       "      <td>MSK</td>\n",
       "      <td>Female</td>\n",
       "      <td>2</td>\n",
       "    </tr>\n",
       "    <tr>\n",
       "      <th>23046227.16682417</th>\n",
       "      <td>MSK</td>\n",
       "      <td>Female</td>\n",
       "      <td>2</td>\n",
       "    </tr>\n",
       "    <tr>\n",
       "      <th>26679798.16673761</th>\n",
       "      <td>KRASNODAR</td>\n",
       "      <td>Female</td>\n",
       "      <td>3</td>\n",
       "    </tr>\n",
       "    <tr>\n",
       "      <th>35342361.16682643</th>\n",
       "      <td>NOVGOROD</td>\n",
       "      <td>Female</td>\n",
       "      <td>2</td>\n",
       "    </tr>\n",
       "    <tr>\n",
       "      <th>49415328.16692826</th>\n",
       "      <td>MSK</td>\n",
       "      <td>Female</td>\n",
       "      <td>2</td>\n",
       "    </tr>\n",
       "    <tr>\n",
       "      <th>...</th>\n",
       "      <td>...</td>\n",
       "      <td>...</td>\n",
       "      <td>...</td>\n",
       "    </tr>\n",
       "    <tr>\n",
       "      <th>927200491.1667937078</th>\n",
       "      <td>MSK</td>\n",
       "      <td>Female</td>\n",
       "      <td>3</td>\n",
       "    </tr>\n",
       "    <tr>\n",
       "      <th>939207627.1665231320</th>\n",
       "      <td>MSK</td>\n",
       "      <td>Female</td>\n",
       "      <td>3</td>\n",
       "    </tr>\n",
       "    <tr>\n",
       "      <th>944519828.1667733060</th>\n",
       "      <td>MSK</td>\n",
       "      <td>Female</td>\n",
       "      <td>2</td>\n",
       "    </tr>\n",
       "    <tr>\n",
       "      <th>9459685008.1667936438</th>\n",
       "      <td>MSK</td>\n",
       "      <td>Female</td>\n",
       "      <td>2</td>\n",
       "    </tr>\n",
       "    <tr>\n",
       "      <th>955121897.1668071568</th>\n",
       "      <td>NNOV</td>\n",
       "      <td>Female</td>\n",
       "      <td>2</td>\n",
       "    </tr>\n",
       "  </tbody>\n",
       "</table>\n",
       "<p>670 rows × 3 columns</p>\n",
       "</div>"
      ],
      "text/plain": [
       "                      region_name  gender  sum\n",
       "client_id                                     \n",
       "1015492.166866616             MSK  Female    2\n",
       "23046227.16682417             MSK  Female    2\n",
       "26679798.16673761       KRASNODAR  Female    3\n",
       "35342361.16682643        NOVGOROD  Female    2\n",
       "49415328.16692826             MSK  Female    2\n",
       "...                           ...     ...  ...\n",
       "927200491.1667937078          MSK  Female    3\n",
       "939207627.1665231320          MSK  Female    3\n",
       "944519828.1667733060          MSK  Female    2\n",
       "9459685008.1667936438         MSK  Female    2\n",
       "955121897.1668071568         NNOV  Female    2\n",
       "\n",
       "[670 rows x 3 columns]"
      ]
     },
     "execution_count": 17,
     "metadata": {},
     "output_type": "execute_result"
    }
   ],
   "source": [
    "q3 = np.percentile(sorted(group['sum']), 75)\n",
    "group = group[\n",
    "    (group['gender'] == 'Female') \n",
    "]\n",
    "group = group[(group['region_name'] == 'KRASNODAR') | (group['region_name'] == 'MSK') | (group['region_name'] == 'NNOV') |\n",
    "    (group['region_name'] == 'NOVGOROD') | (group['region_name'] == 'SPB') | (group['region_name'] == 'YANAO')\n",
    "]\n",
    "group = group[\n",
    "    (group['sum'] > q3)\n",
    "]\n",
    "group"
   ]
  },
  {
   "cell_type": "code",
   "execution_count": 18,
   "metadata": {},
   "outputs": [
    {
     "name": "stderr",
     "output_type": "stream",
     "text": [
      "C:\\Users\\Ульяна\\AppData\\Local\\Temp\\ipykernel_748\\2734979800.py:2: SettingWithCopyWarning: \n",
      "A value is trying to be set on a copy of a slice from a DataFrame.\n",
      "Try using .loc[row_indexer,col_indexer] = value instead\n",
      "\n",
      "See the caveats in the documentation: https://pandas.pydata.org/pandas-docs/stable/user_guide/indexing.html#returning-a-view-versus-a-copy\n",
      "  d['payer'] = 1\n"
     ]
    }
   ],
   "source": [
    "d = data[data['event_name'] == 'Покупка']\n",
    "d['payer'] = 1\n",
    "d = d[['client_id', 'payer']].groupby('client_id').sum()"
   ]
  },
  {
   "cell_type": "code",
   "execution_count": 19,
   "metadata": {},
   "outputs": [],
   "source": [
    "d = d.reset_index()\n",
    "d['client_id'] = d['client_id'].astype(float)"
   ]
  },
  {
   "cell_type": "code",
   "execution_count": 20,
   "metadata": {},
   "outputs": [
    {
     "data": {
      "text/plain": [
       "True"
      ]
     },
     "execution_count": 20,
     "metadata": {},
     "output_type": "execute_result"
    }
   ],
   "source": [
    "1010279.1667274744 in d['client_id'].values"
   ]
  },
  {
   "cell_type": "code",
   "execution_count": 21,
   "metadata": {},
   "outputs": [
    {
     "ename": "TypeError",
     "evalue": "Cannot index by location index with a non-integer key",
     "output_type": "error",
     "traceback": [
      "\u001b[1;31m---------------------------------------------------------------------------\u001b[0m",
      "\u001b[1;31mTypeError\u001b[0m                                 Traceback (most recent call last)",
      "Cell \u001b[1;32mIn[21], line 10\u001b[0m\n\u001b[0;32m      8\u001b[0m         group\u001b[38;5;241m.\u001b[39miloc[w_id][\u001b[38;5;124m'\u001b[39m\u001b[38;5;124mpayer\u001b[39m\u001b[38;5;124m'\u001b[39m] \u001b[38;5;241m=\u001b[39m \u001b[38;5;241m0\u001b[39m\n\u001b[0;32m      9\u001b[0m \u001b[38;5;28;01melse\u001b[39;00m:\n\u001b[1;32m---> 10\u001b[0m     \u001b[43mgroup\u001b[49m\u001b[38;5;241;43m.\u001b[39;49m\u001b[43miloc\u001b[49m\u001b[43m[\u001b[49m\u001b[43mw_id\u001b[49m\u001b[43m]\u001b[49m[\u001b[38;5;124m'\u001b[39m\u001b[38;5;124mpayer\u001b[39m\u001b[38;5;124m'\u001b[39m] \u001b[38;5;241m=\u001b[39m \u001b[38;5;241m0\u001b[39m\n",
      "File \u001b[1;32mc:\\Users\\Ульяна\\AppData\\Local\\Programs\\Python\\Python312\\Lib\\site-packages\\pandas\\core\\indexing.py:1153\u001b[0m, in \u001b[0;36m_LocationIndexer.__getitem__\u001b[1;34m(self, key)\u001b[0m\n\u001b[0;32m   1150\u001b[0m axis \u001b[38;5;241m=\u001b[39m \u001b[38;5;28mself\u001b[39m\u001b[38;5;241m.\u001b[39maxis \u001b[38;5;129;01mor\u001b[39;00m \u001b[38;5;241m0\u001b[39m\n\u001b[0;32m   1152\u001b[0m maybe_callable \u001b[38;5;241m=\u001b[39m com\u001b[38;5;241m.\u001b[39mapply_if_callable(key, \u001b[38;5;28mself\u001b[39m\u001b[38;5;241m.\u001b[39mobj)\n\u001b[1;32m-> 1153\u001b[0m \u001b[38;5;28;01mreturn\u001b[39;00m \u001b[38;5;28;43mself\u001b[39;49m\u001b[38;5;241;43m.\u001b[39;49m\u001b[43m_getitem_axis\u001b[49m\u001b[43m(\u001b[49m\u001b[43mmaybe_callable\u001b[49m\u001b[43m,\u001b[49m\u001b[43m \u001b[49m\u001b[43maxis\u001b[49m\u001b[38;5;241;43m=\u001b[39;49m\u001b[43maxis\u001b[49m\u001b[43m)\u001b[49m\n",
      "File \u001b[1;32mc:\\Users\\Ульяна\\AppData\\Local\\Programs\\Python\\Python312\\Lib\\site-packages\\pandas\\core\\indexing.py:1711\u001b[0m, in \u001b[0;36m_iLocIndexer._getitem_axis\u001b[1;34m(self, key, axis)\u001b[0m\n\u001b[0;32m   1709\u001b[0m key \u001b[38;5;241m=\u001b[39m item_from_zerodim(key)\n\u001b[0;32m   1710\u001b[0m \u001b[38;5;28;01mif\u001b[39;00m \u001b[38;5;129;01mnot\u001b[39;00m is_integer(key):\n\u001b[1;32m-> 1711\u001b[0m     \u001b[38;5;28;01mraise\u001b[39;00m \u001b[38;5;167;01mTypeError\u001b[39;00m(\u001b[38;5;124m\"\u001b[39m\u001b[38;5;124mCannot index by location index with a non-integer key\u001b[39m\u001b[38;5;124m\"\u001b[39m)\n\u001b[0;32m   1713\u001b[0m \u001b[38;5;66;03m# validate the location\u001b[39;00m\n\u001b[0;32m   1714\u001b[0m \u001b[38;5;28mself\u001b[39m\u001b[38;5;241m.\u001b[39m_validate_integer(key, axis)\n",
      "\u001b[1;31mTypeError\u001b[0m: Cannot index by location index with a non-integer key"
     ]
    }
   ],
   "source": [
    "top_woman = group.index\n",
    "top_woman.astype(float)\n",
    "for w_id in top_woman:\n",
    "    if w_id in d['client_id'].values:\n",
    "        if d.iloc[w_id] > 0:\n",
    "            group.iloc[w_id]['payer'] = 1\n",
    "        else:\n",
    "            group.iloc[w_id]['payer'] = 0\n",
    "    else:\n",
    "        group.iloc[w_id]['payer'] = 0"
   ]
  },
  {
   "cell_type": "code",
   "execution_count": 32,
   "metadata": {},
   "outputs": [
    {
     "data": {
      "text/plain": [
       "session_id\n",
       "141972659907373        [1043516595.1666613673]\n",
       "168600804989959           [1245916659.1669233]\n",
       "456173673257459             [991426336.166929]\n",
       "938695947723453            [1594686043.166956]\n",
       "1186551691689791          [1371117828.1666691]\n",
       "                                ...           \n",
       "9219115026099903349       [1142792924.1668308]\n",
       "9220217623014508991       [2022388297.1667209]\n",
       "9220851645177312063       [1939339809.1669388]\n",
       "9222232445890283069       [1274334158.1668792]\n",
       "9222745269667529853        [417002352.1668594]\n",
       "Name: client_id, Length: 30544, dtype: object"
      ]
     },
     "execution_count": 32,
     "metadata": {},
     "output_type": "execute_result"
    }
   ],
   "source": [
    "data.groupby('session_id')['client_id'].unique()"
   ]
  }
 ],
 "metadata": {
  "kernelspec": {
   "display_name": "Python 3",
   "language": "python",
   "name": "python3"
  },
  "language_info": {
   "codemirror_mode": {
    "name": "ipython",
    "version": 3
   },
   "file_extension": ".py",
   "mimetype": "text/x-python",
   "name": "python",
   "nbconvert_exporter": "python",
   "pygments_lexer": "ipython3",
   "version": "3.12.0"
  }
 },
 "nbformat": 4,
 "nbformat_minor": 2
}
