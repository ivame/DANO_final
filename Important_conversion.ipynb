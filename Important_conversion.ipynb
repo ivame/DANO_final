{
  "nbformat": 4,
  "nbformat_minor": 0,
  "metadata": {
    "colab": {
      "provenance": []
    },
    "kernelspec": {
      "name": "python3",
      "display_name": "Python 3"
    },
    "language_info": {
      "name": "python"
    }
  },
  "cells": [
    {
      "cell_type": "code",
      "execution_count": null,
      "metadata": {
        "id": "-eevo9qo-o7O"
      },
      "outputs": [],
      "source": [
        "# импорт библиотек\n",
        "import pandas as pd\n",
        "import numpy as np\n",
        "import seaborn as sns\n",
        "import matplotlib.pyplot as plt\n",
        "import seaborn as sns\n",
        "import networkx as nx\n",
        "import json"
      ]
    },
    {
      "cell_type": "code",
      "source": [
        "from google.colab import drive\n",
        "drive.mount('/content/drive')"
      ],
      "metadata": {
        "colab": {
          "base_uri": "https://localhost:8080/"
        },
        "id": "dKiLUP51c77t",
        "outputId": "2a88bf8d-a33a-41f1-ec2b-f35c8fad2c3d"
      },
      "execution_count": null,
      "outputs": [
        {
          "output_type": "stream",
          "name": "stdout",
          "text": [
            "Drive already mounted at /content/drive; to attempt to forcibly remount, call drive.mount(\"/content/drive\", force_remount=True).\n"
          ]
        }
      ]
    },
    {
      "cell_type": "code",
      "source": [
        "def make_group(event: str):\n",
        "  # Посещение корзины с последующим оформлением заказа\n",
        "  g1 = ['Посещение корзины с добавленными товарами', 'Ввод промокода']\n",
        "\n",
        "  # 1е шаги оформления\n",
        "  g2 = ['Клик на кнопку Перейти к оформлению', 'Выбор радиобаттона eSIM', 'Выбор радиобаттона обычной SIM']\n",
        "\n",
        "  # Изменение тарифа\n",
        "  g3 = ['Выбор другого тарифа или номера в корзине']\n",
        "\n",
        "  # Ввод личных данных\n",
        "  g4 = ['Ввод контактного номера', 'Ввод имени', 'Ввод email',\n",
        "        'Клик на кнопку Продолжить 1 (Экран ввода контактных данных)', 'Клик на кнопку Продолжить 2 (Экран выбора региона)']\n",
        "\n",
        "  # Оформление доставки\n",
        "  g5 = ['Клик на кнопку Продолжить 3 (Экран выбора способа получения)', 'Клик на кнопку Продолжить 4 (Экран выбора адреса доставки/самовывоза)']\n",
        "\n",
        "  # Заполнение паспортных данных\n",
        "  g6 = ['Включение блока паспортных данных', 'Успешное заполнение всех полей паспортных данных']\n",
        "\n",
        "  # Покупка\n",
        "  g7 = ['Покупка']\n",
        "\n",
        "  if event in g1:\n",
        "    return 1\n",
        "  elif event in g2:\n",
        "    return 2\n",
        "  elif event in g3:\n",
        "    return 3\n",
        "  elif event in g4:\n",
        "    return 4\n",
        "  elif event in g5:\n",
        "    return 5\n",
        "  elif event in g6:\n",
        "    return 6\n",
        "  elif event in g7:\n",
        "    return 7"
      ],
      "metadata": {
        "id": "StF0_x2rKiRY"
      },
      "execution_count": null,
      "outputs": []
    },
    {
      "cell_type": "code",
      "source": [
        "def good_events(arr):\n",
        "    ''' Функция убирает те действия, которые повторяются, а также циклы повторяющихся действий. '''\n",
        "    ans = [arr[0]]\n",
        "    m = arr[0]\n",
        "    for i in range(1, len(arr)):\n",
        "        if arr[i] > arr[i-1] and arr[i] > m:\n",
        "            ans.append(arr[i])\n",
        "            m = arr[i]\n",
        "    return ans"
      ],
      "metadata": {
        "id": "Zgk4434jyE-i"
      },
      "execution_count": null,
      "outputs": []
    },
    {
      "cell_type": "code",
      "source": [
        "def add_event(line: str):\n",
        "    ans = ''\n",
        "    minimum = 1\n",
        "    maximum = max(line)\n",
        "    for i in range(int(minimum), int(maximum)+1):\n",
        "        i = str(i)\n",
        "        ans = ans + i if ((i in '36') and (i in line)) or (i not in '36') else ans\n",
        "    return ans\n"
      ],
      "metadata": {
        "id": "4_rzsn62OVh4"
      },
      "execution_count": null,
      "outputs": []
    },
    {
      "cell_type": "code",
      "source": [
        "def sessia_name(df_sessions):\n",
        "  df_sessions = df_sessions[['client_id', 'event_name', 'event_time']]\n",
        "  df_sessions = df_sessions.sort_values('event_time')\n",
        "  df_sessions['event_name'] = df_sessions.event_name.apply(lambda x: make_group(x))\n",
        "  df_sessions = df_sessions.groupby(['client_id'])['event_name'].agg(lambda x: good_events(x.to_list())).reset_index().sort_values('event_name')\n",
        "\n",
        "  return df_sessions"
      ],
      "metadata": {
        "id": "iahGDb20ziV1"
      },
      "execution_count": null,
      "outputs": []
    },
    {
      "cell_type": "code",
      "source": [
        "def seesia_right_name(df_sessions):\n",
        "  df_sessions_buy = df_sessions.copy()\n",
        "\n",
        "  # Сессии без покупки\n",
        "  df_sessions = df_sessions[df_sessions.event_name.apply(lambda x: 7 not in x)]\n",
        "\n",
        "  # Сессии с покупкой\n",
        "  df_sessions_buy = df_sessions_buy[df_sessions_buy.event_name.apply(lambda x: 7 in x)]\n",
        "  df_sessions_buy_copy = df_sessions_buy.copy()\n",
        "\n",
        "  df_sessions_buy_copy.event_name = df_sessions_buy_copy.event_name.apply(lambda x: x[0:(x.index(7)+1)])\n",
        "  df_sessions_buy_copy = df_sessions_buy_copy[df_sessions_buy_copy['event_name'].apply(lambda x: len(x) > 0)]\n",
        "  df_sessions_buy.event_name = df_sessions_buy.event_name.apply(lambda x: x[(x.index(7)+1):])\n",
        "  df_sessions_buy = df_sessions_buy[df_sessions_buy['event_name'].apply(lambda x: len(x) > 0)]\n",
        "\n",
        "  # Объединение всех сессий в 1 датафрейм\n",
        "  df_sessions_buy = pd.concat([df_sessions_buy, df_sessions_buy_copy]).reset_index()\n",
        "  df_sessions = pd.concat([df_sessions_buy, df_sessions]).reset_index()[['client_id', 'event_name']]\n",
        "\n",
        "  # Заполение обязательных действий в случаи их пропусков\n",
        "  df_sessions.event_name = df_sessions.event_name.apply(lambda x: ''.join(str(elem) for elem in x))\n",
        "  df_sessions['event_name'] = df_sessions.event_name.apply(lambda x: add_event(x))\n",
        "\n",
        "  return df_sessions"
      ],
      "metadata": {
        "id": "JO-2c0N-82Hp"
      },
      "execution_count": null,
      "outputs": []
    },
    {
      "cell_type": "code",
      "source": [
        "def konversia(vibor, is_ad: str, sex: str, region: str):\n",
        "  event = ['1', '2', '4', '5', '7']\n",
        "  count = len(vibor)\n",
        "  is_ad = 'no' if is_ad == '(not set)' else 'yes'\n",
        "\n",
        "  print(f'Region: {region}, Gender: {sex}, Marketing: {is_ad}')\n",
        "\n",
        "  for i in range(1, len(event)):\n",
        "    cnt = len(vibor[vibor['event_name'].apply(lambda x: event[i] in x)])\n",
        "    print('\\t', event[i-1],' --> ',event[i],' : ',round(cnt/count*100,2),\"%\", sep='')\n",
        "    count = cnt\n",
        "\n",
        "  count = len(vibor)\n",
        "  print('\\t', 1,' --> 7 : ',round(cnt/count*100,2),\"%\", sep='')"
      ],
      "metadata": {
        "id": "GJj8-TEfhB5g"
      },
      "execution_count": null,
      "outputs": []
    },
    {
      "cell_type": "code",
      "source": [
        "def konversia_all(vibor):\n",
        "  event = ['1', '2', '4', '5', '7']\n",
        "  count = len(vibor)\n",
        "\n",
        "\n",
        "  for i in range(1, len(event)):\n",
        "    cnt = len(vibor[vibor['event_name'].apply(lambda x: event[i] in x)])\n",
        "    print('\\t', event[i-1],' --> ',event[i],' : ',round(cnt/count*100,2),\"%\", sep='')\n",
        "    count = cnt\n",
        "\n",
        "  count = len(vibor)\n",
        "  print('\\t', 1,' --> 7 : ',round(cnt/count*100,2),\"%\", sep='')"
      ],
      "metadata": {
        "id": "L6VvPmozq06d"
      },
      "execution_count": 205,
      "outputs": []
    },
    {
      "cell_type": "code",
      "source": [
        "viborka = pd.read_csv('/content/drive/MyDrive/Colab Notebooks/for_nelli_conversions_1.csv')\n",
        "\n",
        "is_ad = '1'\n",
        "sex = 'Female'\n",
        "region = 'small_regions'\n",
        "\n",
        "viborka = sessia_name(viborka)\n",
        "viborka = seesia_right_name(viborka)\n",
        "\n",
        "konversia(viborka, is_ad, sex, region)"
      ],
      "metadata": {
        "colab": {
          "base_uri": "https://localhost:8080/"
        },
        "id": "yQKsV3kOk6sZ",
        "outputId": "c7e7d1c7-353a-4ea8-efe6-ee892639fe6f"
      },
      "execution_count": null,
      "outputs": [
        {
          "output_type": "stream",
          "name": "stdout",
          "text": [
            "Region: small_regions, Gender: Female, Marketing: yes\n",
            "\t1 --> 2 : 55.49%\n",
            "\t2 --> 4 : 55.37%\n",
            "\t4 --> 5 : 80.61%\n",
            "\t5 --> 7 : 78.48%\n",
            "\t1 --> 7 : 19.44%\n"
          ]
        }
      ]
    },
    {
      "cell_type": "code",
      "source": [
        "viborka = pd.read_csv('/content/drive/MyDrive/Colab Notebooks/for_nelli_conversions_2.csv')\n",
        "\n",
        "is_ad = '1'\n",
        "sex = 'Male'\n",
        "region = 'small_regions'\n",
        "\n",
        "viborka = sessia_name(viborka)\n",
        "viborka = seesia_right_name(viborka)\n",
        "\n",
        "konversia(viborka, is_ad, sex, region)"
      ],
      "metadata": {
        "colab": {
          "base_uri": "https://localhost:8080/"
        },
        "id": "7ati4LwaoM9a",
        "outputId": "5000f821-2939-45de-f8f0-77b36aa58d7e"
      },
      "execution_count": null,
      "outputs": [
        {
          "output_type": "stream",
          "name": "stdout",
          "text": [
            "Region: small_regions, Gender: Male, Marketing: yes\n",
            "\t1 --> 2 : 50.7%\n",
            "\t2 --> 4 : 56.02%\n",
            "\t4 --> 5 : 90.11%\n",
            "\t5 --> 7 : 85.44%\n",
            "\t1 --> 7 : 21.87%\n"
          ]
        }
      ]
    },
    {
      "cell_type": "code",
      "source": [
        "viborka = pd.read_csv('/content/drive/MyDrive/Colab Notebooks/for_nelli_conversions_3.csv')\n",
        "\n",
        "is_ad = '1'\n",
        "sex = 'Female'\n",
        "region = 'big_regions'\n",
        "\n",
        "viborka = sessia_name(viborka)\n",
        "viborka = seesia_right_name(viborka)\n",
        "\n",
        "konversia(viborka, is_ad, sex, region)"
      ],
      "metadata": {
        "colab": {
          "base_uri": "https://localhost:8080/"
        },
        "id": "wRodJ0JnoyPK",
        "outputId": "46ae89f1-4b78-44eb-b0be-23ba792a25d4"
      },
      "execution_count": null,
      "outputs": [
        {
          "output_type": "stream",
          "name": "stdout",
          "text": [
            "Region: big_regions, Gender: Female, Marketing: yes\n",
            "\t1 --> 2 : 49.29%\n",
            "\t2 --> 4 : 53.55%\n",
            "\t4 --> 5 : 87.07%\n",
            "\t5 --> 7 : 87.32%\n",
            "\t1 --> 7 : 20.07%\n"
          ]
        }
      ]
    },
    {
      "cell_type": "code",
      "source": [
        "viborka = pd.read_csv('/content/drive/MyDrive/Dano/tele2_dataset.csv')\n",
        "\n",
        "\n",
        "viborka = sessia_name(viborka)\n",
        "viborka = seesia_right_name(viborka)\n",
        "\n",
        "konversia_all(viborka)"
      ],
      "metadata": {
        "id": "8QWS_GkrpE28",
        "colab": {
          "base_uri": "https://localhost:8080/"
        },
        "outputId": "e0b168c8-cc53-4175-c873-8e2f1a727f39"
      },
      "execution_count": 206,
      "outputs": [
        {
          "output_type": "stream",
          "name": "stderr",
          "text": [
            "<ipython-input-206-52326cf1b333>:1: DtypeWarning: Columns (5) have mixed types. Specify dtype option on import or set low_memory=False.\n",
            "  viborka = pd.read_csv('/content/drive/MyDrive/Dano/tele2_dataset.csv')\n"
          ]
        },
        {
          "output_type": "stream",
          "name": "stdout",
          "text": [
            "\t1 --> 2 : 49.47%\n",
            "\t2 --> 4 : 50.0%\n",
            "\t4 --> 5 : 84.66%\n",
            "\t5 --> 7 : 82.41%\n",
            "\t1 --> 7 : 17.26%\n"
          ]
        }
      ]
    },
    {
      "cell_type": "code",
      "source": [],
      "metadata": {
        "id": "Nqmm12pJrQ9b"
      },
      "execution_count": null,
      "outputs": []
    }
  ]
}