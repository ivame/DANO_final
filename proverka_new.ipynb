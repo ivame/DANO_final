{
 "cells": [
  {
   "cell_type": "code",
   "execution_count": 221,
   "metadata": {},
   "outputs": [],
   "source": [
    "import pandas as pd"
   ]
  },
  {
   "cell_type": "markdown",
   "metadata": {},
   "source": [
    "### функции для конверсий"
   ]
  },
  {
   "cell_type": "code",
   "execution_count": 222,
   "metadata": {},
   "outputs": [],
   "source": [
    "def make_group(event: str):\n",
    "  # Посещение корзины с последующим оформлением заказа\n",
    "  g1 = ['Посещение корзины с добавленными товарами', 'Ввод промокода']\n",
    "\n",
    "  # 1е шаги оформления\n",
    "  g2 = ['Клик на кнопку Перейти к оформлению', 'Выбор радиобаттона eSIM', 'Выбор радиобаттона обычной SIM']\n",
    "\n",
    "  # Изменение тарифа\n",
    "  g3 = ['Выбор другого тарифа или номера в корзине']\n",
    "\n",
    "  # Ввод личных данных\n",
    "  g4 = ['Ввод контактного номера', 'Ввод имени', 'Ввод email',\n",
    "        'Клик на кнопку Продолжить 1 (Экран ввода контактных данных)', 'Клик на кнопку Продолжить 2 (Экран выбора региона)']\n",
    "\n",
    "  # Оформление доставки\n",
    "  g5 = ['Клик на кнопку Продолжить 3 (Экран выбора способа получения)', 'Клик на кнопку Продолжить 4 (Экран выбора адреса доставки/самовывоза)']\n",
    "\n",
    "  # Заполнение паспортных данных\n",
    "  g6 = ['Включение блока паспортных данных', 'Успешное заполнение всех полей паспортных данных']\n",
    "\n",
    "  # Покупка\n",
    "  g7 = ['Покупка']\n",
    "\n",
    "  if event in g1:\n",
    "    return 1\n",
    "  elif event in g2:\n",
    "    return 2\n",
    "  elif event in g3:\n",
    "    return 3\n",
    "  elif event in g4:\n",
    "    return 4\n",
    "  elif event in g5:\n",
    "    return 5\n",
    "  elif event in g6:\n",
    "    return 6\n",
    "  elif event in g7:\n",
    "    return 7"
   ]
  },
  {
   "cell_type": "code",
   "execution_count": 223,
   "metadata": {},
   "outputs": [],
   "source": [
    "def good_events(arr):\n",
    "    ''' Функция убирает те действия, которые повторяются, а также циклы повторяющихся действий. '''\n",
    "    ans = [arr[0]]\n",
    "    m = arr[0]\n",
    "    for i in range(1, len(arr)):\n",
    "        if arr[i] > arr[i-1] and arr[i] > m:\n",
    "            ans.append(arr[i])\n",
    "            m = arr[i]\n",
    "    return ans"
   ]
  },
  {
   "cell_type": "code",
   "execution_count": 224,
   "metadata": {},
   "outputs": [],
   "source": [
    "def add_event(line: str):\n",
    "    ans = ''\n",
    "    minimum = 1\n",
    "    maximum = max(line)\n",
    "    for i in range(int(minimum), int(maximum)+1):\n",
    "        i = str(i)\n",
    "        ans = ans + i if ((i in '36') and (i in line)) or (i not in '36') else ans\n",
    "    return ans\n"
   ]
  },
  {
   "cell_type": "code",
   "execution_count": 225,
   "metadata": {},
   "outputs": [],
   "source": [
    "def sessia_name(df_sessions):\n",
    "  df_sessions = df_sessions[['client_id', 'event_name', 'event_time']]\n",
    "  df_sessions = df_sessions.sort_values('event_time')\n",
    "  df_sessions['event_name'] = df_sessions.event_name.apply(lambda x: make_group(x))\n",
    "  df_sessions = df_sessions.groupby(['client_id'])['event_name'].agg(lambda x: good_events(x.to_list())).reset_index().sort_values('event_name')\n",
    "\n",
    "  return df_sessions"
   ]
  },
  {
   "cell_type": "code",
   "execution_count": 226,
   "metadata": {},
   "outputs": [],
   "source": [
    "def seesia_right_name(df_sessions):\n",
    "  df_sessions_buy = df_sessions.copy()\n",
    "\n",
    "  # Сессии без покупки\n",
    "  df_sessions = df_sessions[df_sessions.event_name.apply(lambda x: 7 not in x)]\n",
    "\n",
    "  # Сессии с покупкой\n",
    "  df_sessions_buy = df_sessions_buy[df_sessions_buy.event_name.apply(lambda x: 7 in x)]\n",
    "  df_sessions_buy_copy = df_sessions_buy.copy()\n",
    "\n",
    "  df_sessions_buy_copy.event_name = df_sessions_buy_copy.event_name.apply(lambda x: x[0:(x.index(7)+1)])\n",
    "  df_sessions_buy_copy = df_sessions_buy_copy[df_sessions_buy_copy['event_name'].apply(lambda x: len(x) > 0)]\n",
    "  df_sessions_buy.event_name = df_sessions_buy.event_name.apply(lambda x: x[(x.index(7)+1):])\n",
    "  df_sessions_buy = df_sessions_buy[df_sessions_buy['event_name'].apply(lambda x: len(x) > 0)]\n",
    "\n",
    "  # Объединение всех сессий в 1 датафрейм\n",
    "  df_sessions_buy = pd.concat([df_sessions_buy, df_sessions_buy_copy]).reset_index()\n",
    "  df_sessions = pd.concat([df_sessions_buy, df_sessions]).reset_index()[['client_id', 'event_name']]\n",
    "\n",
    "  # Заполение обязательных действий в случаи их пропусков\n",
    "  df_sessions.event_name = df_sessions.event_name.apply(lambda x: ''.join(str(elem) for elem in x))\n",
    "  df_sessions['event_name'] = df_sessions.event_name.apply(lambda x: add_event(x))\n",
    "\n",
    "  return df_sessions"
   ]
  },
  {
   "cell_type": "markdown",
   "metadata": {},
   "source": [
    "### подтверждение"
   ]
  },
  {
   "cell_type": "code",
   "execution_count": 227,
   "metadata": {},
   "outputs": [
    {
     "data": {
      "text/html": [
       "<div>\n",
       "<style scoped>\n",
       "    .dataframe tbody tr th:only-of-type {\n",
       "        vertical-align: middle;\n",
       "    }\n",
       "\n",
       "    .dataframe tbody tr th {\n",
       "        vertical-align: top;\n",
       "    }\n",
       "\n",
       "    .dataframe thead th {\n",
       "        text-align: right;\n",
       "    }\n",
       "</style>\n",
       "<table border=\"1\" class=\"dataframe\">\n",
       "  <thead>\n",
       "    <tr style=\"text-align: right;\">\n",
       "      <th></th>\n",
       "      <th>client_id</th>\n",
       "      <th>session_id</th>\n",
       "      <th>event_time</th>\n",
       "      <th>event_name</th>\n",
       "      <th>region_name</th>\n",
       "      <th>age</th>\n",
       "      <th>gender</th>\n",
       "    </tr>\n",
       "  </thead>\n",
       "  <tbody>\n",
       "    <tr>\n",
       "      <th>0</th>\n",
       "      <td>117251283.16423236</td>\n",
       "      <td>5988994287612526860</td>\n",
       "      <td>2022-11-01 12:23:11</td>\n",
       "      <td>Покупка</td>\n",
       "      <td>high_td</td>\n",
       "      <td>25 - 39 лет</td>\n",
       "      <td>Male</td>\n",
       "    </tr>\n",
       "    <tr>\n",
       "      <th>1</th>\n",
       "      <td>117251283.16423236</td>\n",
       "      <td>5988994287612526860</td>\n",
       "      <td>2022-11-01 12:22:49</td>\n",
       "      <td>Клик на кнопку Продолжить 3 (Экран выбора спос...</td>\n",
       "      <td>high_td</td>\n",
       "      <td>25 - 39 лет</td>\n",
       "      <td>Male</td>\n",
       "    </tr>\n",
       "    <tr>\n",
       "      <th>2</th>\n",
       "      <td>117251283.16423236</td>\n",
       "      <td>5988994287612526860</td>\n",
       "      <td>2022-11-01 12:22:19</td>\n",
       "      <td>Ввод контактного номера</td>\n",
       "      <td>high_td</td>\n",
       "      <td>25 - 39 лет</td>\n",
       "      <td>Male</td>\n",
       "    </tr>\n",
       "    <tr>\n",
       "      <th>3</th>\n",
       "      <td>117251283.16423236</td>\n",
       "      <td>5988994287612526860</td>\n",
       "      <td>2022-11-01 12:22:59</td>\n",
       "      <td>Клик на кнопку Продолжить 4 (Экран выбора адре...</td>\n",
       "      <td>high_td</td>\n",
       "      <td>25 - 39 лет</td>\n",
       "      <td>Male</td>\n",
       "    </tr>\n",
       "    <tr>\n",
       "      <th>4</th>\n",
       "      <td>117251283.16423236</td>\n",
       "      <td>5988994287612526860</td>\n",
       "      <td>2022-11-01 12:22:21</td>\n",
       "      <td>Ввод имени</td>\n",
       "      <td>high_td</td>\n",
       "      <td>25 - 39 лет</td>\n",
       "      <td>Male</td>\n",
       "    </tr>\n",
       "  </tbody>\n",
       "</table>\n",
       "</div>"
      ],
      "text/plain": [
       "            client_id           session_id           event_time  \\\n",
       "0  117251283.16423236  5988994287612526860  2022-11-01 12:23:11   \n",
       "1  117251283.16423236  5988994287612526860  2022-11-01 12:22:49   \n",
       "2  117251283.16423236  5988994287612526860  2022-11-01 12:22:19   \n",
       "3  117251283.16423236  5988994287612526860  2022-11-01 12:22:59   \n",
       "4  117251283.16423236  5988994287612526860  2022-11-01 12:22:21   \n",
       "\n",
       "                                          event_name region_name          age  \\\n",
       "0                                            Покупка     high_td  25 - 39 лет   \n",
       "1  Клик на кнопку Продолжить 3 (Экран выбора спос...     high_td  25 - 39 лет   \n",
       "2                            Ввод контактного номера     high_td  25 - 39 лет   \n",
       "3  Клик на кнопку Продолжить 4 (Экран выбора адре...     high_td  25 - 39 лет   \n",
       "4                                         Ввод имени     high_td  25 - 39 лет   \n",
       "\n",
       "  gender  \n",
       "0   Male  \n",
       "1   Male  \n",
       "2   Male  \n",
       "3   Male  \n",
       "4   Male  "
      ]
     },
     "execution_count": 227,
     "metadata": {},
     "output_type": "execute_result"
    }
   ],
   "source": [
    "data = pd.read_csv('Tele2_Clean.csv')\n",
    "data.head()"
   ]
  },
  {
   "cell_type": "code",
   "execution_count": 228,
   "metadata": {},
   "outputs": [],
   "source": [
    "gender = ['Male', 'Female']\n",
    "age = ['25 - 39 лет', '18 - 24 года', '54+', '40 - 54 года', 'До 18 лет']\n",
    "region = list(data.region_name.unique())"
   ]
  },
  {
   "cell_type": "code",
   "execution_count": 236,
   "metadata": {},
   "outputs": [],
   "source": [
    "general = data[(data['age'] != 'До 18 лет')]"
   ]
  },
  {
   "cell_type": "code",
   "execution_count": 256,
   "metadata": {},
   "outputs": [],
   "source": [
    "ans = []\n",
    "for sex in gender:\n",
    "    for reg in region:\n",
    "        viborka = data[\n",
    "            ((data['age'] == '40 - 54 года') | (data['age'] == '54+')) & \n",
    "            (data['gender'] == sex) & (data['region_name'] == reg)\n",
    "        ]\n",
    "        # формируем список выборочных конверсий\n",
    "        viborka = sessia_name(viborka)\n",
    "        viborka = seesia_right_name(viborka)\n",
    "        event_count = []\n",
    "\n",
    "        for i in range(1, 8):\n",
    "            viborka['d_'+str(i)] = viborka['event_name'].apply(lambda x: x.count(str(i)))\n",
    "            if i != 6 and i != 3:\n",
    "                event_count.append(viborka['d_'+str(i)].sum())\n",
    "\n",
    "        gsov = general\n",
    "        gsov = sessia_name(gsov)\n",
    "        gsov = seesia_right_name(gsov)\n",
    "        event_count_g = []\n",
    "\n",
    "        for i in range(1, 8):\n",
    "            gsov['d_'+str(i)] = gsov['event_name'].apply(lambda x: x.count(str(i)))\n",
    "            if i != 6 and i != 3: \n",
    "                event_count_g.append(gsov['d_'+str(i)].sum())\n",
    "        # 1 2 4 5 7 event_count\n",
    "        convers_v = {}\n",
    "        convers_g = {}\n",
    "            \n",
    "        for i in range(1, 5):\n",
    "            convers_v[f\"{i}->{i + 1}\"] = event_count[i] / event_count[i - 1]\n",
    "            convers_g[f\"{i}->{i + 1}\"] = event_count_g[i] / event_count_g[i - 1]\n",
    "        for i in range(4):\n",
    "            if convers_v[f\"{i + 1}->{i + 2}\"] != 'not enough':\n",
    "                z = (convers_v[f\"{i + 1}->{i + 2}\"] - convers_g[f\"{i + 1}->{i + 2}\"]) \\\n",
    "                / ((convers_g[f\"{i + 1}->{i + 2}\"] * (1 - convers_g[f\"{i + 1}->{i + 2}\"]) / event_count[i]) ** (1 / 2))\n",
    "                # if z < -1.96 or z > 1.96:\n",
    "                ans.append([sex, reg, z, f\"{i + 1}->{i + 2}\", event_count[i], convers_v[f\"{i + 1}->{i + 2}\"],\n",
    "                            convers_g[f\"{i + 1}->{i + 2}\"]])\n",
    "ans.sort(key=lambda x: abs(x[2]), reverse=True)"
   ]
  },
  {
   "cell_type": "code",
   "execution_count": 257,
   "metadata": {},
   "outputs": [
    {
     "name": "stdout",
     "output_type": "stream",
     "text": [
      "['Male', 'low_td', -2.8891834307049136, '1->2', 335, 0.41492537313432837, 0.493845871222559]\n",
      "['Male', 'Spb', -2.347825147380819, '2->3', 88, 0.375, 0.5001394959546173]\n",
      "['Male', 'Msk', -1.8223578488888093, '3->4', 171, 0.7953216374269005, 0.845667534399405]\n",
      "['Female', 'high_td', 1.7712411489977065, '4->5', 379, 0.8601583113456465, 0.8256376429199648]\n",
      "['Female', 'Spb', -1.588984736745338, '1->2', 201, 0.43781094527363185, 0.493845871222559]\n",
      "['Female', 'Spb', -1.4892790679978027, '4->5', 33, 0.7272727272727273, 0.8256376429199648]\n",
      "['Male', 'Spb', -1.4007604254754034, '3->4', 33, 0.7575757575757576, 0.845667534399405]\n",
      "['Male', 'low_td', -1.2995313648210312, '3->4', 66, 0.7878787878787878, 0.845667534399405]\n",
      "['Female', 'low_td', 1.1426389710015352, '3->4', 75, 0.8933333333333333, 0.845667534399405]\n",
      "['Female', 'Msk', -1.1194957136850825, '3->4', 167, 0.8143712574850299, 0.845667534399405]\n",
      "['Male', 'high_td', 1.077648642898053, '3->4', 428, 0.8644859813084113, 0.845667534399405]\n",
      "['Female', 'Spb', -1.0686207994627703, '2->3', 88, 0.4431818181818182, 0.5001394959546173]\n",
      "['Male', 'Msk', -0.9688008198606478, '4->5', 136, 0.7941176470588235, 0.8256376429199648]\n",
      "['Female', 'Msk', -0.9688008198606478, '4->5', 136, 0.7941176470588235, 0.8256376429199648]\n",
      "['Male', 'high_td', -0.9086111182530021, '1->2', 1813, 0.48317705460562604, 0.493845871222559]\n",
      "['Female', 'low_td', 0.8636648915094859, '4->5', 67, 0.8656716417910447, 0.8256376429199648]\n",
      "['Female', 'low_td', -0.7940984454747717, '2->3', 160, 0.46875, 0.5001394959546173]\n",
      "['Female', 'high_td', 0.7738180929551651, '2->3', 865, 0.5132947976878612, 0.5001394959546173]\n",
      "['Male', 'Msk', 0.7056194381732833, '1->2', 658, 0.5075987841945289, 0.493845871222559]\n",
      "['Male', 'high_td', -0.6839948114660915, '2->3', 876, 0.4885844748858447, 0.5001394959546173]\n",
      "['Female', 'high_td', 0.6316340286109317, '1->2', 1725, 0.5014492753623189, 0.493845871222559]\n",
      "['Male', 'low_td', -0.5970215401104833, '2->3', 139, 0.4748201438848921, 0.5001394959546173]\n",
      "['Female', 'high_td', 0.462880041297341, '3->4', 444, 0.8536036036036037, 0.845667534399405]\n",
      "['Female', 'Msk', -0.4377499382811599, '2->3', 342, 0.48830409356725146, 0.5001394959546173]\n",
      "['Male', 'Msk', 0.4326417777732416, '2->3', 334, 0.5119760479041916, 0.5001394959546173]\n",
      "['Male', 'low_td', 0.38992183534291447, '4->5', 52, 0.8461538461538461, 0.8256376429199648]\n",
      "['Male', 'Spb', 0.3140004620013256, '1->2', 174, 0.5057471264367817, 0.493845871222559]\n",
      "['Female', 'low_td', -0.21883065552809214, '1->2', 328, 0.4878048780487805, 0.493845871222559]\n",
      "['Male', 'Spb', 0.1892668769858086, '4->5', 25, 0.84, 0.8256376429199648]\n",
      "['Male', 'high_td', -0.06658092850527682, '4->5', 370, 0.8243243243243243, 0.8256376429199648]\n",
      "['Female', 'Msk', -0.05535174497410911, '1->2', 694, 0.49279538904899134, 0.493845871222559]\n",
      "['Female', 'Spb', 0.008406565362759872, '3->4', 39, 0.8461538461538461, 0.845667534399405]\n"
     ]
    }
   ],
   "source": [
    "print(*ans, sep='\\n')"
   ]
  },
  {
   "cell_type": "code",
   "execution_count": 258,
   "metadata": {},
   "outputs": [],
   "source": [
    "def norm_GtG(x):\n",
    "    if x == '2->3':\n",
    "        return '2->4'\n",
    "    if x == '3->4':\n",
    "        return '4->5'\n",
    "    if x == '4->5':\n",
    "        return '5->7'\n",
    "    return x\n",
    "    \n",
    "a = pd.DataFrame(ans)\n",
    "a.columns = ['sex', 'telephone_density', 'z-score', 'GtG', 'N', 'corr_v', 'corr_g']\n",
    "a['GtG'] = a['GtG'].apply(lambda x: norm_GtG(x))\n",
    "a.to_csv('sex_reg_less100.csv')"
   ]
  },
  {
   "cell_type": "code",
   "execution_count": null,
   "metadata": {},
   "outputs": [
    {
     "data": {
      "text/html": [
       "<div>\n",
       "<style scoped>\n",
       "    .dataframe tbody tr th:only-of-type {\n",
       "        vertical-align: middle;\n",
       "    }\n",
       "\n",
       "    .dataframe tbody tr th {\n",
       "        vertical-align: top;\n",
       "    }\n",
       "\n",
       "    .dataframe thead th {\n",
       "        text-align: right;\n",
       "    }\n",
       "</style>\n",
       "<table border=\"1\" class=\"dataframe\">\n",
       "  <thead>\n",
       "    <tr style=\"text-align: right;\">\n",
       "      <th></th>\n",
       "      <th>sex</th>\n",
       "      <th>telephone_density</th>\n",
       "      <th>z-score</th>\n",
       "      <th>GtG</th>\n",
       "      <th>N</th>\n",
       "      <th>corr_v</th>\n",
       "      <th>corr_g</th>\n",
       "    </tr>\n",
       "  </thead>\n",
       "  <tbody>\n",
       "    <tr>\n",
       "      <th>0</th>\n",
       "      <td>Male</td>\n",
       "      <td>low_td</td>\n",
       "      <td>-2.461429</td>\n",
       "      <td>1-&gt;2</td>\n",
       "      <td>335</td>\n",
       "      <td>0.414925</td>\n",
       "      <td>0.482124</td>\n",
       "    </tr>\n",
       "    <tr>\n",
       "      <th>1</th>\n",
       "      <td>Male</td>\n",
       "      <td>high_td</td>\n",
       "      <td>-2.442845</td>\n",
       "      <td>2-&gt;4</td>\n",
       "      <td>876</td>\n",
       "      <td>0.488584</td>\n",
       "      <td>0.529779</td>\n",
       "    </tr>\n",
       "    <tr>\n",
       "      <th>2</th>\n",
       "      <td>Female</td>\n",
       "      <td>Msk</td>\n",
       "      <td>-1.497557</td>\n",
       "      <td>1-&gt;2</td>\n",
       "      <td>694</td>\n",
       "      <td>0.492795</td>\n",
       "      <td>0.521193</td>\n",
       "    </tr>\n",
       "    <tr>\n",
       "      <th>3</th>\n",
       "      <td>Female</td>\n",
       "      <td>Msk</td>\n",
       "      <td>1.469019</td>\n",
       "      <td>2-&gt;4</td>\n",
       "      <td>342</td>\n",
       "      <td>0.488304</td>\n",
       "      <td>0.448795</td>\n",
       "    </tr>\n",
       "    <tr>\n",
       "      <th>4</th>\n",
       "      <td>Female</td>\n",
       "      <td>high_td</td>\n",
       "      <td>-1.112676</td>\n",
       "      <td>4-&gt;5</td>\n",
       "      <td>444</td>\n",
       "      <td>0.853604</td>\n",
       "      <td>0.871287</td>\n",
       "    </tr>\n",
       "    <tr>\n",
       "      <th>5</th>\n",
       "      <td>Male</td>\n",
       "      <td>high_td</td>\n",
       "      <td>-1.072189</td>\n",
       "      <td>1-&gt;2</td>\n",
       "      <td>1813</td>\n",
       "      <td>0.483177</td>\n",
       "      <td>0.495767</td>\n",
       "    </tr>\n",
       "    <tr>\n",
       "      <th>6</th>\n",
       "      <td>Female</td>\n",
       "      <td>Msk</td>\n",
       "      <td>1.027216</td>\n",
       "      <td>5-&gt;7</td>\n",
       "      <td>136</td>\n",
       "      <td>0.794118</td>\n",
       "      <td>0.756303</td>\n",
       "    </tr>\n",
       "    <tr>\n",
       "      <th>7</th>\n",
       "      <td>Male</td>\n",
       "      <td>Msk</td>\n",
       "      <td>1.023307</td>\n",
       "      <td>4-&gt;5</td>\n",
       "      <td>171</td>\n",
       "      <td>0.795322</td>\n",
       "      <td>0.761996</td>\n",
       "    </tr>\n",
       "    <tr>\n",
       "      <th>8</th>\n",
       "      <td>Female</td>\n",
       "      <td>high_td</td>\n",
       "      <td>0.732916</td>\n",
       "      <td>5-&gt;7</td>\n",
       "      <td>379</td>\n",
       "      <td>0.860158</td>\n",
       "      <td>0.846591</td>\n",
       "    </tr>\n",
       "    <tr>\n",
       "      <th>9</th>\n",
       "      <td>Female</td>\n",
       "      <td>high_td</td>\n",
       "      <td>0.693505</td>\n",
       "      <td>1-&gt;2</td>\n",
       "      <td>1725</td>\n",
       "      <td>0.501449</td>\n",
       "      <td>0.493101</td>\n",
       "    </tr>\n",
       "    <tr>\n",
       "      <th>10</th>\n",
       "      <td>Male</td>\n",
       "      <td>Msk</td>\n",
       "      <td>-0.636729</td>\n",
       "      <td>1-&gt;2</td>\n",
       "      <td>658</td>\n",
       "      <td>0.507599</td>\n",
       "      <td>0.520000</td>\n",
       "    </tr>\n",
       "    <tr>\n",
       "      <th>11</th>\n",
       "      <td>Female</td>\n",
       "      <td>low_td</td>\n",
       "      <td>0.627120</td>\n",
       "      <td>1-&gt;2</td>\n",
       "      <td>328</td>\n",
       "      <td>0.487805</td>\n",
       "      <td>0.470522</td>\n",
       "    </tr>\n",
       "    <tr>\n",
       "      <th>12</th>\n",
       "      <td>Male</td>\n",
       "      <td>high_td</td>\n",
       "      <td>-0.625107</td>\n",
       "      <td>5-&gt;7</td>\n",
       "      <td>370</td>\n",
       "      <td>0.824324</td>\n",
       "      <td>0.836347</td>\n",
       "    </tr>\n",
       "    <tr>\n",
       "      <th>13</th>\n",
       "      <td>Male</td>\n",
       "      <td>Msk</td>\n",
       "      <td>0.579838</td>\n",
       "      <td>5-&gt;7</td>\n",
       "      <td>136</td>\n",
       "      <td>0.794118</td>\n",
       "      <td>0.773300</td>\n",
       "    </tr>\n",
       "    <tr>\n",
       "      <th>14</th>\n",
       "      <td>Female</td>\n",
       "      <td>Msk</td>\n",
       "      <td>0.506389</td>\n",
       "      <td>4-&gt;5</td>\n",
       "      <td>167</td>\n",
       "      <td>0.814371</td>\n",
       "      <td>0.798658</td>\n",
       "    </tr>\n",
       "    <tr>\n",
       "      <th>15</th>\n",
       "      <td>Female</td>\n",
       "      <td>high_td</td>\n",
       "      <td>-0.497181</td>\n",
       "      <td>2-&gt;4</td>\n",
       "      <td>865</td>\n",
       "      <td>0.513295</td>\n",
       "      <td>0.521739</td>\n",
       "    </tr>\n",
       "    <tr>\n",
       "      <th>16</th>\n",
       "      <td>Male</td>\n",
       "      <td>Msk</td>\n",
       "      <td>0.402596</td>\n",
       "      <td>2-&gt;4</td>\n",
       "      <td>334</td>\n",
       "      <td>0.511976</td>\n",
       "      <td>0.500962</td>\n",
       "    </tr>\n",
       "    <tr>\n",
       "      <th>17</th>\n",
       "      <td>Male</td>\n",
       "      <td>high_td</td>\n",
       "      <td>-0.307745</td>\n",
       "      <td>4-&gt;5</td>\n",
       "      <td>428</td>\n",
       "      <td>0.864486</td>\n",
       "      <td>0.869497</td>\n",
       "    </tr>\n",
       "  </tbody>\n",
       "</table>\n",
       "</div>"
      ],
      "text/plain": [
       "       sex telephone_density   z-score   GtG     N    corr_v    corr_g\n",
       "0     Male            low_td -2.461429  1->2   335  0.414925  0.482124\n",
       "1     Male           high_td -2.442845  2->4   876  0.488584  0.529779\n",
       "2   Female               Msk -1.497557  1->2   694  0.492795  0.521193\n",
       "3   Female               Msk  1.469019  2->4   342  0.488304  0.448795\n",
       "4   Female           high_td -1.112676  4->5   444  0.853604  0.871287\n",
       "5     Male           high_td -1.072189  1->2  1813  0.483177  0.495767\n",
       "6   Female               Msk  1.027216  5->7   136  0.794118  0.756303\n",
       "7     Male               Msk  1.023307  4->5   171  0.795322  0.761996\n",
       "8   Female           high_td  0.732916  5->7   379  0.860158  0.846591\n",
       "9   Female           high_td  0.693505  1->2  1725  0.501449  0.493101\n",
       "10    Male               Msk -0.636729  1->2   658  0.507599  0.520000\n",
       "11  Female            low_td  0.627120  1->2   328  0.487805  0.470522\n",
       "12    Male           high_td -0.625107  5->7   370  0.824324  0.836347\n",
       "13    Male               Msk  0.579838  5->7   136  0.794118  0.773300\n",
       "14  Female               Msk  0.506389  4->5   167  0.814371  0.798658\n",
       "15  Female           high_td -0.497181  2->4   865  0.513295  0.521739\n",
       "16    Male               Msk  0.402596  2->4   334  0.511976  0.500962\n",
       "17    Male           high_td -0.307745  4->5   428  0.864486  0.869497"
      ]
     },
     "execution_count": 160,
     "metadata": {},
     "output_type": "execute_result"
    }
   ],
   "source": [
    "a"
   ]
  },
  {
   "cell_type": "code",
   "execution_count": 240,
   "metadata": {},
   "outputs": [],
   "source": [
    "ans_2 = []\n",
    "for reg in region:\n",
    "    # подсчет действий выборки стариков данного региона\n",
    "    viborka = data[((data['age'] == '40 - 54 года') | (data['age'] == '54+')) & (data['region_name'] == reg)]\n",
    "    viborka = sessia_name(viborka)\n",
    "    viborka = seesia_right_name(viborka)\n",
    "\n",
    "    event_count = []\n",
    "    for i in range(1, 8):\n",
    "        viborka['d_'+str(i)] = viborka['event_name'].apply(lambda x: x.count(str(i)))\n",
    "        if i != 6 and i != 3:\n",
    "            event_count.append(viborka['d_'+str(i)].sum())\n",
    "    \n",
    "    # подсчет действий молодых данного региона\n",
    "    gsov = general\n",
    "    gsov = sessia_name(gsov)\n",
    "    gsov = seesia_right_name(gsov)\n",
    "\n",
    "    event_count_g = []\n",
    "    for i in range(1, 8):\n",
    "        gsov['d_'+str(i)] = gsov['event_name'].apply(lambda x: x.count(str(i)))\n",
    "        if i != 6 and i != 3: \n",
    "            event_count_g.append(gsov['d_'+str(i)].sum())\n",
    "\n",
    "    convers_v = {}\n",
    "    convers_g = {}\n",
    "          \n",
    "    for i in range(1, 5):\n",
    "        if event_count[i] >= 100 and event_count[i - 1] >= 100:\n",
    "            convers_v[f\"{i}->{i + 1}\"] = event_count[i] / event_count[i - 1]\n",
    "            convers_g[f\"{i}->{i + 1}\"] = event_count_g[i] / event_count_g[i - 1]\n",
    "        else:\n",
    "            convers_v[f\"{i}->{i + 1}\"] = 'not enough'\n",
    "            convers_g[f\"{i}->{i + 1}\"] = 'not enough'\n",
    "\n",
    "    for i in range(4):\n",
    "        if convers_v[f\"{i + 1}->{i + 2}\"] != 'not enough':\n",
    "            z = (convers_v[f\"{i + 1}->{i + 2}\"] - convers_g[f\"{i + 1}->{i + 2}\"]) \\\n",
    "            / ((convers_g[f\"{i + 1}->{i + 2}\"] * (1 - convers_g[f\"{i + 1}->{i + 2}\"]) / event_count[i]) ** (1 / 2))\n",
    "            ans_2.append([reg, z, f\"{i + 1}->{i + 2}\", event_count[i], convers_v[f\"{i + 1}->{i + 2}\"],\n",
    "                        convers_g[f\"{i + 1}->{i + 2}\"]])\n",
    "    # подсчет действий \n",
    "    "
   ]
  },
  {
   "cell_type": "code",
   "execution_count": 241,
   "metadata": {},
   "outputs": [
    {
     "name": "stdout",
     "output_type": "stream",
     "text": [
      "['low_td', -2.1341333401332028, '1->2', 661, 0.4523449319213313, 0.493845871222559]\n",
      "['Msk', -2.109468370113924, '3->4', 337, 0.8041543026706232, 0.845667534399405]\n",
      "['Msk', -1.4005323753646743, '4->5', 271, 0.7933579335793358, 0.8256376429199648]\n",
      "['low_td', -0.9879596438838038, '2->3', 299, 0.47157190635451507, 0.5001394959546173]\n",
      "['Spb', -0.8996306918753358, '1->2', 374, 0.47058823529411764, 0.493845871222559]\n",
      "['high_td', -0.1610103748664557, '1->2', 3529, 0.49249079059223577, 0.493845871222559]\n",
      "['low_td', -0.05574194751751064, '3->4', 141, 0.8439716312056738, 0.845667534399405]\n",
      "['Msk', -0.04573844215145877, '2->3', 675, 0.49925925925925924, 0.5001394959546173]\n",
      "['high_td', -0.011630985434895774, '2->3', 1738, 0.5, 0.5001394959546173]\n",
      "['Msk', 0.47932968175984014, '1->2', 1349, 0.5003706449221645, 0.493845871222559]\n",
      "['low_td', 0.9058051996745601, '4->5', 119, 0.8571428571428571, 0.8256376429199648]\n",
      "['high_td', 1.1375799294034235, '3->4', 869, 0.859608745684695, 0.845667534399405]\n",
      "['high_td', 1.1811577550171228, '4->5', 747, 0.8420348058902276, 0.8256376429199648]\n"
     ]
    }
   ],
   "source": [
    "ans_2.sort(key=lambda x: x[1])\n",
    "print(*ans_2, sep='\\n')"
   ]
  },
  {
   "cell_type": "code",
   "execution_count": 242,
   "metadata": {},
   "outputs": [],
   "source": [
    "def norm_GtG(x):\n",
    "    if x == '2->3':\n",
    "        return '2->4'\n",
    "    elif x == '3->4':\n",
    "        return '4->5'\n",
    "    elif x == '4->5':\n",
    "        return '5->7'\n",
    "    else:\n",
    "        return x\n",
    "    \n",
    "\n",
    "a = pd.DataFrame(ans_2)\n",
    "a.columns = ['telephone_density', 'z-score', 'GtG', 'N', 'corr_v', 'corr_g']\n",
    "a['GtG'] = a['GtG'].apply(lambda x: norm_GtG(x))\n",
    "a.to_csv('only_reg.csv')"
   ]
  },
  {
   "cell_type": "code",
   "execution_count": null,
   "metadata": {},
   "outputs": [
    {
     "data": {
      "text/html": [
       "<div>\n",
       "<style scoped>\n",
       "    .dataframe tbody tr th:only-of-type {\n",
       "        vertical-align: middle;\n",
       "    }\n",
       "\n",
       "    .dataframe tbody tr th {\n",
       "        vertical-align: top;\n",
       "    }\n",
       "\n",
       "    .dataframe thead th {\n",
       "        text-align: right;\n",
       "    }\n",
       "</style>\n",
       "<table border=\"1\" class=\"dataframe\">\n",
       "  <thead>\n",
       "    <tr style=\"text-align: right;\">\n",
       "      <th></th>\n",
       "      <th>telephone_density</th>\n",
       "      <th>z-score</th>\n",
       "      <th>GtG</th>\n",
       "      <th>N</th>\n",
       "      <th>corr_v</th>\n",
       "      <th>corr_g</th>\n",
       "    </tr>\n",
       "  </thead>\n",
       "  <tbody>\n",
       "    <tr>\n",
       "      <th>7</th>\n",
       "      <td>high_td</td>\n",
       "      <td>-0.038900</td>\n",
       "      <td>5-&gt;7</td>\n",
       "      <td>747</td>\n",
       "      <td>0.842035</td>\n",
       "      <td>0.842553</td>\n",
       "    </tr>\n",
       "    <tr>\n",
       "      <th>9</th>\n",
       "      <td>Msk</td>\n",
       "      <td>1.094239</td>\n",
       "      <td>5-&gt;7</td>\n",
       "      <td>271</td>\n",
       "      <td>0.793358</td>\n",
       "      <td>0.765182</td>\n",
       "    </tr>\n",
       "    <tr>\n",
       "      <th>10</th>\n",
       "      <td>low_td</td>\n",
       "      <td>1.138867</td>\n",
       "      <td>5-&gt;7</td>\n",
       "      <td>119</td>\n",
       "      <td>0.857143</td>\n",
       "      <td>0.816754</td>\n",
       "    </tr>\n",
       "  </tbody>\n",
       "</table>\n",
       "</div>"
      ],
      "text/plain": [
       "   telephone_density   z-score   GtG    N    corr_v    corr_g\n",
       "7            high_td -0.038900  5->7  747  0.842035  0.842553\n",
       "9                Msk  1.094239  5->7  271  0.793358  0.765182\n",
       "10            low_td  1.138867  5->7  119  0.857143  0.816754"
      ]
     },
     "execution_count": 149,
     "metadata": {},
     "output_type": "execute_result"
    }
   ],
   "source": [
    "a[a['GtG'] == '5->7'].head()"
   ]
  },
  {
   "cell_type": "markdown",
   "metadata": {},
   "source": [
    "### сравниваем только по возрасту"
   ]
  },
  {
   "cell_type": "code",
   "execution_count": null,
   "metadata": {},
   "outputs": [],
   "source": [
    "ans = []\n",
    "# подсчет действий выборки стариков данного региона\n",
    "viborka = data[((data['age'] == '40 - 54 года') | (data['age'] == '54+'))]\n",
    "viborka = sessia_name(viborka)\n",
    "viborka = seesia_right_name(viborka)\n",
    "event_count = []\n",
    "for i in range(1, 8):\n",
    "    viborka['d_'+str(i)] = viborka['event_name'].apply(lambda x: x.count(str(i)))\n",
    "    if i != 6 and i != 3:\n",
    "        event_count.append(viborka['d_'+str(i)].sum())\n",
    " \n",
    "# подсчет действий молодых данного региона\n",
    "gsov = general_18_39\n",
    "gsov = sessia_name(gsov)\n",
    "gsov = seesia_right_name(gsov)\n",
    "\n",
    "event_count_g = []\n",
    "for i in range(1, 8):\n",
    "    gsov['d_'+str(i)] = gsov['event_name'].apply(lambda x: x.count(str(i)))\n",
    "    if i != 6 and i != 3: \n",
    "        event_count_g.append(gsov['d_'+str(i)].sum())\n",
    "convers_v = {}\n",
    "convers_g = {}\n",
    "          \n",
    "for i in range(1, 5):\n",
    "    if event_count[i] >= 100 and event_count[i - 1] >= 100:\n",
    "        convers_v[f\"{i}->{i + 1}\"] = event_count[i] / event_count[i - 1]\n",
    "        convers_g[f\"{i}->{i + 1}\"] = event_count_g[i] / event_count_g[i - 1]\n",
    "    else:\n",
    "        convers_v[f\"{i}->{i + 1}\"] = 'not enough'\n",
    "        convers_g[f\"{i}->{i + 1}\"] = 'not enough'\n",
    "\n",
    "for i in range(4):\n",
    "    if convers_v[f\"{i + 1}->{i + 2}\"] != 'not enough':\n",
    "        z = (convers_v[f\"{i + 1}->{i + 2}\"] - convers_g[f\"{i + 1}->{i + 2}\"]) \\\n",
    "        / ((convers_g[f\"{i + 1}->{i + 2}\"] * (1 - convers_g[f\"{i + 1}->{i + 2}\"]) / event_count[i]) ** (1 / 2))\n",
    "        ans.append([reg, z, f\"{i + 1}->{i + 2}\", event_count[i], convers_v[f\"{i + 1}->{i + 2}\"],\n",
    "                    convers_g[f\"{i + 1}->{i + 2}\"]])\n",
    "# подсчет действий "
   ]
  },
  {
   "cell_type": "code",
   "execution_count": null,
   "metadata": {},
   "outputs": [
    {
     "name": "stdout",
     "output_type": "stream",
     "text": [
      "['Spb', -1.5076419667236867, '1->2', 5912, 0.48832882273342354, 0.49813270260176773]\n",
      "['Spb', -1.8423703841596777, '2->3', 2887, 0.4911673016972636, 0.5083093839810071]\n",
      "['Spb', -0.3745072602408239, '3->4', 1418, 0.842031029619182, 0.8456243854473943]\n",
      "['Spb', 0.6372369272248263, '4->5', 1194, 0.8291457286432161, 0.8220930232558139]\n"
     ]
    }
   ],
   "source": [
    "print(*ans, sep='\\n')"
   ]
  },
  {
   "cell_type": "markdown",
   "metadata": {},
   "source": [
    "### сравниваем только по полу"
   ]
  },
  {
   "cell_type": "code",
   "execution_count": null,
   "metadata": {},
   "outputs": [
    {
     "name": "stdout",
     "output_type": "stream",
     "text": [
      "['Spb', -0.4271533456803065, '1->2', 11534, 0.49488468874631525, 0.4968733249955333]\n",
      "['Spb', 1.6461381345909978, '2->3', 5708, 0.509635599159075, 0.4987414599065085]\n",
      "['Spb', -1.067053679623494, '3->4', 2909, 0.8418700584393263, 0.8489545782263879]\n",
      "['Spb', -0.9014657114117758, '4->5', 2449, 0.8211514904042466, 0.8280254777070064]\n"
     ]
    }
   ],
   "source": [
    "ans = []\n",
    "# подсчет действий выборки стариков данного региона\n",
    "viborka = data[(data['gender'] == 'Male')]\n",
    "viborka = sessia_name(viborka)\n",
    "viborka = seesia_right_name(viborka)\n",
    "event_count = []\n",
    "for i in range(1, 8):\n",
    "    viborka['d_'+str(i)] = viborka['event_name'].apply(lambda x: x.count(str(i)))\n",
    "    if i != 6 and i != 3:\n",
    "        event_count.append(viborka['d_'+str(i)].sum())\n",
    " \n",
    "# подсчет действий молодых данного региона\n",
    "gsov = data[(data['gender'] == 'Female')]\n",
    "gsov = sessia_name(gsov)\n",
    "gsov = seesia_right_name(gsov)\n",
    "\n",
    "event_count_g = []\n",
    "for i in range(1, 8):\n",
    "    gsov['d_'+str(i)] = gsov['event_name'].apply(lambda x: x.count(str(i)))\n",
    "    if i != 6 and i != 3: \n",
    "        event_count_g.append(gsov['d_'+str(i)].sum())\n",
    "convers_v = {}\n",
    "convers_g = {}\n",
    "          \n",
    "for i in range(1, 5):\n",
    "    if event_count[i] >= 100 and event_count[i - 1] >= 100:\n",
    "        convers_v[f\"{i}->{i + 1}\"] = event_count[i] / event_count[i - 1]\n",
    "        convers_g[f\"{i}->{i + 1}\"] = event_count_g[i] / event_count_g[i - 1]\n",
    "    else:\n",
    "        convers_v[f\"{i}->{i + 1}\"] = 'not enough'\n",
    "        convers_g[f\"{i}->{i + 1}\"] = 'not enough'\n",
    "\n",
    "for i in range(4):\n",
    "    if convers_v[f\"{i + 1}->{i + 2}\"] != 'not enough':\n",
    "        z = (convers_v[f\"{i + 1}->{i + 2}\"] - convers_g[f\"{i + 1}->{i + 2}\"]) \\\n",
    "        / ((convers_g[f\"{i + 1}->{i + 2}\"] * (1 - convers_g[f\"{i + 1}->{i + 2}\"]) / event_count[i]) ** (1 / 2))\n",
    "        ans.append([reg, z, f\"{i + 1}->{i + 2}\", event_count[i], convers_v[f\"{i + 1}->{i + 2}\"],\n",
    "                    convers_g[f\"{i + 1}->{i + 2}\"]])\n",
    "# подсчет действий \n",
    "print(*ans, sep='\\n')"
   ]
  },
  {
   "cell_type": "code",
   "execution_count": null,
   "metadata": {},
   "outputs": [
    {
     "data": {
      "text/plain": [
       "array(['high_td', 'Msk', 'low_td', 'Spb'], dtype=object)"
      ]
     },
     "execution_count": 173,
     "metadata": {},
     "output_type": "execute_result"
    }
   ],
   "source": [
    "data.region_name.unique()"
   ]
  },
  {
   "cell_type": "markdown",
   "metadata": {},
   "source": [
    "### сравниваем только конверсии регионов"
   ]
  },
  {
   "cell_type": "code",
   "execution_count": null,
   "metadata": {},
   "outputs": [
    {
     "name": "stdout",
     "output_type": "stream",
     "text": [
      "msk {'1->2': 0.5151232262882748, '2->3': 0.47517216382747374, '3->4': 0.7871853546910755, '4->5': 0.7742248062015504}\n",
      "spb {'1->2': 0.4966292134831461, '2->3': 0.48114630467571645, '3->4': 0.8338557993730408, '4->5': 0.8157894736842105}\n",
      "high {'1->2': 0.49093644227153066, '2->3': 0.509575609008733, '3->4': 0.8698135898977751, '4->5': 0.8444521258209471}\n",
      "low {'1->2': 0.4661084529505582, '2->3': 0.504704875962361, '3->4': 0.8491525423728814, '4->5': 0.8243512974051896}\n"
     ]
    }
   ],
   "source": [
    "msk = data[data['region_name'] == 'Msk']\n",
    "spb = data[data['region_name'] == 'Spb']\n",
    "high = data[data['region_name'] == 'high_td']\n",
    "low = data[data['region_name'] == 'low_td']\n",
    "\n",
    "msk = sessia_name(msk)\n",
    "msk = seesia_right_name(msk)\n",
    "\n",
    "spb = sessia_name(spb)\n",
    "spb = seesia_right_name(spb)\n",
    "\n",
    "high = sessia_name(high)\n",
    "high = seesia_right_name(high)\n",
    "\n",
    "low = sessia_name(low)\n",
    "low = seesia_right_name(low)\n",
    "\n",
    "event_count_msk = []\n",
    "event_count_spb = []\n",
    "event_count_high = []\n",
    "event_count_low = []\n",
    "\n",
    "for i in range(1, 8):\n",
    "\n",
    "    msk['d_'+str(i)] = msk['event_name'].apply(lambda x: x.count(str(i)))\n",
    "    spb['d_'+str(i)] = spb['event_name'].apply(lambda x: x.count(str(i)))\n",
    "    high['d_'+str(i)] = high['event_name'].apply(lambda x: x.count(str(i)))\n",
    "    low['d_'+str(i)] = low['event_name'].apply(lambda x: x.count(str(i)))\n",
    "\n",
    "    if i != 6 and i != 3:\n",
    "        event_count_msk.append(msk['d_'+str(i)].sum())\n",
    "        event_count_spb.append(spb['d_'+str(i)].sum())\n",
    "        event_count_high.append(high['d_'+str(i)].sum())\n",
    "        event_count_low.append(low['d_'+str(i)].sum())\n",
    "    \n",
    "convers_msk = {}\n",
    "convers_spb = {}\n",
    "convers_high = {}\n",
    "convers_low = {}\n",
    "          \n",
    "for i in range(1, 5):\n",
    "    convers_msk[f\"{i}->{i + 1}\"] = event_count_msk[i] / event_count_msk[i - 1]\n",
    "    convers_spb[f\"{i}->{i + 1}\"] = event_count_spb[i] / event_count_spb[i - 1]\n",
    "    convers_high[f\"{i}->{i + 1}\"] = event_count_high[i] / event_count_high[i - 1]\n",
    "    convers_low[f\"{i}->{i + 1}\"] = event_count_low[i] / event_count_low[i - 1]\n",
    "\n",
    "print('msk', convers_msk)\n",
    "print('spb', convers_spb)\n",
    "print('high', convers_high)\n",
    "print('low', convers_low)  \n"
   ]
  },
  {
   "cell_type": "markdown",
   "metadata": {},
   "source": [
    "### сравниваем пожилых мужчин и женщин со всеми людьми 18-39"
   ]
  },
  {
   "cell_type": "code",
   "execution_count": null,
   "metadata": {},
   "outputs": [
    {
     "name": "stdout",
     "output_type": "stream",
     "text": [
      "['Male', 'low_td', -3.0459096118174336, '1->2', 335, 0.41492537313432837, 0.49813270260176773]\n",
      "['Female', 'high_td', 1.937723271011359, '4->5', 379, 0.8601583113456465, 0.8220930232558139]\n",
      "['Male', 'Msk', -1.8205879643414689, '3->4', 171, 0.7953216374269005, 0.8456243854473943]\n",
      "['Male', 'high_td', -1.2736120551525543, '1->2', 1813, 0.48317705460562604, 0.49813270260176773]\n",
      "['Male', 'high_td', -1.1677692628421683, '2->3', 876, 0.4885844748858447, 0.5083093839810071]\n",
      "['Female', 'Msk', -1.1178245070190511, '3->4', 167, 0.8143712574850299, 0.8456243854473943]\n",
      "['Male', 'high_td', 1.0799961835259853, '3->4', 428, 0.8644859813084113, 0.8456243854473943]\n",
      "['Male', 'Msk', -0.8530773643817214, '4->5', 136, 0.7941176470588235, 0.8220930232558139]\n",
      "['Female', 'Msk', -0.8530773643817214, '4->5', 136, 0.7941176470588235, 0.8220930232558139]\n",
      "['Female', 'Msk', -0.7400275528977853, '2->3', 342, 0.48830409356725146, 0.5083093839810071]\n",
      "['Male', 'Msk', 0.48564197277186777, '1->2', 658, 0.5075987841945289, 0.49813270260176773]\n",
      "['Female', 'high_td', 0.4653435784862935, '3->4', 444, 0.8536036036036037, 0.8456243854473943]\n",
      "['Female', 'low_td', -0.3740923246446582, '1->2', 328, 0.4878048780487805, 0.49813270260176773]\n",
      "['Female', 'high_td', 0.29329133579718214, '2->3', 865, 0.5132947976878612, 0.5083093839810071]\n",
      "['Female', 'Msk', -0.28121305386149653, '1->2', 694, 0.49279538904899134, 0.49813270260176773]\n",
      "['Female', 'high_td', 0.27549714557233995, '1->2', 1725, 0.5014492753623189, 0.49813270260176773]\n",
      "['Male', 'Msk', 0.13403996794887885, '2->3', 334, 0.5119760479041916, 0.5083093839810071]\n",
      "['Male', 'high_td', 0.11222821729961074, '4->5', 370, 0.8243243243243243, 0.8220930232558139]\n"
     ]
    }
   ],
   "source": [
    "ans = []\n",
    "for sex in gender:\n",
    "    for reg in region:\n",
    "        viborka = data[\n",
    "            ((data['age'] == '40 - 54 года') | (data['age'] == '54+')) & \n",
    "            (data['gender'] == sex) & (data['region_name'] == reg)\n",
    "        ]\n",
    "        # формируем список выборочных конверсий\n",
    "        viborka = sessia_name(viborka)\n",
    "        viborka = seesia_right_name(viborka)\n",
    "        event_count = []\n",
    "\n",
    "        for i in range(1, 8):\n",
    "            viborka['d_'+str(i)] = viborka['event_name'].apply(lambda x: x.count(str(i)))\n",
    "            if i != 6 and i != 3:\n",
    "                event_count.append(viborka['d_'+str(i)].sum())\n",
    "\n",
    "        if True:\n",
    "            # print(sex, reg, *event_count, '|    40+')\n",
    "            # получим выборочные конверсии для группы другого возраста из того же региона\n",
    "            gsov = general\n",
    "            gsov = sessia_name(gsov)\n",
    "            gsov = seesia_right_name(gsov)\n",
    "            event_count_g = []\n",
    "\n",
    "            for i in range(1, 8):\n",
    "                gsov['d_'+str(i)] = gsov['event_name'].apply(lambda x: x.count(str(i)))\n",
    "                if i != 6 and i != 3: \n",
    "                    event_count_g.append(gsov['d_'+str(i)].sum())\n",
    "            # 1 2 4 5 7 event_count\n",
    "            convers_v = {}\n",
    "            convers_g = {}\n",
    "            \n",
    "            for i in range(1, 5):\n",
    "                if event_count[i] >= 100 and event_count[i - 1] >= 100:\n",
    "                    convers_v[f\"{i}->{i + 1}\"] = event_count[i] / event_count[i - 1]\n",
    "                    convers_g[f\"{i}->{i + 1}\"] = event_count_g[i] / event_count_g[i - 1]\n",
    "                else:\n",
    "                    convers_v[f\"{i}->{i + 1}\"] = 'not enough'\n",
    "                    convers_g[f\"{i}->{i + 1}\"] = 'not enough'\n",
    "            \n",
    "            for i in range(4):\n",
    "                if convers_v[f\"{i + 1}->{i + 2}\"] != 'not enough':\n",
    "                    z = (convers_v[f\"{i + 1}->{i + 2}\"] - convers_g[f\"{i + 1}->{i + 2}\"]) \\\n",
    "                    / ((convers_g[f\"{i + 1}->{i + 2}\"] * (1 - convers_g[f\"{i + 1}->{i + 2}\"]) / event_count[i]) ** (1 / 2))\n",
    "                    # if z < -1.96 or z > 1.96:\n",
    "                    ans.append([sex, reg, z, f\"{i + 1}->{i + 2}\", event_count[i], convers_v[f\"{i + 1}->{i + 2}\"],\n",
    "                                convers_g[f\"{i + 1}->{i + 2}\"]])\n",
    "ans.sort(key=lambda x: abs(x[2]), reverse=True)\n",
    "print(*ans, sep='\\n')"
   ]
  },
  {
   "cell_type": "markdown",
   "metadata": {},
   "source": [
    "### сравним 1->7 у Male low_td и ген совокупности"
   ]
  },
  {
   "cell_type": "code",
   "execution_count": 243,
   "metadata": {},
   "outputs": [
    {
     "data": {
      "text/plain": [
       "-0.48196945337559155"
      ]
     },
     "execution_count": 243,
     "metadata": {},
     "output_type": "execute_result"
    }
   ],
   "source": [
    "viborka = data[\n",
    "            ((data['age'] == '40 - 54 года') | (data['age'] == '54+')) & \n",
    "            (data['gender'] == 'Male') & (data['region_name'] == 'low_td')\n",
    "        ]\n",
    "\n",
    "gen_1_7 = len(general[general['event_name'] == 'Покупка']) / \\\n",
    "    len(general[general['event_name'] == 'Посещение корзины с добавленными товарами'])\n",
    "vib_1_7 = len(viborka[viborka['event_name'] == 'Покупка']) / \\\n",
    "    len(viborka[viborka['event_name'] == 'Посещение корзины с добавленными товарами'])\n",
    "z = (vib_1_7 - gen_1_7) \\\n",
    "    / ((gen_1_7 * (1 - gen_1_7) / len(viborka[viborka['event_name'] == 'Посещение корзины с добавленными товарами'])) ** (1 / 2))\n",
    "z"
   ]
  },
  {
   "cell_type": "code",
   "execution_count": 244,
   "metadata": {},
   "outputs": [
    {
     "name": "stdout",
     "output_type": "stream",
     "text": [
      "Значение конверсии 1->7 в ген.совокупности 0.1891964225974084 \n",
      "Значение 40+ из low= 0.18207681365576103 \n",
      "Z-score= -0.48196945337559155\n"
     ]
    }
   ],
   "source": [
    "print('Значение конверсии 1->7 в ген.совокупности', gen_1_7, \"\\nЗначение 40+ из low=\", vib_1_7, '\\nZ-score=', z)"
   ]
  },
  {
   "cell_type": "markdown",
   "metadata": {},
   "source": [
    "### сравним 1->7 у Male high_td и ген совокупности"
   ]
  },
  {
   "cell_type": "code",
   "execution_count": 245,
   "metadata": {},
   "outputs": [],
   "source": [
    "viborka = data[\n",
    "            ((data['age'] == '40 - 54 года') | (data['age'] == '54+')) & \n",
    "            (data['gender'] == 'Male') & (data['region_name'] == 'high_td')\n",
    "        ]\n",
    "\n",
    "gen_1_7 = len(general[general['event_name'] == 'Покупка']) / \\\n",
    "    len(general[general['event_name'] == 'Посещение корзины с добавленными товарами'])\n",
    "vib_1_7 = len(viborka[viborka['event_name'] == 'Покупка']) / \\\n",
    "    len(viborka[viborka['event_name'] == 'Посещение корзины с добавленными товарами'])\n",
    "z = (vib_1_7 - gen_1_7) \\\n",
    "    / ((gen_1_7 * (1 - gen_1_7) / len(viborka[viborka['event_name'] == 'Посещение корзины с добавленными товарами'])) ** (1 / 2))"
   ]
  },
  {
   "cell_type": "code",
   "execution_count": 247,
   "metadata": {},
   "outputs": [
    {
     "name": "stdout",
     "output_type": "stream",
     "text": [
      "Значение конверсии в 1->7 ген.совокупности= 0.1891964225974084 \n",
      "Значение 40+ из high_td= 0.1967509025270758 \n",
      "Z-score= 1.2011415374038799\n"
     ]
    }
   ],
   "source": [
    "print('Значение конверсии в 1->7 ген.совокупности=', gen_1_7, \"\\nЗначение 40+ из high_td=\", vib_1_7, '\\nZ-score=', z)"
   ]
  },
  {
   "cell_type": "markdown",
   "metadata": {},
   "source": [
    "### сравним 2->7 у Male high_td и ген совокупности"
   ]
  },
  {
   "cell_type": "code",
   "execution_count": 263,
   "metadata": {},
   "outputs": [],
   "source": [
    "viborka = data[\n",
    "            ((data['age'] == '40 - 54 года') | (data['age'] == '54+')) & \n",
    "            (data['gender'] == 'Male') & (data['region_name'] == 'high_td')\n",
    "        ]\n",
    "\n",
    "gen_2_7 = len(general[general['event_name'] == 'Покупка']) / \\\n",
    "    len(general[general['event_name'] == 'Клик на кнопку Перейти к оформлению'])\n",
    "vib_2_7 = len(viborka[viborka['event_name'] == 'Покупка']) / \\\n",
    "    len(viborka[viborka['event_name'] == 'Клик на кнопку Перейти к оформлению'])\n",
    "z = (vib_2_7 - gen_2_7) \\\n",
    "    / ((gen_2_7 * (1 - gen_2_7) / len(viborka[viborka['event_name'] == 'Клик на кнопку Перейти к оформлению'])) ** (1 / 2))"
   ]
  },
  {
   "cell_type": "code",
   "execution_count": 264,
   "metadata": {},
   "outputs": [
    {
     "name": "stdout",
     "output_type": "stream",
     "text": [
      "Значение конверсии 2->7 в ген.совокупности= 0.6382514483485066 \n",
      "Значение 40+ 2-> 7 из high_td= 0.68125 \n",
      "Z-score= 2.9947704109258164\n"
     ]
    }
   ],
   "source": [
    "print('Значение конверсии 2->7 в ген.совокупности=', gen_2_7, \"\\nЗначение 40+ 2-> 7 из high_td=\", vib_2_7, '\\nZ-score=', z)"
   ]
  },
  {
   "cell_type": "markdown",
   "metadata": {},
   "source": [
    "### сравним 2->7 у Male low_td и ген совокупности"
   ]
  },
  {
   "cell_type": "code",
   "execution_count": 265,
   "metadata": {},
   "outputs": [],
   "source": [
    "viborka = data[\n",
    "            ((data['age'] == '40 - 54 года') | (data['age'] == '54+')) & \n",
    "            (data['gender'] == 'Male') & (data['region_name'] == 'low_td')\n",
    "        ]\n",
    "\n",
    "gen_2_7 = len(general[general['event_name'] == 'Покупка']) / \\\n",
    "    len(general[general['event_name'] == 'Клик на кнопку Перейти к оформлению'])\n",
    "vib_2_7 = len(viborka[viborka['event_name'] == 'Покупка']) / \\\n",
    "    len(viborka[viborka['event_name'] == 'Клик на кнопку Перейти к оформлению'])\n",
    "z = (vib_2_7 - gen_2_7) \\\n",
    "    / ((gen_2_7 * (1 - gen_2_7) / len(viborka[viborka['event_name'] == 'Клик на кнопку Перейти к оформлению'])) ** (1 / 2))"
   ]
  },
  {
   "cell_type": "code",
   "execution_count": 266,
   "metadata": {},
   "outputs": [
    {
     "name": "stdout",
     "output_type": "stream",
     "text": [
      "Значение конверсии 2->7 в ген.совокупности= 0.6382514483485066 \n",
      "Значение 40+ 2-> 7 из low_td= 0.6464646464646465 \n",
      "Z-score= 0.24051689522317704\n"
     ]
    }
   ],
   "source": [
    "print('Значение конверсии 2->7 в ген.совокупности=', gen_2_7, \"\\nЗначение 40+ 2-> 7 из low_td=\", vib_2_7, '\\nZ-score=', z)"
   ]
  },
  {
   "cell_type": "markdown",
   "metadata": {},
   "source": [
    "### сравним 4->7 у Male low_td и ген совокупности"
   ]
  },
  {
   "cell_type": "code",
   "execution_count": 267,
   "metadata": {},
   "outputs": [],
   "source": [
    "viborka = data[\n",
    "            ((data['age'] == '40 - 54 года') | (data['age'] == '54+')) & \n",
    "            (data['gender'] == 'Male') & (data['region_name'] == 'low_td')\n",
    "        ]\n",
    "\n",
    "gen_4_7 = len(general[general['event_name'] == 'Покупка']) / \\\n",
    "    len(general[general['event_name'] == 'Клик на кнопку Продолжить 1 (Экран ввода контактных данных)'])\n",
    "vib_4_7 = len(viborka[viborka['event_name'] == 'Покупка']) / \\\n",
    "    len(viborka[viborka['event_name'] == 'Клик на кнопку Продолжить 1 (Экран ввода контактных данных)'])\n",
    "z = (vib_4_7 - gen_4_7) \\\n",
    "    / ((gen_4_7 * (1 - gen_4_7) / len(viborka[viborka['event_name'] == 'Клик на кнопку Продолжить 1 (Экран ввода контактных данных)'])) ** (1 / 2))"
   ]
  },
  {
   "cell_type": "code",
   "execution_count": 268,
   "metadata": {},
   "outputs": [
    {
     "name": "stdout",
     "output_type": "stream",
     "text": [
      "Значение конверсии 4-> 7 в ген.совокупности= 0.1891964225974084 \n",
      "Значение 40+ 4-> 7 из low_td= 0.1967509025270758 \n",
      "Z-score= 1.039479294424401\n"
     ]
    }
   ],
   "source": [
    "print('Значение конверсии 4-> 7 в ген.совокупности=', gen_1_7, \"\\nЗначение 40+ 4-> 7 из low_td=\", vib_1_7, '\\nZ-score=', z)"
   ]
  }
 ],
 "metadata": {
  "kernelspec": {
   "display_name": "Python 3",
   "language": "python",
   "name": "python3"
  },
  "language_info": {
   "codemirror_mode": {
    "name": "ipython",
    "version": 3
   },
   "file_extension": ".py",
   "mimetype": "text/x-python",
   "name": "python",
   "nbconvert_exporter": "python",
   "pygments_lexer": "ipython3",
   "version": "3.12.0"
  }
 },
 "nbformat": 4,
 "nbformat_minor": 2
}
