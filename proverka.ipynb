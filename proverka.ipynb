{
 "cells": [
  {
   "cell_type": "code",
   "execution_count": 311,
   "metadata": {},
   "outputs": [],
   "source": [
    "import numpy as np\n",
    "import pandas as pd\n",
    "import matplotlib.pyplot as plt\n",
    "import seaborn as sns"
   ]
  },
  {
   "cell_type": "code",
   "execution_count": 319,
   "metadata": {},
   "outputs": [],
   "source": [
    "data['campaign'] = data['campaign'].apply(lambda x: 0 if x == '(not set)' else 1)"
   ]
  },
  {
   "cell_type": "markdown",
   "metadata": {},
   "source": [
    "### кол-во сессий у юзеров"
   ]
  },
  {
   "cell_type": "code",
   "execution_count": 322,
   "metadata": {},
   "outputs": [
    {
     "name": "stderr",
     "output_type": "stream",
     "text": [
      "C:\\Users\\Ульяна\\AppData\\Local\\Temp\\ipykernel_18116\\2323805512.py:1: DtypeWarning: Columns (5) have mixed types. Specify dtype option on import or set low_memory=False.\n",
      "  count_user = pd.read_csv(\"tele2_dataset.csv\", parse_dates=['date', 'event_time'], )\n"
     ]
    }
   ],
   "source": [
    "count_user = pd.read_csv(\"tele2_dataset.csv\", parse_dates=['date', 'event_time'], )\n",
    "count_user = count_user[['client_id', 'session_id']].drop_duplicates().drop('session_id', axis=1)\n",
    "count_user['sum'] = 1\n",
    "count_user = count_user.groupby('client_id', as_index=False).agg('sum')"
   ]
  },
  {
   "cell_type": "code",
   "execution_count": 323,
   "metadata": {},
   "outputs": [],
   "source": [
    "count_user['sum'] = 1\n",
    "count_user = count_user.groupby('client_id', as_index=False).agg('sum')"
   ]
  },
  {
   "cell_type": "code",
   "execution_count": 324,
   "metadata": {},
   "outputs": [
    {
     "data": {
      "text/html": [
       "<div>\n",
       "<style scoped>\n",
       "    .dataframe tbody tr th:only-of-type {\n",
       "        vertical-align: middle;\n",
       "    }\n",
       "\n",
       "    .dataframe tbody tr th {\n",
       "        vertical-align: top;\n",
       "    }\n",
       "\n",
       "    .dataframe thead th {\n",
       "        text-align: right;\n",
       "    }\n",
       "</style>\n",
       "<table border=\"1\" class=\"dataframe\">\n",
       "  <thead>\n",
       "    <tr style=\"text-align: right;\">\n",
       "      <th></th>\n",
       "      <th>client_id</th>\n",
       "      <th>sum</th>\n",
       "    </tr>\n",
       "  </thead>\n",
       "  <tbody>\n",
       "  </tbody>\n",
       "</table>\n",
       "</div>"
      ],
      "text/plain": [
       "Empty DataFrame\n",
       "Columns: [client_id, sum]\n",
       "Index: []"
      ]
     },
     "execution_count": 324,
     "metadata": {},
     "output_type": "execute_result"
    }
   ],
   "source": [
    "count_user[count_user['sum'] >= 2]"
   ]
  },
  {
   "cell_type": "code",
   "execution_count": 325,
   "metadata": {},
   "outputs": [],
   "source": [
    "count_user.reset_index(inplace=True)"
   ]
  },
  {
   "cell_type": "code",
   "execution_count": 326,
   "metadata": {},
   "outputs": [],
   "source": [
    "data = data.merge(count_user, left_on = 'client_id', right_on='client_id')"
   ]
  },
  {
   "cell_type": "code",
   "execution_count": 327,
   "metadata": {},
   "outputs": [],
   "source": [
    "data['sum'] = data['sum'].astype(int)\n",
    "data['sum'] = data['sum'].apply(lambda x: 'Мало' if x <= 1 else 'Много')"
   ]
  },
  {
   "cell_type": "markdown",
   "metadata": {},
   "source": [
    "### Проверка"
   ]
  },
  {
   "cell_type": "code",
   "execution_count": 331,
   "metadata": {},
   "outputs": [],
   "source": [
    "data['campaign'] = data['campaign'].apply(lambda x: 1 if x != '(not set)' else 0)"
   ]
  },
  {
   "cell_type": "code",
   "execution_count": 386,
   "metadata": {},
   "outputs": [
    {
     "data": {
      "text/html": [
       "<div>\n",
       "<style scoped>\n",
       "    .dataframe tbody tr th:only-of-type {\n",
       "        vertical-align: middle;\n",
       "    }\n",
       "\n",
       "    .dataframe tbody tr th {\n",
       "        vertical-align: top;\n",
       "    }\n",
       "\n",
       "    .dataframe thead th {\n",
       "        text-align: right;\n",
       "    }\n",
       "</style>\n",
       "<table border=\"1\" class=\"dataframe\">\n",
       "  <thead>\n",
       "    <tr style=\"text-align: right;\">\n",
       "      <th></th>\n",
       "      <th>date</th>\n",
       "      <th>campaign</th>\n",
       "      <th>source</th>\n",
       "      <th>medium</th>\n",
       "      <th>device</th>\n",
       "      <th>client_id</th>\n",
       "      <th>session_id</th>\n",
       "      <th>event_time</th>\n",
       "      <th>event_name</th>\n",
       "      <th>current_tariff</th>\n",
       "      <th>is_LSE_member</th>\n",
       "      <th>user_auth</th>\n",
       "      <th>user_type</th>\n",
       "      <th>region_name</th>\n",
       "      <th>age</th>\n",
       "      <th>gender</th>\n",
       "      <th>rfm_index</th>\n",
       "      <th>have_home_inet</th>\n",
       "      <th>index</th>\n",
       "      <th>sum</th>\n",
       "    </tr>\n",
       "  </thead>\n",
       "  <tbody>\n",
       "    <tr>\n",
       "      <th>10234</th>\n",
       "      <td>2022-11-01</td>\n",
       "      <td>1</td>\n",
       "      <td>yandex.ru</td>\n",
       "      <td>referral</td>\n",
       "      <td>mobile</td>\n",
       "      <td>1965746663.166725</td>\n",
       "      <td>4525337134927472698</td>\n",
       "      <td>2022-10-31 21:02:20</td>\n",
       "      <td>1</td>\n",
       "      <td>Супер онлайн</td>\n",
       "      <td>0.0</td>\n",
       "      <td>1</td>\n",
       "      <td>B2C</td>\n",
       "      <td>largest_regions</td>\n",
       "      <td>25 - 39 лет</td>\n",
       "      <td>Male</td>\n",
       "      <td>132.0</td>\n",
       "      <td>0.0</td>\n",
       "      <td>14371</td>\n",
       "      <td>Мало</td>\n",
       "    </tr>\n",
       "    <tr>\n",
       "      <th>10782</th>\n",
       "      <td>2022-11-01</td>\n",
       "      <td>1</td>\n",
       "      <td>(direct)</td>\n",
       "      <td>(none)</td>\n",
       "      <td>mobile</td>\n",
       "      <td>822315664.166725</td>\n",
       "      <td>3975410978899350186</td>\n",
       "      <td>2022-10-31 21:07:04</td>\n",
       "      <td>1</td>\n",
       "      <td>Супер онлайн+</td>\n",
       "      <td>0.0</td>\n",
       "      <td>1</td>\n",
       "      <td>B2C</td>\n",
       "      <td>standart_regions</td>\n",
       "      <td>До 18 лет</td>\n",
       "      <td>Female</td>\n",
       "      <td>343.0</td>\n",
       "      <td>0.0</td>\n",
       "      <td>5587</td>\n",
       "      <td>Мало</td>\n",
       "    </tr>\n",
       "    <tr>\n",
       "      <th>10158</th>\n",
       "      <td>2022-11-01</td>\n",
       "      <td>1</td>\n",
       "      <td>google</td>\n",
       "      <td>organic</td>\n",
       "      <td>mobile</td>\n",
       "      <td>706554935.166725</td>\n",
       "      <td>4092338976582514873</td>\n",
       "      <td>2022-10-31 21:07:21</td>\n",
       "      <td>1</td>\n",
       "      <td>NaN</td>\n",
       "      <td>NaN</td>\n",
       "      <td>0</td>\n",
       "      <td>NaN</td>\n",
       "      <td>largest_regions</td>\n",
       "      <td>25 - 39 лет</td>\n",
       "      <td>Female</td>\n",
       "      <td>NaN</td>\n",
       "      <td>NaN</td>\n",
       "      <td>4782</td>\n",
       "      <td>Мало</td>\n",
       "    </tr>\n",
       "    <tr>\n",
       "      <th>10434</th>\n",
       "      <td>2022-11-01</td>\n",
       "      <td>1</td>\n",
       "      <td>(direct)</td>\n",
       "      <td>(none)</td>\n",
       "      <td>mobile</td>\n",
       "      <td>34173418.166725</td>\n",
       "      <td>7073798098886996667</td>\n",
       "      <td>2022-10-31 21:11:16</td>\n",
       "      <td>1</td>\n",
       "      <td>Федеральный S 09_2022</td>\n",
       "      <td>1.0</td>\n",
       "      <td>1</td>\n",
       "      <td>B2C</td>\n",
       "      <td>small_regions</td>\n",
       "      <td>25 - 39 лет</td>\n",
       "      <td>Male</td>\n",
       "      <td>231.0</td>\n",
       "      <td>0.0</td>\n",
       "      <td>212</td>\n",
       "      <td>Мало</td>\n",
       "    </tr>\n",
       "    <tr>\n",
       "      <th>9586</th>\n",
       "      <td>2022-11-01</td>\n",
       "      <td>1</td>\n",
       "      <td>(direct)</td>\n",
       "      <td>(none)</td>\n",
       "      <td>mobile</td>\n",
       "      <td>1296417728.166725</td>\n",
       "      <td>5312861579931468639</td>\n",
       "      <td>2022-10-31 21:15:42</td>\n",
       "      <td>1</td>\n",
       "      <td>Супер онлайн+ 04_2022</td>\n",
       "      <td>1.0</td>\n",
       "      <td>1</td>\n",
       "      <td>B2C</td>\n",
       "      <td>largest_regions</td>\n",
       "      <td>25 - 39 лет</td>\n",
       "      <td>Female</td>\n",
       "      <td>231.0</td>\n",
       "      <td>0.0</td>\n",
       "      <td>8913</td>\n",
       "      <td>Мало</td>\n",
       "    </tr>\n",
       "  </tbody>\n",
       "</table>\n",
       "</div>"
      ],
      "text/plain": [
       "             date  campaign     source    medium  device          client_id  \\\n",
       "10234  2022-11-01         1  yandex.ru  referral  mobile  1965746663.166725   \n",
       "10782  2022-11-01         1   (direct)    (none)  mobile   822315664.166725   \n",
       "10158  2022-11-01         1     google   organic  mobile   706554935.166725   \n",
       "10434  2022-11-01         1   (direct)    (none)  mobile    34173418.166725   \n",
       "9586   2022-11-01         1   (direct)    (none)  mobile  1296417728.166725   \n",
       "\n",
       "                session_id           event_time  event_name  \\\n",
       "10234  4525337134927472698  2022-10-31 21:02:20           1   \n",
       "10782  3975410978899350186  2022-10-31 21:07:04           1   \n",
       "10158  4092338976582514873  2022-10-31 21:07:21           1   \n",
       "10434  7073798098886996667  2022-10-31 21:11:16           1   \n",
       "9586   5312861579931468639  2022-10-31 21:15:42           1   \n",
       "\n",
       "              current_tariff  is_LSE_member  user_auth user_type  \\\n",
       "10234           Супер онлайн            0.0          1       B2C   \n",
       "10782          Супер онлайн+            0.0          1       B2C   \n",
       "10158                    NaN            NaN          0       NaN   \n",
       "10434  Федеральный S 09_2022            1.0          1       B2C   \n",
       "9586   Супер онлайн+ 04_2022            1.0          1       B2C   \n",
       "\n",
       "            region_name          age  gender  rfm_index  have_home_inet  \\\n",
       "10234   largest_regions  25 - 39 лет    Male      132.0             0.0   \n",
       "10782  standart_regions    До 18 лет  Female      343.0             0.0   \n",
       "10158   largest_regions  25 - 39 лет  Female        NaN             NaN   \n",
       "10434     small_regions  25 - 39 лет    Male      231.0             0.0   \n",
       "9586    largest_regions  25 - 39 лет  Female      231.0             0.0   \n",
       "\n",
       "       index   sum  \n",
       "10234  14371  Мало  \n",
       "10782   5587  Мало  \n",
       "10158   4782  Мало  \n",
       "10434    212  Мало  \n",
       "9586    8913  Мало  "
      ]
     },
     "execution_count": 386,
     "metadata": {},
     "output_type": "execute_result"
    }
   ],
   "source": [
    "data.head()"
   ]
  },
  {
   "cell_type": "code",
   "execution_count": 385,
   "metadata": {},
   "outputs": [
    {
     "data": {
      "text/plain": [
       "array([1, 3, 2, 4, 5, 7, 6], dtype=int64)"
      ]
     },
     "execution_count": 385,
     "metadata": {},
     "output_type": "execute_result"
    }
   ],
   "source": [
    "data.event_name.unique()"
   ]
  },
  {
   "cell_type": "code",
   "execution_count": 368,
   "metadata": {},
   "outputs": [
    {
     "data": {
      "text/plain": [
       "campaign\n",
       "1    172828\n",
       "Name: count, dtype: int64"
      ]
     },
     "execution_count": 368,
     "metadata": {},
     "output_type": "execute_result"
    }
   ],
   "source": [
    "data.campaign.value_counts()"
   ]
  },
  {
   "cell_type": "code",
   "execution_count": 333,
   "metadata": {},
   "outputs": [
    {
     "data": {
      "text/plain": [
       "sum\n",
       "Мало    174185\n",
       "Name: count, dtype: int64"
      ]
     },
     "execution_count": 333,
     "metadata": {},
     "output_type": "execute_result"
    }
   ],
   "source": [
    "data['sum'].value_counts()"
   ]
  },
  {
   "cell_type": "code",
   "execution_count": 334,
   "metadata": {},
   "outputs": [],
   "source": [
    "sorted_df = data[['client_id', 'session_id']].groupby('session_id', as_index=False).agg(lambda x: tuple(set(x.to_list())))\n",
    "sorted_df = sorted_df[sorted_df['client_id'].apply(lambda x: len(x) > 1)]\n",
    "sorted_df_list = sorted_df['session_id'].to_list()\n",
    "\n",
    "data = data[data.session_id.apply(lambda x: x not in sorted_df_list)]"
   ]
  },
  {
   "cell_type": "code",
   "execution_count": 335,
   "metadata": {},
   "outputs": [],
   "source": [
    "data = data.sort_values('event_time')\n",
    "data['event_name'] = data.event_name.apply(lambda x: make_group(x))"
   ]
  },
  {
   "cell_type": "code",
   "execution_count": 336,
   "metadata": {},
   "outputs": [],
   "source": [
    "viborka = data[(data['campaign'] == 1) & (data['gender'] == 'Female') & (data['region_name'] == 'largest_regions')]"
   ]
  },
  {
   "cell_type": "code",
   "execution_count": 337,
   "metadata": {},
   "outputs": [
    {
     "data": {
      "text/plain": [
       "{1: {0: 2763, 2: 1711, 3: 1794, 4: 123, 5: 33, 6: 30, 7: 21},\n",
       " 2: {0: 420, 1: 234, 3: 212, 4: 1767, 5: 26, 6: 0, 7: 9},\n",
       " 3: {0: 717, 1: 501, 2: 870, 4: 8, 5: 0, 6: 0, 7: 0},\n",
       " 4: {0: 198, 1: 161, 2: 18, 3: 26, 5: 1559, 6: 5, 7: 11},\n",
       " 5: {0: 155, 1: 159, 2: 10, 3: 18, 4: 50, 6: 56, 7: 1175},\n",
       " 6: {0: 17, 1: 15, 2: 0, 3: 0, 4: 4, 5: 5, 7: 51},\n",
       " 7: {0: 1071, 1: 190, 2: 7, 3: 1, 4: 0, 5: 0, 6: 0}}"
      ]
     },
     "execution_count": 337,
     "metadata": {},
     "output_type": "execute_result"
    }
   ],
   "source": [
    "viborka = do_voronka_uliana(viborka)\n",
    "viborka"
   ]
  },
  {
   "cell_type": "code",
   "execution_count": 338,
   "metadata": {},
   "outputs": [
    {
     "data": {
      "text/plain": [
       "{1: {0: 15737, 2: 10037, 3: 10793, 4: 653, 5: 172, 6: 142, 7: 132},\n",
       " 2: {0: 1963, 1: 1159, 3: 1054, 4: 11484, 5: 213, 6: 3, 7: 70},\n",
       " 3: {0: 3975, 1: 2799, 2: 5483, 4: 36, 5: 3, 6: 0, 7: 4},\n",
       " 4: {0: 969, 1: 839, 2: 120, 3: 145, 5: 10418, 6: 13, 7: 80},\n",
       " 5: {0: 792, 1: 991, 2: 61, 3: 115, 4: 324, 6: 243, 7: 8328},\n",
       " 6: {0: 52, 1: 73, 2: 3, 3: 5, 4: 16, 5: 29, 7: 226},\n",
       " 7: {0: 6954, 1: 1867, 2: 17, 3: 5, 4: 1, 5: 3, 6: 0}}"
      ]
     },
     "execution_count": 338,
     "metadata": {},
     "output_type": "execute_result"
    }
   ],
   "source": [
    "gen_s = do_voronka_uliana(data)\n",
    "gen_s"
   ]
  },
  {
   "cell_type": "markdown",
   "metadata": {},
   "source": [
    "### работа с группами"
   ]
  },
  {
   "cell_type": "code",
   "execution_count": 339,
   "metadata": {},
   "outputs": [
    {
     "data": {
      "text/plain": [
       "{1: {0: 0.4178038549354856,\n",
       "  2: 0.2664737428981044,\n",
       "  3: 0.2865448945999044,\n",
       "  4: 0.017336590028142092,\n",
       "  5: 0.004566452503584134,\n",
       "  6: 0.0037699782297031807,\n",
       "  7: 0.003504486805076196},\n",
       " 2: {0: 0.1231029725322965,\n",
       "  1: 0.07268280446506961,\n",
       "  3: 0.06609808102345416,\n",
       "  4: 0.7201806095572557,\n",
       "  5: 0.013357581838705631,\n",
       "  6: 0.0001881349554747272,\n",
       "  7: 0.004389815627743635},\n",
       " 3: {0: 0.3231707317073171,\n",
       "  1: 0.2275609756097561,\n",
       "  2: 0.44577235772357726,\n",
       "  4: 0.002926829268292683,\n",
       "  5: 0.00024390243902439024,\n",
       "  6: 0.0,\n",
       "  7: 0.0003252032520325203},\n",
       " 4: {0: 0.07700254291163382,\n",
       "  1: 0.06667196439923713,\n",
       "  2: 0.009535918626827717,\n",
       "  3: 0.01152256834075016,\n",
       "  5: 0.8278766687857597,\n",
       "  6: 0.0010330578512396695,\n",
       "  7: 0.006357279084551812},\n",
       " 5: {0: 0.07296849087893864,\n",
       "  1: 0.09130274553160125,\n",
       "  2: 0.005620047908605122,\n",
       "  3: 0.010595172286714576,\n",
       "  4: 0.029850746268656716,\n",
       "  6: 0.022388059701492536,\n",
       "  7: 0.7672747374239911},\n",
       " 6: {0: 0.12871287128712872,\n",
       "  1: 0.1806930693069307,\n",
       "  2: 0.007425742574257425,\n",
       "  3: 0.012376237623762377,\n",
       "  4: 0.039603960396039604,\n",
       "  5: 0.07178217821782178,\n",
       "  7: 0.5594059405940595},\n",
       " 7: {0: 0.7860291624279416,\n",
       "  1: 0.2110319882446027,\n",
       "  2: 0.0019215553294902226,\n",
       "  3: 0.0005651633322030067,\n",
       "  4: 0.00011303266644060134,\n",
       "  5: 0.00033909799932180403,\n",
       "  6: 0.0}}"
      ]
     },
     "execution_count": 339,
     "metadata": {},
     "output_type": "execute_result"
    }
   ],
   "source": [
    "for val in gen_s.values():\n",
    "    sm = 0\n",
    "    for el in val.values():\n",
    "        sm += el\n",
    "    for el in val:\n",
    "        con = val[el]\n",
    "        val[el] = val[el] / sm"
   ]
  },
  {
   "cell_type": "code",
   "execution_count": 340,
   "metadata": {},
   "outputs": [],
   "source": [
    "sex_ = ['Male', 'Female']\n",
    "regs_ = ['largest_regions', 'big_regions', 'standart_regions', 'small_regions', 'mini_regions']\n",
    "reclms = [0, 1]"
   ]
  },
  {
   "cell_type": "code",
   "execution_count": 397,
   "metadata": {},
   "outputs": [
    {
     "name": "stdout",
     "output_type": "stream",
     "text": [
      "Пол / Группа регионов / Есть ли реклама / Размер выборки / первое д второе д Значение к в группе / Значение к в ген.сов / z\n"
     ]
    },
    {
     "name": "stderr",
     "output_type": "stream",
     "text": [
      "C:\\Users\\Ульяна\\AppData\\Local\\Temp\\ipykernel_18116\\2677945507.py:17: RuntimeWarning: invalid value encountered in scalar divide\n",
      "  z = (vib_con - gen_con) / ((gen_con * (1 - gen_con) / sm) ** (1 / 2))\n",
      "C:\\Users\\Ульяна\\AppData\\Local\\Temp\\ipykernel_18116\\2677945507.py:17: RuntimeWarning: invalid value encountered in scalar divide\n",
      "  z = (vib_con - gen_con) / ((gen_con * (1 - gen_con) / sm) ** (1 / 2))\n",
      "C:\\Users\\Ульяна\\AppData\\Local\\Temp\\ipykernel_18116\\2677945507.py:17: RuntimeWarning: invalid value encountered in scalar divide\n",
      "  z = (vib_con - gen_con) / ((gen_con * (1 - gen_con) / sm) ** (1 / 2))\n",
      "C:\\Users\\Ульяна\\AppData\\Local\\Temp\\ipykernel_18116\\2677945507.py:17: RuntimeWarning: invalid value encountered in scalar divide\n",
      "  z = (vib_con - gen_con) / ((gen_con * (1 - gen_con) / sm) ** (1 / 2))\n",
      "C:\\Users\\Ульяна\\AppData\\Local\\Temp\\ipykernel_18116\\2677945507.py:17: RuntimeWarning: invalid value encountered in scalar divide\n",
      "  z = (vib_con - gen_con) / ((gen_con * (1 - gen_con) / sm) ** (1 / 2))\n",
      "C:\\Users\\Ульяна\\AppData\\Local\\Temp\\ipykernel_18116\\2677945507.py:17: RuntimeWarning: invalid value encountered in scalar divide\n",
      "  z = (vib_con - gen_con) / ((gen_con * (1 - gen_con) / sm) ** (1 / 2))\n",
      "C:\\Users\\Ульяна\\AppData\\Local\\Temp\\ipykernel_18116\\2677945507.py:17: RuntimeWarning: invalid value encountered in scalar divide\n",
      "  z = (vib_con - gen_con) / ((gen_con * (1 - gen_con) / sm) ** (1 / 2))\n",
      "C:\\Users\\Ульяна\\AppData\\Local\\Temp\\ipykernel_18116\\2677945507.py:17: RuntimeWarning: invalid value encountered in scalar divide\n",
      "  z = (vib_con - gen_con) / ((gen_con * (1 - gen_con) / sm) ** (1 / 2))\n",
      "C:\\Users\\Ульяна\\AppData\\Local\\Temp\\ipykernel_18116\\2677945507.py:17: RuntimeWarning: invalid value encountered in scalar divide\n",
      "  z = (vib_con - gen_con) / ((gen_con * (1 - gen_con) / sm) ** (1 / 2))\n",
      "C:\\Users\\Ульяна\\AppData\\Local\\Temp\\ipykernel_18116\\2677945507.py:17: RuntimeWarning: invalid value encountered in scalar divide\n",
      "  z = (vib_con - gen_con) / ((gen_con * (1 - gen_con) / sm) ** (1 / 2))\n"
     ]
    }
   ],
   "source": [
    "print('Пол /', 'Группа регионов /', 'Есть ли реклама /', 'Размер выборки /', 'первое д', 'второе д', 'Значение к в группе /', 'Значение к в ген.сов /', 'z')\n",
    "ans = []\n",
    "for sex in sex_:\n",
    "    for reg in regs_:\n",
    "        for camp in reclms:\n",
    "            viborka = data[(data['campaign'] == camp) & (data['gender'] == sex) & (data['region_name'] == reg)]\n",
    "            viborka = do_voronka_uliana(viborka)\n",
    "            for key in viborka:\n",
    "                sm = 0\n",
    "                for el in viborka[key]:\n",
    "                    sm += viborka[key][el]\n",
    "                if sm != 0:\n",
    "                    for el in viborka[key]:\n",
    "                        viborka[key][el] = viborka[key][el] / sm\n",
    "                        vib_con = viborka[key][el]\n",
    "                        gen_con = gen_s[key][el]\n",
    "                        z = (vib_con - gen_con) / ((gen_con * (1 - gen_con) / sm) ** (1 / 2))\n",
    "                        if z > 1.96 or z < -1.96:\n",
    "                            if vib_con > 0 and vib_con > gen_con and el != 0:\n",
    "                                ans += [[sex, reg, camp, sm, key, el, vib_con, gen_con, z]]"
   ]
  },
  {
   "cell_type": "code",
   "execution_count": 403,
   "metadata": {},
   "outputs": [],
   "source": [
    "sex_ = ['Male', 'Female']\n",
    "regs_ = ['largest_regions', 'big_regions', 'standart_regions', 'small_regions', 'mini_regions']\n",
    "reclms = [1]"
   ]
  },
  {
   "cell_type": "code",
   "execution_count": 382,
   "metadata": {},
   "outputs": [],
   "source": [
    "ans.sort(key=lambda x: x[6], reverse=True)"
   ]
  },
  {
   "cell_type": "code",
   "execution_count": 383,
   "metadata": {},
   "outputs": [
    {
     "name": "stdout",
     "output_type": "stream",
     "text": [
      "['Female', 'small_regions', 1, 1617, 4, 5, 0.8886827458256029, 0.8278766687857597, 6.477378900693271]\n",
      "['Male', 'small_regions', 1, 1659, 4, 5, 0.8812537673297167, 0.8278766687857597, 5.759376404140455]\n",
      "['Female', 'small_regions', 1, 1486, 5, 7, 0.8405114401076716, 0.7672747374239911, 6.680992335718325]\n",
      "['Male', 'small_regions', 1, 1518, 5, 7, 0.813570487483531, 0.7672747374239911, 4.268544333112948]\n",
      "['Female', 'small_regions', 1, 1869, 2, 4, 0.8004280363830926, 0.7201806095572557, 7.728160819820442]\n",
      "['Female', 'big_regions', 1, 851, 5, 7, 0.7978848413631022, 0.7672747374239911, 2.1131599458614723]\n",
      "['Male', 'small_regions', 1, 1907, 2, 4, 0.795490298898794, 0.7201806095572557, 7.325994486816101]\n",
      "['Female', 'big_regions', 1, 1185, 2, 4, 0.7586497890295358, 0.7201806095572557, 2.9499352479300587]\n",
      "['Male', 'big_regions', 1, 1053, 2, 4, 0.7502374169040835, 0.7201806095572557, 2.172688262241644]\n",
      "['Female', 'big_regions', 1, 843, 3, 2, 0.5290628706998813, 0.44577235772357726, 4.86528925816868]\n",
      "['Female', 'small_regions', 1, 1293, 3, 2, 0.5034802784222738, 0.44577235772357726, 4.174784191388069]\n",
      "['Male', 'small_regions', 1, 1290, 3, 2, 0.4744186046511628, 0.44577235772357726, 2.069959878993535]\n",
      "['Female', 'mini_regions', 1, 2041, 1, 3, 0.31259186673199413, 0.2865448945999044, 2.602550019854948]\n",
      "['Male', 'small_regions', 1, 4004, 1, 2, 0.31193806193806195, 0.2664737428981044, 6.507028094689871]\n",
      "['Female', 'small_regions', 1, 3831, 1, 2, 0.3101018010963195, 0.2664737428981044, 6.107829659605977]\n",
      "['Male', 'small_regions', 1, 1286, 7, 1, 0.30870917573872475, 0.2110319882446027, 8.584396866831698]\n",
      "['Male', 'big_regions', 1, 2491, 1, 3, 0.30710558008831795, 0.2865448945999044, 2.2695763176594577]\n",
      "['Female', 'small_regions', 1, 3831, 1, 3, 0.301226833724876, 0.2865448945999044, 2.0098323509940252]\n",
      "['Female', 'small_regions', 1, 1295, 7, 1, 0.2648648648648649, 0.2110319882446027, 4.747649274851963]\n",
      "['Male', 'mini_regions', 1, 632, 5, 1, 0.125, 0.09130274553160125, 2.9410440558035837]\n",
      "['Male', 'largest_regions', 1, 1543, 5, 1, 0.11082307193778354, 0.09130274553160125, 2.662064119517605]\n",
      "['Female', 'largest_regions', 1, 2668, 2, 1, 0.08770614692653673, 0.07268280446506961, 2.9890245713877284]\n",
      "['Male', 'largest_regions', 1, 2651, 2, 3, 0.08638249717087891, 0.06609808102345416, 4.203609029066308]\n",
      "['Male', 'largest_regions', 1, 1936, 4, 1, 0.08574380165289257, 0.06667196439923713, 3.364003408976528]\n",
      "['Female', 'standart_regions', 1, 1421, 2, 3, 0.08374384236453201, 0.06609808102345416, 2.677271288704991]\n",
      "['Female', 'largest_regions', 1, 1978, 4, 1, 0.08139534883720931, 0.06667196439923713, 2.6250163589313678]\n",
      "['Female', 'largest_regions', 1, 2668, 2, 3, 0.07946026986506746, 0.06609808102345416, 2.7779566117513212]\n",
      "['Male', 'largest_regions', 1, 1543, 5, 6, 0.04277381723914452, 0.022388059701492536, 5.412754637004178]\n",
      "['Female', 'largest_regions', 1, 1623, 5, 6, 0.03450400492914356, 0.022388059701492536, 3.299324898340942]\n",
      "['Male', 'mini_regions', 1, 915, 2, 5, 0.02185792349726776, 0.013357581838705631, 2.239768413197094]\n",
      "['Male', 'small_regions', 1, 4004, 1, 4, 0.02147852147852148, 0.017336590028142092, 2.008009250556936]\n",
      "['Male', 'mini_regions', 1, 747, 4, 3, 0.020080321285140562, 0.01152256834075016, 2.191603675363036]\n",
      "['Male', 'largest_regions', 1, 1936, 4, 2, 0.01756198347107438, 0.009535918626827717, 3.6337471744780747]\n",
      "['Male', 'big_regions', 1, 889, 4, 7, 0.014623172103487065, 0.006357279084551812, 3.100915231327197]\n",
      "['Female', 'big_regions', 1, 987, 4, 7, 0.0121580547112462, 0.006357279084551812, 2.292946265461562]\n",
      "['Male', 'standart_regions', 1, 3763, 1, 7, 0.007440871644964125, 0.003504486805076196, 4.08615438518301]\n",
      "['Female', 'big_regions', 1, 2513, 1, 7, 0.005968961400716275, 0.003504486805076196, 2.0905988234106343]\n",
      "['Female', 'largest_regions', 1, 1269, 7, 2, 0.005516154452324665, 0.0019215553294902226, 2.923967154765087]\n",
      "['Female', 'largest_regions', 1, 1978, 4, 6, 0.0025278058645096056, 0.0010330578512396695, 2.069394301107275]\n",
      "['Female', 'big_regions', 1, 843, 3, 5, 0.002372479240806643, 0.00024390243902439024, 3.9577468286855546]\n",
      "['Male', 'mini_regions', 1, 490, 7, 5, 0.0020408163265306124, 0.00033909799932180403, 2.0459581648014016]\n",
      "['Male', 'small_regions', 1, 1286, 7, 5, 0.0015552099533437014, 0.00033909799932180403, 2.3686728095862013]\n",
      "['Female', 'standart_regions', 1, 713, 7, 4, 0.001402524544179523, 0.00011303266644060134, 3.2388134611805603]\n",
      "['Female', 'big_regions', 1, 729, 7, 4, 0.0013717421124828531, 0.00011303266644060134, 3.19677312368281]\n",
      "['Male', 'standart_regions', 1, 810, 7, 4, 0.0012345679012345679, 0.00011303266644060134, 3.002465261856456]\n",
      "['Female', 'small_regions', 1, 1295, 7, 4, 0.0007722007722007722, 0.00011303266644060134, 2.2312777234502894]\n",
      "['Male', 'largest_regions', 1, 2651, 2, 6, 0.0007544322897019992, 0.0001881349554747272, 2.1259619652289006]\n"
     ]
    }
   ],
   "source": [
    "print(*ans, sep='\\n')"
   ]
  },
  {
   "cell_type": "code",
   "execution_count": 434,
   "metadata": {},
   "outputs": [
    {
     "name": "stdout",
     "output_type": "stream",
     "text": [
      "Пол / Группа регионов / Есть ли реклама / Размер выборки / первое д второе д Значение к в группе / Значение к в ген.сов / z\n"
     ]
    },
    {
     "ename": "ZeroDivisionError",
     "evalue": "division by zero",
     "output_type": "error",
     "traceback": [
      "\u001b[1;31m---------------------------------------------------------------------------\u001b[0m",
      "\u001b[1;31mZeroDivisionError\u001b[0m                         Traceback (most recent call last)",
      "Cell \u001b[1;32mIn[434], line 10\u001b[0m\n\u001b[0;32m      8\u001b[0m col_buy \u001b[38;5;241m=\u001b[39m \u001b[38;5;28mlen\u001b[39m(viborka[viborka[\u001b[38;5;124m'\u001b[39m\u001b[38;5;124mevent_name\u001b[39m\u001b[38;5;124m'\u001b[39m] \u001b[38;5;241m==\u001b[39m \u001b[38;5;241m7\u001b[39m])\n\u001b[0;32m      9\u001b[0m col_start \u001b[38;5;241m=\u001b[39m \u001b[38;5;28mint\u001b[39m(\u001b[38;5;28mlen\u001b[39m(viborka[viborka[\u001b[38;5;124m'\u001b[39m\u001b[38;5;124mevent_name\u001b[39m\u001b[38;5;124m'\u001b[39m] \u001b[38;5;241m==\u001b[39m \u001b[38;5;241m1\u001b[39m]))\n\u001b[1;32m---> 10\u001b[0m vib_c \u001b[38;5;241m=\u001b[39m \u001b[43mcol_buy\u001b[49m\u001b[43m \u001b[49m\u001b[38;5;241;43m/\u001b[39;49m\u001b[43m \u001b[49m\u001b[43mcol_start\u001b[49m\n\u001b[0;32m     11\u001b[0m z \u001b[38;5;241m=\u001b[39m (vib_c \u001b[38;5;241m-\u001b[39m gen_c) \u001b[38;5;241m/\u001b[39m ((gen_c \u001b[38;5;241m*\u001b[39m (\u001b[38;5;241m1\u001b[39m \u001b[38;5;241m-\u001b[39m gen_c) \u001b[38;5;241m/\u001b[39m col_start) \u001b[38;5;241m*\u001b[39m\u001b[38;5;241m*\u001b[39m (\u001b[38;5;241m1\u001b[39m \u001b[38;5;241m/\u001b[39m \u001b[38;5;241m2\u001b[39m))\n\u001b[0;32m     12\u001b[0m \u001b[38;5;28;01mif\u001b[39;00m z \u001b[38;5;241m>\u001b[39m \u001b[38;5;241m1.96\u001b[39m \u001b[38;5;129;01mor\u001b[39;00m z \u001b[38;5;241m<\u001b[39m \u001b[38;5;241m-\u001b[39m\u001b[38;5;241m1.96\u001b[39m: \n",
      "\u001b[1;31mZeroDivisionError\u001b[0m: division by zero"
     ]
    }
   ],
   "source": [
    "print('Пол /', 'Группа регионов /', 'Есть ли реклама /', 'Размер выборки /', 'первое д', 'второе д', 'Значение к в группе /', 'Значение к в ген.сов /', 'z')\n",
    "ans_2 = []\n",
    "gen_c = (len(data[data['event_name'] == 7])) / (len(data[data['event_name'] == 1]) - 6700)\n",
    "for sex in sex_:\n",
    "    for reg in regs_:\n",
    "        for camp in reclms:\n",
    "            viborka = data[(data['campaign'] == camp) & (data['gender'] == sex) & (data['region_name'] == reg)]\n",
    "            col_buy = len(viborka[viborka['event_name'] == 7])\n",
    "            col_start = int(len(viborka[viborka['event_name'] == 1]) * 0.96)\n",
    "            vib_c = col_buy / col_start\n",
    "            z = (vib_c - gen_c) / ((gen_c * (1 - gen_c) / col_start) ** (1 / 2))\n",
    "            if z > 1.96 or z < -1.96: \n",
    "                print(sex, reg, camp, col_start, vib_c, gen_c, z)\n",
    "                if vib_c > gen_c:\n",
    "                    ans_2 += [[sex, reg, camp, col_start, vib_c, gen_c, z]]"
   ]
  },
  {
   "cell_type": "code",
   "execution_count": 420,
   "metadata": {},
   "outputs": [
    {
     "name": "stdout",
     "output_type": "stream",
     "text": [
      "['Female', 'small_regions', 1, 5208, 0.24865591397849462, 0.19096952430285763, 10.591180588696151]\n",
      "['Male', 'small_regions', 1, 5554, 0.23154483255311487, 0.19096952430285763, 7.69308076111026]\n",
      "['Female', 'big_regions', 1, 3362, 0.21683521713265913, 0.19096952430285763, 3.815561837484853]\n"
     ]
    }
   ],
   "source": [
    "ans_2.sort(key=lambda x: x[4], reverse=True)\n",
    "print(*ans_2, sep='\\n')"
   ]
  },
  {
   "cell_type": "code",
   "execution_count": 442,
   "metadata": {},
   "outputs": [
    {
     "name": "stderr",
     "output_type": "stream",
     "text": [
      "C:\\Users\\Ульяна\\AppData\\Local\\Temp\\ipykernel_18116\\2687037057.py:1: DtypeWarning: Columns (5) have mixed types. Specify dtype option on import or set low_memory=False.\n",
      "  for_nelli = pd.read_csv('tele2_dataset.csv')\n"
     ]
    },
    {
     "data": {
      "text/html": [
       "<div>\n",
       "<style scoped>\n",
       "    .dataframe tbody tr th:only-of-type {\n",
       "        vertical-align: middle;\n",
       "    }\n",
       "\n",
       "    .dataframe tbody tr th {\n",
       "        vertical-align: top;\n",
       "    }\n",
       "\n",
       "    .dataframe thead th {\n",
       "        text-align: right;\n",
       "    }\n",
       "</style>\n",
       "<table border=\"1\" class=\"dataframe\">\n",
       "  <thead>\n",
       "    <tr style=\"text-align: right;\">\n",
       "      <th></th>\n",
       "      <th>date</th>\n",
       "      <th>campaign</th>\n",
       "      <th>source</th>\n",
       "      <th>medium</th>\n",
       "      <th>device</th>\n",
       "      <th>client_id</th>\n",
       "      <th>session_id</th>\n",
       "      <th>event_time</th>\n",
       "      <th>event_name</th>\n",
       "      <th>current_tariff</th>\n",
       "      <th>is_LSE_member</th>\n",
       "      <th>user_auth</th>\n",
       "      <th>user_type</th>\n",
       "      <th>region_name</th>\n",
       "      <th>age</th>\n",
       "      <th>gender</th>\n",
       "      <th>rfm_index</th>\n",
       "      <th>have_home_inet</th>\n",
       "    </tr>\n",
       "  </thead>\n",
       "  <tbody>\n",
       "    <tr>\n",
       "      <th>0</th>\n",
       "      <td>2022-11-01</td>\n",
       "      <td>eshop_art_alw_sim_none_yandex_search_brand-pro...</td>\n",
       "      <td>yandex</td>\n",
       "      <td>cpc</td>\n",
       "      <td>desktop</td>\n",
       "      <td>117251283.164232</td>\n",
       "      <td>5988994287612526860</td>\n",
       "      <td>2022-11-01 12:23:11</td>\n",
       "      <td>Покупка</td>\n",
       "      <td>Мой разговор</td>\n",
       "      <td>0.0</td>\n",
       "      <td>1</td>\n",
       "      <td>B2C</td>\n",
       "      <td>TYUMEN</td>\n",
       "      <td>25 - 39 лет</td>\n",
       "      <td>Male</td>\n",
       "      <td>141.0</td>\n",
       "      <td>0.0</td>\n",
       "    </tr>\n",
       "    <tr>\n",
       "      <th>1</th>\n",
       "      <td>2022-11-01</td>\n",
       "      <td>eshop_art_alw_sim_none_yandex_search_brand-pro...</td>\n",
       "      <td>yandex</td>\n",
       "      <td>cpc</td>\n",
       "      <td>desktop</td>\n",
       "      <td>117251283.164232</td>\n",
       "      <td>5988994287612526860</td>\n",
       "      <td>2022-11-01 12:22:49</td>\n",
       "      <td>Клик на кнопку Продолжить 3 (Экран выбора спос...</td>\n",
       "      <td>Мой разговор</td>\n",
       "      <td>0.0</td>\n",
       "      <td>1</td>\n",
       "      <td>B2C</td>\n",
       "      <td>TYUMEN</td>\n",
       "      <td>25 - 39 лет</td>\n",
       "      <td>Male</td>\n",
       "      <td>141.0</td>\n",
       "      <td>0.0</td>\n",
       "    </tr>\n",
       "    <tr>\n",
       "      <th>2</th>\n",
       "      <td>2022-11-01</td>\n",
       "      <td>eshop_art_alw_sim_none_yandex_search_brand-pro...</td>\n",
       "      <td>yandex</td>\n",
       "      <td>cpc</td>\n",
       "      <td>desktop</td>\n",
       "      <td>117251283.164232</td>\n",
       "      <td>5988994287612526860</td>\n",
       "      <td>2022-11-01 12:22:19</td>\n",
       "      <td>Ввод контактного номера</td>\n",
       "      <td>Мой разговор</td>\n",
       "      <td>0.0</td>\n",
       "      <td>1</td>\n",
       "      <td>B2C</td>\n",
       "      <td>TYUMEN</td>\n",
       "      <td>25 - 39 лет</td>\n",
       "      <td>Male</td>\n",
       "      <td>141.0</td>\n",
       "      <td>0.0</td>\n",
       "    </tr>\n",
       "    <tr>\n",
       "      <th>3</th>\n",
       "      <td>2022-11-01</td>\n",
       "      <td>eshop_art_alw_sim_none_yandex_search_brand-pro...</td>\n",
       "      <td>yandex</td>\n",
       "      <td>cpc</td>\n",
       "      <td>desktop</td>\n",
       "      <td>117251283.164232</td>\n",
       "      <td>5988994287612526860</td>\n",
       "      <td>2022-11-01 12:22:59</td>\n",
       "      <td>Клик на кнопку Продолжить 4 (Экран выбора адре...</td>\n",
       "      <td>Мой разговор</td>\n",
       "      <td>0.0</td>\n",
       "      <td>1</td>\n",
       "      <td>B2C</td>\n",
       "      <td>TYUMEN</td>\n",
       "      <td>25 - 39 лет</td>\n",
       "      <td>Male</td>\n",
       "      <td>141.0</td>\n",
       "      <td>0.0</td>\n",
       "    </tr>\n",
       "    <tr>\n",
       "      <th>4</th>\n",
       "      <td>2022-11-01</td>\n",
       "      <td>eshop_art_alw_sim_none_yandex_search_brand-pro...</td>\n",
       "      <td>yandex</td>\n",
       "      <td>cpc</td>\n",
       "      <td>desktop</td>\n",
       "      <td>117251283.164232</td>\n",
       "      <td>5988994287612526860</td>\n",
       "      <td>2022-11-01 12:22:21</td>\n",
       "      <td>Ввод имени</td>\n",
       "      <td>Мой разговор</td>\n",
       "      <td>0.0</td>\n",
       "      <td>1</td>\n",
       "      <td>B2C</td>\n",
       "      <td>TYUMEN</td>\n",
       "      <td>25 - 39 лет</td>\n",
       "      <td>Male</td>\n",
       "      <td>141.0</td>\n",
       "      <td>0.0</td>\n",
       "    </tr>\n",
       "  </tbody>\n",
       "</table>\n",
       "</div>"
      ],
      "text/plain": [
       "         date                                           campaign  source  \\\n",
       "0  2022-11-01  eshop_art_alw_sim_none_yandex_search_brand-pro...  yandex   \n",
       "1  2022-11-01  eshop_art_alw_sim_none_yandex_search_brand-pro...  yandex   \n",
       "2  2022-11-01  eshop_art_alw_sim_none_yandex_search_brand-pro...  yandex   \n",
       "3  2022-11-01  eshop_art_alw_sim_none_yandex_search_brand-pro...  yandex   \n",
       "4  2022-11-01  eshop_art_alw_sim_none_yandex_search_brand-pro...  yandex   \n",
       "\n",
       "  medium   device         client_id           session_id           event_time  \\\n",
       "0    cpc  desktop  117251283.164232  5988994287612526860  2022-11-01 12:23:11   \n",
       "1    cpc  desktop  117251283.164232  5988994287612526860  2022-11-01 12:22:49   \n",
       "2    cpc  desktop  117251283.164232  5988994287612526860  2022-11-01 12:22:19   \n",
       "3    cpc  desktop  117251283.164232  5988994287612526860  2022-11-01 12:22:59   \n",
       "4    cpc  desktop  117251283.164232  5988994287612526860  2022-11-01 12:22:21   \n",
       "\n",
       "                                          event_name current_tariff  \\\n",
       "0                                            Покупка   Мой разговор   \n",
       "1  Клик на кнопку Продолжить 3 (Экран выбора спос...   Мой разговор   \n",
       "2                            Ввод контактного номера   Мой разговор   \n",
       "3  Клик на кнопку Продолжить 4 (Экран выбора адре...   Мой разговор   \n",
       "4                                         Ввод имени   Мой разговор   \n",
       "\n",
       "   is_LSE_member  user_auth user_type region_name          age gender  \\\n",
       "0            0.0          1       B2C      TYUMEN  25 - 39 лет   Male   \n",
       "1            0.0          1       B2C      TYUMEN  25 - 39 лет   Male   \n",
       "2            0.0          1       B2C      TYUMEN  25 - 39 лет   Male   \n",
       "3            0.0          1       B2C      TYUMEN  25 - 39 лет   Male   \n",
       "4            0.0          1       B2C      TYUMEN  25 - 39 лет   Male   \n",
       "\n",
       "   rfm_index  have_home_inet  \n",
       "0      141.0             0.0  \n",
       "1      141.0             0.0  \n",
       "2      141.0             0.0  \n",
       "3      141.0             0.0  \n",
       "4      141.0             0.0  "
      ]
     },
     "execution_count": 442,
     "metadata": {},
     "output_type": "execute_result"
    }
   ],
   "source": [
    "for_nelli = pd.read_csv('tele2_dataset.csv')\n",
    "for_nelli.head()"
   ]
  },
  {
   "cell_type": "code",
   "execution_count": 443,
   "metadata": {},
   "outputs": [
    {
     "data": {
      "text/plain": [
       "campaign\n",
       "(not set)                                                                           141744\n",
       "eshop_art_alw_sim_none_yandex_search_brand-common-tariffs_all-devices_none_rf         4251\n",
       "eshop_art_alw_sim_none_yandex_search_brand-shop_all-devices_none_rf                   3259\n",
       "4AQ1                                                                                  2600\n",
       "mar_art_flight_flight-8_oct-2022_yandex_search_kpz_all-devices_none_regions           2073\n",
       "                                                                                     ...  \n",
       "mar_art_dop_ponedelniki_oct-2022_yandex_search_general_all-devices_none_vld              1\n",
       "cbm_art_alw_premium_none_yandex_search_all_all-devices_none_rf                           1\n",
       "mar_art_dop_ponedelniki_oct-2022_yandex_search_brand_all-devices_none_rnd                1\n",
       "11_november_lineage                                                                      1\n",
       "eshop_art_alw_sim_none_yandex_search_brand-common-delivery_all-devices_test-B_rf         1\n",
       "Name: count, Length: 299, dtype: int64"
      ]
     },
     "execution_count": 443,
     "metadata": {},
     "output_type": "execute_result"
    }
   ],
   "source": [
    "for_nelli.campaign.value_counts()"
   ]
  },
  {
   "cell_type": "code",
   "execution_count": null,
   "metadata": {},
   "outputs": [],
   "source": [
    "'Female', 'small_regions', 1\n",
    "'Male', 'small_regions', 1\n",
    "'Female', 'big_regions', 1"
   ]
  },
  {
   "cell_type": "code",
   "execution_count": 449,
   "metadata": {},
   "outputs": [],
   "source": [
    "def region_groups(x):\n",
    "    if x in largest_regions:\n",
    "        return 'largest_regions'\n",
    "    elif x in big_regions:\n",
    "        return 'big_regions'\n",
    "    elif x in standart_regions:\n",
    "        return 'standart_regions'\n",
    "    elif x in small_regions:\n",
    "        return 'small_regions'\n",
    "    else:\n",
    "        return 'mini_regions'\n",
    "    \n",
    "\n",
    "for_nelli['region_name'] = for_nelli['region_name'].apply(region_groups)"
   ]
  },
  {
   "cell_type": "code",
   "execution_count": 458,
   "metadata": {},
   "outputs": [],
   "source": [
    "for_nelli[\n",
    "    (for_nelli['gender'] == 'Female') & (for_nelli['region_name'] == 'small_regions') & (for_nelli['campaign'] != '(not set)')\n",
    "][['client_id', 'event_name', 'event_time']].drop_duplicates().to_csv('for_nelli_conversions_1.csv')"
   ]
  },
  {
   "cell_type": "code",
   "execution_count": 459,
   "metadata": {},
   "outputs": [],
   "source": [
    "for_nelli[\n",
    "    (for_nelli['gender'] == 'Male') & (for_nelli['region_name'] == 'small_regions') & (for_nelli['campaign'] == '(not set)')\n",
    "][['client_id', 'event_name', 'event_time']].drop_duplicates().to_csv('for_nelli_conversions_2.csv')"
   ]
  },
  {
   "cell_type": "code",
   "execution_count": 460,
   "metadata": {},
   "outputs": [],
   "source": [
    "for_nelli[\n",
    "    (for_nelli['gender'] == 'Female') & (for_nelli['region_name'] == 'big_regions') & (for_nelli['campaign'] == '(not set)')\n",
    "][['client_id', 'event_name', 'event_time']].drop_duplicates().to_csv('for_nelli_conversions_3.csv')"
   ]
  },
  {
   "cell_type": "code",
   "execution_count": 461,
   "metadata": {},
   "outputs": [],
   "source": [
    "for key in viborka:\n",
    "    sm = 0\n",
    "    for el in viborka[key]:\n",
    "        sm += viborka[key][el]\n",
    "    for el in viborka[key]:\n",
    "        viborka[key][el] = viborka[key][el] / sm\n",
    "        vib_con = viborka[key][el]\n",
    "        gen_con = gen_s[key][el]\n",
    "        z = (vib_con - gen_con) / (gen_con * (1 - gen_con) / sm) ** (1 / 2)\n",
    "        if z > 1.96 or z < -1.96:\n",
    "            print('Есть значимые различия', vib_con, gen_con, key, el)"
   ]
  },
  {
   "cell_type": "code",
   "execution_count": null,
   "metadata": {},
   "outputs": [],
   "source": []
  }
 ],
 "metadata": {
  "kernelspec": {
   "display_name": "Python 3",
   "language": "python",
   "name": "python3"
  },
  "language_info": {
   "codemirror_mode": {
    "name": "ipython",
    "version": 3
   },
   "file_extension": ".py",
   "mimetype": "text/x-python",
   "name": "python",
   "nbconvert_exporter": "python",
   "pygments_lexer": "ipython3",
   "version": "3.12.0"
  }
 },
 "nbformat": 4,
 "nbformat_minor": 2
}
